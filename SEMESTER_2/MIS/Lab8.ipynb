{
 "cells": [
  {
   "cell_type": "markdown",
   "id": "bf09c7e3-ff12-4cca-a1f4-35b472c81ce8",
   "metadata": {},
   "source": [
    "Варіант 5) Insurances"
   ]
  },
  {
   "cell_type": "code",
   "execution_count": 1,
   "id": "f6e9be8b-7224-45d4-90d9-0ef040ea1364",
   "metadata": {},
   "outputs": [
    {
     "name": "stdout",
     "output_type": "stream",
     "text": [
      "env: OMP_NUM_THREADS=5\n"
     ]
    }
   ],
   "source": [
    "%env OMP_NUM_THREADS=5"
   ]
  },
  {
   "cell_type": "markdown",
   "id": "aaa9bca8-f69d-450e-91c1-0d3faad3e842",
   "metadata": {},
   "source": [
    "10. cluster the images\r\n",
    "using K-Means, and ensure that you have a good number of clusters\r\n",
    "(using one of the techniques discussed in this chapter). Visualize the\r\n",
    "cluster?\r"
   ]
  },
  {
   "cell_type": "code",
   "execution_count": 2,
   "id": "5329313c-2b74-493d-8058-f26939cabe19",
   "metadata": {},
   "outputs": [
    {
     "name": "stdout",
     "output_type": "stream",
     "text": [
      "(1338, 6)\n",
      "(1338,)\n"
     ]
    }
   ],
   "source": [
    "# Load data\n",
    "import pandas as pd\n",
    "import numpy as np\n",
    "from sklearn.pipeline import Pipeline\n",
    "from sklearn.compose import ColumnTransformer\n",
    "from sklearn.preprocessing import StandardScaler\n",
    "from sklearn.impute import SimpleImputer\n",
    "from sklearn.preprocessing import OneHotEncoder\n",
    "\n",
    "df = pd.read_csv(\"insurance.csv\")\n",
    "\n",
    "num_attribs = [\"age\", \"bmi\", \"children\", \"charges\"]\n",
    "cat_attribs = [\"sex\"]\n",
    "\n",
    "num_pipeline = Pipeline([\n",
    "        ('imputer', SimpleImputer(strategy=\"median\")),\n",
    "        ('std_scaler', StandardScaler()),\n",
    "    ])\n",
    "\n",
    "full_pipeline = ColumnTransformer([\n",
    "        (\"num\", num_pipeline, num_attribs),\n",
    "        (\"cat\", OneHotEncoder(), cat_attribs),\n",
    "    ])\n",
    "\n",
    "insurance = full_pipeline.fit_transform(df)\n",
    "labels = np.array([1 if x == \"yes\" else 0 for x in df[\"smoker\"]])\n",
    "\n",
    "print(insurance.shape)\n",
    "print(labels.shape)"
   ]
  },
  {
   "cell_type": "code",
   "execution_count": 3,
   "id": "6729e881-d887-4e6c-9479-3c9bbd880f2e",
   "metadata": {},
   "outputs": [
    {
     "name": "stdout",
     "output_type": "stream",
     "text": [
      "(802, 6)\n",
      "(802,)\n"
     ]
    }
   ],
   "source": [
    "# Split data\n",
    "from sklearn.model_selection import train_test_split\n",
    "\n",
    "X_train, X_test, y_train, y_test = train_test_split(insurance, labels, test_size=0.2, random_state=42)\n",
    "X_train, X_valid, y_train, y_valid = train_test_split(X_train,y_train,test_size = 0.25)\n",
    "print(X_train.shape)\n",
    "print(y_train.shape)"
   ]
  },
  {
   "cell_type": "code",
   "execution_count": 4,
   "id": "7fd88d86-7eb3-423a-a7fb-2f474b747eed",
   "metadata": {},
   "outputs": [
    {
     "name": "stderr",
     "output_type": "stream",
     "text": [
      "D:\\programming\\anaconda\\Lib\\site-packages\\sklearn\\cluster\\_kmeans.py:870: FutureWarning: The default value of `n_init` will change from 10 to 'auto' in 1.4. Set the value of `n_init` explicitly to suppress the warning\n",
      "  warnings.warn(\n",
      "D:\\programming\\anaconda\\Lib\\site-packages\\sklearn\\cluster\\_kmeans.py:1382: UserWarning: KMeans is known to have a memory leak on Windows with MKL, when there are less chunks than available threads. You can avoid it by setting the environment variable OMP_NUM_THREADS=4.\n",
      "  warnings.warn(\n",
      "D:\\programming\\anaconda\\Lib\\site-packages\\sklearn\\cluster\\_kmeans.py:870: FutureWarning: The default value of `n_init` will change from 10 to 'auto' in 1.4. Set the value of `n_init` explicitly to suppress the warning\n",
      "  warnings.warn(\n",
      "D:\\programming\\anaconda\\Lib\\site-packages\\sklearn\\cluster\\_kmeans.py:1382: UserWarning: KMeans is known to have a memory leak on Windows with MKL, when there are less chunks than available threads. You can avoid it by setting the environment variable OMP_NUM_THREADS=4.\n",
      "  warnings.warn(\n",
      "D:\\programming\\anaconda\\Lib\\site-packages\\sklearn\\cluster\\_kmeans.py:870: FutureWarning: The default value of `n_init` will change from 10 to 'auto' in 1.4. Set the value of `n_init` explicitly to suppress the warning\n",
      "  warnings.warn(\n",
      "D:\\programming\\anaconda\\Lib\\site-packages\\sklearn\\cluster\\_kmeans.py:1382: UserWarning: KMeans is known to have a memory leak on Windows with MKL, when there are less chunks than available threads. You can avoid it by setting the environment variable OMP_NUM_THREADS=4.\n",
      "  warnings.warn(\n",
      "D:\\programming\\anaconda\\Lib\\site-packages\\sklearn\\cluster\\_kmeans.py:870: FutureWarning: The default value of `n_init` will change from 10 to 'auto' in 1.4. Set the value of `n_init` explicitly to suppress the warning\n",
      "  warnings.warn(\n",
      "D:\\programming\\anaconda\\Lib\\site-packages\\sklearn\\cluster\\_kmeans.py:1382: UserWarning: KMeans is known to have a memory leak on Windows with MKL, when there are less chunks than available threads. You can avoid it by setting the environment variable OMP_NUM_THREADS=4.\n",
      "  warnings.warn(\n",
      "D:\\programming\\anaconda\\Lib\\site-packages\\sklearn\\cluster\\_kmeans.py:870: FutureWarning: The default value of `n_init` will change from 10 to 'auto' in 1.4. Set the value of `n_init` explicitly to suppress the warning\n",
      "  warnings.warn(\n",
      "D:\\programming\\anaconda\\Lib\\site-packages\\sklearn\\cluster\\_kmeans.py:1382: UserWarning: KMeans is known to have a memory leak on Windows with MKL, when there are less chunks than available threads. You can avoid it by setting the environment variable OMP_NUM_THREADS=4.\n",
      "  warnings.warn(\n",
      "D:\\programming\\anaconda\\Lib\\site-packages\\sklearn\\cluster\\_kmeans.py:870: FutureWarning: The default value of `n_init` will change from 10 to 'auto' in 1.4. Set the value of `n_init` explicitly to suppress the warning\n",
      "  warnings.warn(\n",
      "D:\\programming\\anaconda\\Lib\\site-packages\\sklearn\\cluster\\_kmeans.py:1382: UserWarning: KMeans is known to have a memory leak on Windows with MKL, when there are less chunks than available threads. You can avoid it by setting the environment variable OMP_NUM_THREADS=4.\n",
      "  warnings.warn(\n",
      "D:\\programming\\anaconda\\Lib\\site-packages\\sklearn\\cluster\\_kmeans.py:870: FutureWarning: The default value of `n_init` will change from 10 to 'auto' in 1.4. Set the value of `n_init` explicitly to suppress the warning\n",
      "  warnings.warn(\n",
      "D:\\programming\\anaconda\\Lib\\site-packages\\sklearn\\cluster\\_kmeans.py:1382: UserWarning: KMeans is known to have a memory leak on Windows with MKL, when there are less chunks than available threads. You can avoid it by setting the environment variable OMP_NUM_THREADS=4.\n",
      "  warnings.warn(\n",
      "D:\\programming\\anaconda\\Lib\\site-packages\\sklearn\\cluster\\_kmeans.py:870: FutureWarning: The default value of `n_init` will change from 10 to 'auto' in 1.4. Set the value of `n_init` explicitly to suppress the warning\n",
      "  warnings.warn(\n",
      "D:\\programming\\anaconda\\Lib\\site-packages\\sklearn\\cluster\\_kmeans.py:1382: UserWarning: KMeans is known to have a memory leak on Windows with MKL, when there are less chunks than available threads. You can avoid it by setting the environment variable OMP_NUM_THREADS=4.\n",
      "  warnings.warn(\n",
      "D:\\programming\\anaconda\\Lib\\site-packages\\sklearn\\cluster\\_kmeans.py:870: FutureWarning: The default value of `n_init` will change from 10 to 'auto' in 1.4. Set the value of `n_init` explicitly to suppress the warning\n",
      "  warnings.warn(\n",
      "D:\\programming\\anaconda\\Lib\\site-packages\\sklearn\\cluster\\_kmeans.py:1382: UserWarning: KMeans is known to have a memory leak on Windows with MKL, when there are less chunks than available threads. You can avoid it by setting the environment variable OMP_NUM_THREADS=4.\n",
      "  warnings.warn(\n",
      "D:\\programming\\anaconda\\Lib\\site-packages\\sklearn\\cluster\\_kmeans.py:870: FutureWarning: The default value of `n_init` will change from 10 to 'auto' in 1.4. Set the value of `n_init` explicitly to suppress the warning\n",
      "  warnings.warn(\n",
      "D:\\programming\\anaconda\\Lib\\site-packages\\sklearn\\cluster\\_kmeans.py:1382: UserWarning: KMeans is known to have a memory leak on Windows with MKL, when there are less chunks than available threads. You can avoid it by setting the environment variable OMP_NUM_THREADS=4.\n",
      "  warnings.warn(\n",
      "D:\\programming\\anaconda\\Lib\\site-packages\\sklearn\\cluster\\_kmeans.py:870: FutureWarning: The default value of `n_init` will change from 10 to 'auto' in 1.4. Set the value of `n_init` explicitly to suppress the warning\n",
      "  warnings.warn(\n",
      "D:\\programming\\anaconda\\Lib\\site-packages\\sklearn\\cluster\\_kmeans.py:1382: UserWarning: KMeans is known to have a memory leak on Windows with MKL, when there are less chunks than available threads. You can avoid it by setting the environment variable OMP_NUM_THREADS=4.\n",
      "  warnings.warn(\n",
      "D:\\programming\\anaconda\\Lib\\site-packages\\sklearn\\cluster\\_kmeans.py:870: FutureWarning: The default value of `n_init` will change from 10 to 'auto' in 1.4. Set the value of `n_init` explicitly to suppress the warning\n",
      "  warnings.warn(\n",
      "D:\\programming\\anaconda\\Lib\\site-packages\\sklearn\\cluster\\_kmeans.py:1382: UserWarning: KMeans is known to have a memory leak on Windows with MKL, when there are less chunks than available threads. You can avoid it by setting the environment variable OMP_NUM_THREADS=4.\n",
      "  warnings.warn(\n",
      "D:\\programming\\anaconda\\Lib\\site-packages\\sklearn\\cluster\\_kmeans.py:870: FutureWarning: The default value of `n_init` will change from 10 to 'auto' in 1.4. Set the value of `n_init` explicitly to suppress the warning\n",
      "  warnings.warn(\n",
      "D:\\programming\\anaconda\\Lib\\site-packages\\sklearn\\cluster\\_kmeans.py:1382: UserWarning: KMeans is known to have a memory leak on Windows with MKL, when there are less chunks than available threads. You can avoid it by setting the environment variable OMP_NUM_THREADS=4.\n",
      "  warnings.warn(\n",
      "D:\\programming\\anaconda\\Lib\\site-packages\\sklearn\\cluster\\_kmeans.py:870: FutureWarning: The default value of `n_init` will change from 10 to 'auto' in 1.4. Set the value of `n_init` explicitly to suppress the warning\n",
      "  warnings.warn(\n",
      "D:\\programming\\anaconda\\Lib\\site-packages\\sklearn\\cluster\\_kmeans.py:1382: UserWarning: KMeans is known to have a memory leak on Windows with MKL, when there are less chunks than available threads. You can avoid it by setting the environment variable OMP_NUM_THREADS=4.\n",
      "  warnings.warn(\n",
      "D:\\programming\\anaconda\\Lib\\site-packages\\sklearn\\cluster\\_kmeans.py:870: FutureWarning: The default value of `n_init` will change from 10 to 'auto' in 1.4. Set the value of `n_init` explicitly to suppress the warning\n",
      "  warnings.warn(\n",
      "D:\\programming\\anaconda\\Lib\\site-packages\\sklearn\\cluster\\_kmeans.py:1382: UserWarning: KMeans is known to have a memory leak on Windows with MKL, when there are less chunks than available threads. You can avoid it by setting the environment variable OMP_NUM_THREADS=4.\n",
      "  warnings.warn(\n",
      "D:\\programming\\anaconda\\Lib\\site-packages\\sklearn\\cluster\\_kmeans.py:870: FutureWarning: The default value of `n_init` will change from 10 to 'auto' in 1.4. Set the value of `n_init` explicitly to suppress the warning\n",
      "  warnings.warn(\n",
      "D:\\programming\\anaconda\\Lib\\site-packages\\sklearn\\cluster\\_kmeans.py:1382: UserWarning: KMeans is known to have a memory leak on Windows with MKL, when there are less chunks than available threads. You can avoid it by setting the environment variable OMP_NUM_THREADS=4.\n",
      "  warnings.warn(\n",
      "D:\\programming\\anaconda\\Lib\\site-packages\\sklearn\\cluster\\_kmeans.py:870: FutureWarning: The default value of `n_init` will change from 10 to 'auto' in 1.4. Set the value of `n_init` explicitly to suppress the warning\n",
      "  warnings.warn(\n",
      "D:\\programming\\anaconda\\Lib\\site-packages\\sklearn\\cluster\\_kmeans.py:1382: UserWarning: KMeans is known to have a memory leak on Windows with MKL, when there are less chunks than available threads. You can avoid it by setting the environment variable OMP_NUM_THREADS=4.\n",
      "  warnings.warn(\n",
      "D:\\programming\\anaconda\\Lib\\site-packages\\sklearn\\cluster\\_kmeans.py:870: FutureWarning: The default value of `n_init` will change from 10 to 'auto' in 1.4. Set the value of `n_init` explicitly to suppress the warning\n",
      "  warnings.warn(\n",
      "D:\\programming\\anaconda\\Lib\\site-packages\\sklearn\\cluster\\_kmeans.py:1382: UserWarning: KMeans is known to have a memory leak on Windows with MKL, when there are less chunks than available threads. You can avoid it by setting the environment variable OMP_NUM_THREADS=4.\n",
      "  warnings.warn(\n",
      "D:\\programming\\anaconda\\Lib\\site-packages\\sklearn\\cluster\\_kmeans.py:870: FutureWarning: The default value of `n_init` will change from 10 to 'auto' in 1.4. Set the value of `n_init` explicitly to suppress the warning\n",
      "  warnings.warn(\n",
      "D:\\programming\\anaconda\\Lib\\site-packages\\sklearn\\cluster\\_kmeans.py:1382: UserWarning: KMeans is known to have a memory leak on Windows with MKL, when there are less chunks than available threads. You can avoid it by setting the environment variable OMP_NUM_THREADS=4.\n",
      "  warnings.warn(\n",
      "D:\\programming\\anaconda\\Lib\\site-packages\\sklearn\\cluster\\_kmeans.py:870: FutureWarning: The default value of `n_init` will change from 10 to 'auto' in 1.4. Set the value of `n_init` explicitly to suppress the warning\n",
      "  warnings.warn(\n",
      "D:\\programming\\anaconda\\Lib\\site-packages\\sklearn\\cluster\\_kmeans.py:1382: UserWarning: KMeans is known to have a memory leak on Windows with MKL, when there are less chunks than available threads. You can avoid it by setting the environment variable OMP_NUM_THREADS=4.\n",
      "  warnings.warn(\n",
      "D:\\programming\\anaconda\\Lib\\site-packages\\sklearn\\cluster\\_kmeans.py:870: FutureWarning: The default value of `n_init` will change from 10 to 'auto' in 1.4. Set the value of `n_init` explicitly to suppress the warning\n",
      "  warnings.warn(\n",
      "D:\\programming\\anaconda\\Lib\\site-packages\\sklearn\\cluster\\_kmeans.py:1382: UserWarning: KMeans is known to have a memory leak on Windows with MKL, when there are less chunks than available threads. You can avoid it by setting the environment variable OMP_NUM_THREADS=4.\n",
      "  warnings.warn(\n",
      "D:\\programming\\anaconda\\Lib\\site-packages\\sklearn\\cluster\\_kmeans.py:870: FutureWarning: The default value of `n_init` will change from 10 to 'auto' in 1.4. Set the value of `n_init` explicitly to suppress the warning\n",
      "  warnings.warn(\n",
      "D:\\programming\\anaconda\\Lib\\site-packages\\sklearn\\cluster\\_kmeans.py:1382: UserWarning: KMeans is known to have a memory leak on Windows with MKL, when there are less chunks than available threads. You can avoid it by setting the environment variable OMP_NUM_THREADS=4.\n",
      "  warnings.warn(\n",
      "D:\\programming\\anaconda\\Lib\\site-packages\\sklearn\\cluster\\_kmeans.py:870: FutureWarning: The default value of `n_init` will change from 10 to 'auto' in 1.4. Set the value of `n_init` explicitly to suppress the warning\n",
      "  warnings.warn(\n",
      "D:\\programming\\anaconda\\Lib\\site-packages\\sklearn\\cluster\\_kmeans.py:1382: UserWarning: KMeans is known to have a memory leak on Windows with MKL, when there are less chunks than available threads. You can avoid it by setting the environment variable OMP_NUM_THREADS=4.\n",
      "  warnings.warn(\n",
      "D:\\programming\\anaconda\\Lib\\site-packages\\sklearn\\cluster\\_kmeans.py:870: FutureWarning: The default value of `n_init` will change from 10 to 'auto' in 1.4. Set the value of `n_init` explicitly to suppress the warning\n",
      "  warnings.warn(\n",
      "D:\\programming\\anaconda\\Lib\\site-packages\\sklearn\\cluster\\_kmeans.py:1382: UserWarning: KMeans is known to have a memory leak on Windows with MKL, when there are less chunks than available threads. You can avoid it by setting the environment variable OMP_NUM_THREADS=4.\n",
      "  warnings.warn(\n",
      "D:\\programming\\anaconda\\Lib\\site-packages\\sklearn\\cluster\\_kmeans.py:870: FutureWarning: The default value of `n_init` will change from 10 to 'auto' in 1.4. Set the value of `n_init` explicitly to suppress the warning\n",
      "  warnings.warn(\n",
      "D:\\programming\\anaconda\\Lib\\site-packages\\sklearn\\cluster\\_kmeans.py:1382: UserWarning: KMeans is known to have a memory leak on Windows with MKL, when there are less chunks than available threads. You can avoid it by setting the environment variable OMP_NUM_THREADS=4.\n",
      "  warnings.warn(\n",
      "D:\\programming\\anaconda\\Lib\\site-packages\\sklearn\\cluster\\_kmeans.py:870: FutureWarning: The default value of `n_init` will change from 10 to 'auto' in 1.4. Set the value of `n_init` explicitly to suppress the warning\n",
      "  warnings.warn(\n",
      "D:\\programming\\anaconda\\Lib\\site-packages\\sklearn\\cluster\\_kmeans.py:1382: UserWarning: KMeans is known to have a memory leak on Windows with MKL, when there are less chunks than available threads. You can avoid it by setting the environment variable OMP_NUM_THREADS=4.\n",
      "  warnings.warn(\n",
      "D:\\programming\\anaconda\\Lib\\site-packages\\sklearn\\cluster\\_kmeans.py:870: FutureWarning: The default value of `n_init` will change from 10 to 'auto' in 1.4. Set the value of `n_init` explicitly to suppress the warning\n",
      "  warnings.warn(\n",
      "D:\\programming\\anaconda\\Lib\\site-packages\\sklearn\\cluster\\_kmeans.py:1382: UserWarning: KMeans is known to have a memory leak on Windows with MKL, when there are less chunks than available threads. You can avoid it by setting the environment variable OMP_NUM_THREADS=4.\n",
      "  warnings.warn(\n",
      "D:\\programming\\anaconda\\Lib\\site-packages\\sklearn\\cluster\\_kmeans.py:870: FutureWarning: The default value of `n_init` will change from 10 to 'auto' in 1.4. Set the value of `n_init` explicitly to suppress the warning\n",
      "  warnings.warn(\n",
      "D:\\programming\\anaconda\\Lib\\site-packages\\sklearn\\cluster\\_kmeans.py:1382: UserWarning: KMeans is known to have a memory leak on Windows with MKL, when there are less chunks than available threads. You can avoid it by setting the environment variable OMP_NUM_THREADS=4.\n",
      "  warnings.warn(\n",
      "D:\\programming\\anaconda\\Lib\\site-packages\\sklearn\\cluster\\_kmeans.py:870: FutureWarning: The default value of `n_init` will change from 10 to 'auto' in 1.4. Set the value of `n_init` explicitly to suppress the warning\n",
      "  warnings.warn(\n",
      "D:\\programming\\anaconda\\Lib\\site-packages\\sklearn\\cluster\\_kmeans.py:1382: UserWarning: KMeans is known to have a memory leak on Windows with MKL, when there are less chunks than available threads. You can avoid it by setting the environment variable OMP_NUM_THREADS=4.\n",
      "  warnings.warn(\n",
      "D:\\programming\\anaconda\\Lib\\site-packages\\sklearn\\cluster\\_kmeans.py:870: FutureWarning: The default value of `n_init` will change from 10 to 'auto' in 1.4. Set the value of `n_init` explicitly to suppress the warning\n",
      "  warnings.warn(\n",
      "D:\\programming\\anaconda\\Lib\\site-packages\\sklearn\\cluster\\_kmeans.py:1382: UserWarning: KMeans is known to have a memory leak on Windows with MKL, when there are less chunks than available threads. You can avoid it by setting the environment variable OMP_NUM_THREADS=4.\n",
      "  warnings.warn(\n",
      "D:\\programming\\anaconda\\Lib\\site-packages\\sklearn\\cluster\\_kmeans.py:870: FutureWarning: The default value of `n_init` will change from 10 to 'auto' in 1.4. Set the value of `n_init` explicitly to suppress the warning\n",
      "  warnings.warn(\n",
      "D:\\programming\\anaconda\\Lib\\site-packages\\sklearn\\cluster\\_kmeans.py:1382: UserWarning: KMeans is known to have a memory leak on Windows with MKL, when there are less chunks than available threads. You can avoid it by setting the environment variable OMP_NUM_THREADS=4.\n",
      "  warnings.warn(\n",
      "D:\\programming\\anaconda\\Lib\\site-packages\\sklearn\\cluster\\_kmeans.py:870: FutureWarning: The default value of `n_init` will change from 10 to 'auto' in 1.4. Set the value of `n_init` explicitly to suppress the warning\n",
      "  warnings.warn(\n",
      "D:\\programming\\anaconda\\Lib\\site-packages\\sklearn\\cluster\\_kmeans.py:1382: UserWarning: KMeans is known to have a memory leak on Windows with MKL, when there are less chunks than available threads. You can avoid it by setting the environment variable OMP_NUM_THREADS=4.\n",
      "  warnings.warn(\n",
      "D:\\programming\\anaconda\\Lib\\site-packages\\sklearn\\cluster\\_kmeans.py:870: FutureWarning: The default value of `n_init` will change from 10 to 'auto' in 1.4. Set the value of `n_init` explicitly to suppress the warning\n",
      "  warnings.warn(\n",
      "D:\\programming\\anaconda\\Lib\\site-packages\\sklearn\\cluster\\_kmeans.py:1382: UserWarning: KMeans is known to have a memory leak on Windows with MKL, when there are less chunks than available threads. You can avoid it by setting the environment variable OMP_NUM_THREADS=4.\n",
      "  warnings.warn(\n",
      "D:\\programming\\anaconda\\Lib\\site-packages\\sklearn\\cluster\\_kmeans.py:870: FutureWarning: The default value of `n_init` will change from 10 to 'auto' in 1.4. Set the value of `n_init` explicitly to suppress the warning\n",
      "  warnings.warn(\n",
      "D:\\programming\\anaconda\\Lib\\site-packages\\sklearn\\cluster\\_kmeans.py:1382: UserWarning: KMeans is known to have a memory leak on Windows with MKL, when there are less chunks than available threads. You can avoid it by setting the environment variable OMP_NUM_THREADS=4.\n",
      "  warnings.warn(\n",
      "D:\\programming\\anaconda\\Lib\\site-packages\\sklearn\\cluster\\_kmeans.py:870: FutureWarning: The default value of `n_init` will change from 10 to 'auto' in 1.4. Set the value of `n_init` explicitly to suppress the warning\n",
      "  warnings.warn(\n",
      "D:\\programming\\anaconda\\Lib\\site-packages\\sklearn\\cluster\\_kmeans.py:1382: UserWarning: KMeans is known to have a memory leak on Windows with MKL, when there are less chunks than available threads. You can avoid it by setting the environment variable OMP_NUM_THREADS=4.\n",
      "  warnings.warn(\n",
      "D:\\programming\\anaconda\\Lib\\site-packages\\sklearn\\cluster\\_kmeans.py:870: FutureWarning: The default value of `n_init` will change from 10 to 'auto' in 1.4. Set the value of `n_init` explicitly to suppress the warning\n",
      "  warnings.warn(\n",
      "D:\\programming\\anaconda\\Lib\\site-packages\\sklearn\\cluster\\_kmeans.py:1382: UserWarning: KMeans is known to have a memory leak on Windows with MKL, when there are less chunks than available threads. You can avoid it by setting the environment variable OMP_NUM_THREADS=4.\n",
      "  warnings.warn(\n",
      "D:\\programming\\anaconda\\Lib\\site-packages\\sklearn\\cluster\\_kmeans.py:870: FutureWarning: The default value of `n_init` will change from 10 to 'auto' in 1.4. Set the value of `n_init` explicitly to suppress the warning\n",
      "  warnings.warn(\n",
      "D:\\programming\\anaconda\\Lib\\site-packages\\sklearn\\cluster\\_kmeans.py:1382: UserWarning: KMeans is known to have a memory leak on Windows with MKL, when there are less chunks than available threads. You can avoid it by setting the environment variable OMP_NUM_THREADS=4.\n",
      "  warnings.warn(\n",
      "D:\\programming\\anaconda\\Lib\\site-packages\\sklearn\\cluster\\_kmeans.py:870: FutureWarning: The default value of `n_init` will change from 10 to 'auto' in 1.4. Set the value of `n_init` explicitly to suppress the warning\n",
      "  warnings.warn(\n",
      "D:\\programming\\anaconda\\Lib\\site-packages\\sklearn\\cluster\\_kmeans.py:1382: UserWarning: KMeans is known to have a memory leak on Windows with MKL, when there are less chunks than available threads. You can avoid it by setting the environment variable OMP_NUM_THREADS=4.\n",
      "  warnings.warn(\n",
      "D:\\programming\\anaconda\\Lib\\site-packages\\sklearn\\cluster\\_kmeans.py:870: FutureWarning: The default value of `n_init` will change from 10 to 'auto' in 1.4. Set the value of `n_init` explicitly to suppress the warning\n",
      "  warnings.warn(\n",
      "D:\\programming\\anaconda\\Lib\\site-packages\\sklearn\\cluster\\_kmeans.py:1382: UserWarning: KMeans is known to have a memory leak on Windows with MKL, when there are less chunks than available threads. You can avoid it by setting the environment variable OMP_NUM_THREADS=4.\n",
      "  warnings.warn(\n",
      "D:\\programming\\anaconda\\Lib\\site-packages\\sklearn\\cluster\\_kmeans.py:870: FutureWarning: The default value of `n_init` will change from 10 to 'auto' in 1.4. Set the value of `n_init` explicitly to suppress the warning\n",
      "  warnings.warn(\n",
      "D:\\programming\\anaconda\\Lib\\site-packages\\sklearn\\cluster\\_kmeans.py:1382: UserWarning: KMeans is known to have a memory leak on Windows with MKL, when there are less chunks than available threads. You can avoid it by setting the environment variable OMP_NUM_THREADS=4.\n",
      "  warnings.warn(\n",
      "D:\\programming\\anaconda\\Lib\\site-packages\\sklearn\\cluster\\_kmeans.py:870: FutureWarning: The default value of `n_init` will change from 10 to 'auto' in 1.4. Set the value of `n_init` explicitly to suppress the warning\n",
      "  warnings.warn(\n",
      "D:\\programming\\anaconda\\Lib\\site-packages\\sklearn\\cluster\\_kmeans.py:1382: UserWarning: KMeans is known to have a memory leak on Windows with MKL, when there are less chunks than available threads. You can avoid it by setting the environment variable OMP_NUM_THREADS=4.\n",
      "  warnings.warn(\n",
      "D:\\programming\\anaconda\\Lib\\site-packages\\sklearn\\cluster\\_kmeans.py:870: FutureWarning: The default value of `n_init` will change from 10 to 'auto' in 1.4. Set the value of `n_init` explicitly to suppress the warning\n",
      "  warnings.warn(\n",
      "D:\\programming\\anaconda\\Lib\\site-packages\\sklearn\\cluster\\_kmeans.py:1382: UserWarning: KMeans is known to have a memory leak on Windows with MKL, when there are less chunks than available threads. You can avoid it by setting the environment variable OMP_NUM_THREADS=4.\n",
      "  warnings.warn(\n",
      "D:\\programming\\anaconda\\Lib\\site-packages\\sklearn\\cluster\\_kmeans.py:870: FutureWarning: The default value of `n_init` will change from 10 to 'auto' in 1.4. Set the value of `n_init` explicitly to suppress the warning\n",
      "  warnings.warn(\n",
      "D:\\programming\\anaconda\\Lib\\site-packages\\sklearn\\cluster\\_kmeans.py:1382: UserWarning: KMeans is known to have a memory leak on Windows with MKL, when there are less chunks than available threads. You can avoid it by setting the environment variable OMP_NUM_THREADS=4.\n",
      "  warnings.warn(\n",
      "D:\\programming\\anaconda\\Lib\\site-packages\\sklearn\\cluster\\_kmeans.py:870: FutureWarning: The default value of `n_init` will change from 10 to 'auto' in 1.4. Set the value of `n_init` explicitly to suppress the warning\n",
      "  warnings.warn(\n",
      "D:\\programming\\anaconda\\Lib\\site-packages\\sklearn\\cluster\\_kmeans.py:1382: UserWarning: KMeans is known to have a memory leak on Windows with MKL, when there are less chunks than available threads. You can avoid it by setting the environment variable OMP_NUM_THREADS=4.\n",
      "  warnings.warn(\n",
      "D:\\programming\\anaconda\\Lib\\site-packages\\sklearn\\cluster\\_kmeans.py:870: FutureWarning: The default value of `n_init` will change from 10 to 'auto' in 1.4. Set the value of `n_init` explicitly to suppress the warning\n",
      "  warnings.warn(\n",
      "D:\\programming\\anaconda\\Lib\\site-packages\\sklearn\\cluster\\_kmeans.py:1382: UserWarning: KMeans is known to have a memory leak on Windows with MKL, when there are less chunks than available threads. You can avoid it by setting the environment variable OMP_NUM_THREADS=4.\n",
      "  warnings.warn(\n",
      "D:\\programming\\anaconda\\Lib\\site-packages\\sklearn\\cluster\\_kmeans.py:870: FutureWarning: The default value of `n_init` will change from 10 to 'auto' in 1.4. Set the value of `n_init` explicitly to suppress the warning\n",
      "  warnings.warn(\n",
      "D:\\programming\\anaconda\\Lib\\site-packages\\sklearn\\cluster\\_kmeans.py:1382: UserWarning: KMeans is known to have a memory leak on Windows with MKL, when there are less chunks than available threads. You can avoid it by setting the environment variable OMP_NUM_THREADS=4.\n",
      "  warnings.warn(\n",
      "D:\\programming\\anaconda\\Lib\\site-packages\\sklearn\\cluster\\_kmeans.py:870: FutureWarning: The default value of `n_init` will change from 10 to 'auto' in 1.4. Set the value of `n_init` explicitly to suppress the warning\n",
      "  warnings.warn(\n",
      "D:\\programming\\anaconda\\Lib\\site-packages\\sklearn\\cluster\\_kmeans.py:1382: UserWarning: KMeans is known to have a memory leak on Windows with MKL, when there are less chunks than available threads. You can avoid it by setting the environment variable OMP_NUM_THREADS=4.\n",
      "  warnings.warn(\n",
      "D:\\programming\\anaconda\\Lib\\site-packages\\sklearn\\cluster\\_kmeans.py:870: FutureWarning: The default value of `n_init` will change from 10 to 'auto' in 1.4. Set the value of `n_init` explicitly to suppress the warning\n",
      "  warnings.warn(\n",
      "D:\\programming\\anaconda\\Lib\\site-packages\\sklearn\\cluster\\_kmeans.py:1382: UserWarning: KMeans is known to have a memory leak on Windows with MKL, when there are less chunks than available threads. You can avoid it by setting the environment variable OMP_NUM_THREADS=4.\n",
      "  warnings.warn(\n",
      "D:\\programming\\anaconda\\Lib\\site-packages\\sklearn\\cluster\\_kmeans.py:870: FutureWarning: The default value of `n_init` will change from 10 to 'auto' in 1.4. Set the value of `n_init` explicitly to suppress the warning\n",
      "  warnings.warn(\n",
      "D:\\programming\\anaconda\\Lib\\site-packages\\sklearn\\cluster\\_kmeans.py:1382: UserWarning: KMeans is known to have a memory leak on Windows with MKL, when there are less chunks than available threads. You can avoid it by setting the environment variable OMP_NUM_THREADS=4.\n",
      "  warnings.warn(\n",
      "D:\\programming\\anaconda\\Lib\\site-packages\\sklearn\\cluster\\_kmeans.py:870: FutureWarning: The default value of `n_init` will change from 10 to 'auto' in 1.4. Set the value of `n_init` explicitly to suppress the warning\n",
      "  warnings.warn(\n",
      "D:\\programming\\anaconda\\Lib\\site-packages\\sklearn\\cluster\\_kmeans.py:1382: UserWarning: KMeans is known to have a memory leak on Windows with MKL, when there are less chunks than available threads. You can avoid it by setting the environment variable OMP_NUM_THREADS=4.\n",
      "  warnings.warn(\n",
      "D:\\programming\\anaconda\\Lib\\site-packages\\sklearn\\cluster\\_kmeans.py:870: FutureWarning: The default value of `n_init` will change from 10 to 'auto' in 1.4. Set the value of `n_init` explicitly to suppress the warning\n",
      "  warnings.warn(\n",
      "D:\\programming\\anaconda\\Lib\\site-packages\\sklearn\\cluster\\_kmeans.py:1382: UserWarning: KMeans is known to have a memory leak on Windows with MKL, when there are less chunks than available threads. You can avoid it by setting the environment variable OMP_NUM_THREADS=4.\n",
      "  warnings.warn(\n",
      "D:\\programming\\anaconda\\Lib\\site-packages\\sklearn\\cluster\\_kmeans.py:870: FutureWarning: The default value of `n_init` will change from 10 to 'auto' in 1.4. Set the value of `n_init` explicitly to suppress the warning\n",
      "  warnings.warn(\n",
      "D:\\programming\\anaconda\\Lib\\site-packages\\sklearn\\cluster\\_kmeans.py:1382: UserWarning: KMeans is known to have a memory leak on Windows with MKL, when there are less chunks than available threads. You can avoid it by setting the environment variable OMP_NUM_THREADS=4.\n",
      "  warnings.warn(\n",
      "D:\\programming\\anaconda\\Lib\\site-packages\\sklearn\\cluster\\_kmeans.py:870: FutureWarning: The default value of `n_init` will change from 10 to 'auto' in 1.4. Set the value of `n_init` explicitly to suppress the warning\n",
      "  warnings.warn(\n",
      "D:\\programming\\anaconda\\Lib\\site-packages\\sklearn\\cluster\\_kmeans.py:1382: UserWarning: KMeans is known to have a memory leak on Windows with MKL, when there are less chunks than available threads. You can avoid it by setting the environment variable OMP_NUM_THREADS=4.\n",
      "  warnings.warn(\n",
      "D:\\programming\\anaconda\\Lib\\site-packages\\sklearn\\cluster\\_kmeans.py:870: FutureWarning: The default value of `n_init` will change from 10 to 'auto' in 1.4. Set the value of `n_init` explicitly to suppress the warning\n",
      "  warnings.warn(\n",
      "D:\\programming\\anaconda\\Lib\\site-packages\\sklearn\\cluster\\_kmeans.py:1382: UserWarning: KMeans is known to have a memory leak on Windows with MKL, when there are less chunks than available threads. You can avoid it by setting the environment variable OMP_NUM_THREADS=4.\n",
      "  warnings.warn(\n",
      "D:\\programming\\anaconda\\Lib\\site-packages\\sklearn\\cluster\\_kmeans.py:870: FutureWarning: The default value of `n_init` will change from 10 to 'auto' in 1.4. Set the value of `n_init` explicitly to suppress the warning\n",
      "  warnings.warn(\n",
      "D:\\programming\\anaconda\\Lib\\site-packages\\sklearn\\cluster\\_kmeans.py:1382: UserWarning: KMeans is known to have a memory leak on Windows with MKL, when there are less chunks than available threads. You can avoid it by setting the environment variable OMP_NUM_THREADS=4.\n",
      "  warnings.warn(\n",
      "D:\\programming\\anaconda\\Lib\\site-packages\\sklearn\\cluster\\_kmeans.py:870: FutureWarning: The default value of `n_init` will change from 10 to 'auto' in 1.4. Set the value of `n_init` explicitly to suppress the warning\n",
      "  warnings.warn(\n",
      "D:\\programming\\anaconda\\Lib\\site-packages\\sklearn\\cluster\\_kmeans.py:1382: UserWarning: KMeans is known to have a memory leak on Windows with MKL, when there are less chunks than available threads. You can avoid it by setting the environment variable OMP_NUM_THREADS=4.\n",
      "  warnings.warn(\n",
      "D:\\programming\\anaconda\\Lib\\site-packages\\sklearn\\cluster\\_kmeans.py:870: FutureWarning: The default value of `n_init` will change from 10 to 'auto' in 1.4. Set the value of `n_init` explicitly to suppress the warning\n",
      "  warnings.warn(\n",
      "D:\\programming\\anaconda\\Lib\\site-packages\\sklearn\\cluster\\_kmeans.py:1382: UserWarning: KMeans is known to have a memory leak on Windows with MKL, when there are less chunks than available threads. You can avoid it by setting the environment variable OMP_NUM_THREADS=4.\n",
      "  warnings.warn(\n",
      "D:\\programming\\anaconda\\Lib\\site-packages\\sklearn\\cluster\\_kmeans.py:870: FutureWarning: The default value of `n_init` will change from 10 to 'auto' in 1.4. Set the value of `n_init` explicitly to suppress the warning\n",
      "  warnings.warn(\n",
      "D:\\programming\\anaconda\\Lib\\site-packages\\sklearn\\cluster\\_kmeans.py:1382: UserWarning: KMeans is known to have a memory leak on Windows with MKL, when there are less chunks than available threads. You can avoid it by setting the environment variable OMP_NUM_THREADS=4.\n",
      "  warnings.warn(\n",
      "D:\\programming\\anaconda\\Lib\\site-packages\\sklearn\\cluster\\_kmeans.py:870: FutureWarning: The default value of `n_init` will change from 10 to 'auto' in 1.4. Set the value of `n_init` explicitly to suppress the warning\n",
      "  warnings.warn(\n",
      "D:\\programming\\anaconda\\Lib\\site-packages\\sklearn\\cluster\\_kmeans.py:1382: UserWarning: KMeans is known to have a memory leak on Windows with MKL, when there are less chunks than available threads. You can avoid it by setting the environment variable OMP_NUM_THREADS=4.\n",
      "  warnings.warn(\n"
     ]
    }
   ],
   "source": [
    "# Cluster input\n",
    "\n",
    "from sklearn.cluster import KMeans\n",
    "\n",
    "k_range = range(5, 300, 5)\n",
    "kmeans_per_k = []\n",
    "for k in k_range:\n",
    "    kmeans = KMeans(n_clusters=k, random_state=42).fit(X_train)\n",
    "    kmeans_per_k.append(kmeans)"
   ]
  },
  {
   "cell_type": "code",
   "execution_count": 5,
   "id": "1bb40d90-c182-4f77-bbc4-fd7076c28f32",
   "metadata": {},
   "outputs": [
    {
     "data": {
      "image/png": "[encoded data removed]",
      "text/plain": [
       "<Figure size 800x300 with 1 Axes>"
      ]
     },
     "metadata": {},
     "output_type": "display_data"
    },
    {
     "name": "stdout",
     "output_type": "stream",
     "text": [
      "185\n"
     ]
    }
   ],
   "source": [
    "from sklearn.metrics import silhouette_score\n",
    "import matplotlib.pyplot as plt\n",
    "\n",
    "silhouette_scores = [silhouette_score(X_train, model.labels_)\n",
    "                     for model in kmeans_per_k]\n",
    "best_index = np.argmax(silhouette_scores)\n",
    "best_k = k_range[best_index]\n",
    "best_score = silhouette_scores[best_index]\n",
    "\n",
    "plt.figure(figsize=(8, 3))\n",
    "plt.plot(k_range, silhouette_scores, \"bo-\")\n",
    "plt.xlabel(\"$k$\", fontsize=14)\n",
    "plt.ylabel(\"Silhouette score\", fontsize=14)\n",
    "plt.plot(best_k, best_score, \"rs\")\n",
    "plt.show()\n",
    "\n",
    "print(best_k)"
   ]
  },
  {
   "cell_type": "code",
   "execution_count": 6,
   "id": "7d25b6a3-b709-4b33-90fb-e2161c1dbf93",
   "metadata": {},
   "outputs": [],
   "source": [
    "best_model = kmeans_per_k[best_index]"
   ]
  },
  {
   "cell_type": "code",
   "execution_count": 7,
   "id": "305d4a17-0b95-41a0-ab31-da65e96b9305",
   "metadata": {},
   "outputs": [
    {
     "name": "stdout",
     "output_type": "stream",
     "text": [
      "Cluster 0\n",
      "[[ 1.33808216  0.88856385 -0.90861367 -0.15754338  0.          1.        ]\n",
      " [ 1.33808216  0.61132867 -0.90861367 -0.12609889  0.          1.        ]\n",
      " [ 1.19567978  0.5022391  -0.90861367 -0.18951546  0.          1.        ]\n",
      " [ 1.55168573  0.47107064 -0.90861367 -0.01049818  0.          1.        ]\n",
      " [ 1.33808216  0.82622694 -0.90861367 -0.15758702  0.          1.        ]\n",
      " [ 1.33808216  0.6892498  -0.90861367 -0.10952291  0.          1.        ]\n",
      " [ 1.7652893   0.62937357 -0.90861367  0.04563062  0.          1.        ]\n",
      " [ 1.69408811  0.3997113  -0.90861367  0.01018825  0.          1.        ]\n",
      " [ 1.55168573  0.53340755 -0.90861367 -0.01045455  0.          1.        ]]\n",
      "[0 0 0 0 0 0 0 0 0]\n",
      "Cluster 1\n",
      "[[-0.94035593 -0.12195015  0.75107928 -0.7672923   1.          0.        ]\n",
      " [-0.94035593 -0.21463528  0.75107928 -0.71919719  1.          0.        ]]\n",
      "[0 0]\n",
      "Cluster 2\n",
      "[[-0.94035593 -0.19905106 -0.90861367 -0.85689246  0.          1.        ]\n",
      " [-0.72675236 -0.56815114 -0.90861367 -0.85947249  0.          1.        ]\n",
      " [-1.01155712 -0.51073557 -0.90861367 -0.88780026  0.          1.        ]\n",
      " [-0.72675236 -0.44675822 -0.90861367 -0.85938752  0.          1.        ]\n",
      " [-0.79795355  0.03471233 -0.90861367 -0.84324701  0.          1.        ]\n",
      " [-1.08275831 -0.22365773 -0.90861367 -0.93285046  0.          1.        ]\n",
      " [-1.01155712 -0.01204035 -0.90861367 -0.87092976  0.          1.        ]]\n",
      "[0 0 0 0 0 0 0]\n",
      "Cluster 3\n",
      "[[1.69408811 0.25207126 0.75107928 2.81152575 1.         0.        ]]\n",
      "[1]\n",
      "Cluster 4\n",
      "[[ 0.91087502  0.0191281  -0.07876719 -0.20429467  1.          0.        ]\n",
      " [ 1.12447859  0.28405994 -0.07876719 -0.11493288  1.          0.        ]\n",
      " [ 1.0532774   0.20285792 -0.07876719 -0.19343077  1.          0.        ]\n",
      " [ 0.76847264 -0.08996148 -0.07876719 -0.27756529  1.          0.        ]\n",
      " [ 1.0532774   0.26847571 -0.07876719 -0.14522485  1.          0.        ]]\n",
      "[0 0 0 0 0]\n",
      "Cluster 5\n",
      "[[-0.01474046 -0.12112993 -0.07876719  0.75929395  0.          1.        ]\n",
      " [-0.22834403 -0.43281444 -0.07876719  0.61981866  0.          1.        ]\n",
      " [-0.01474046 -0.38770221 -0.07876719  0.64530564  0.          1.        ]]\n",
      "[1 1 1]\n",
      "Cluster 6\n",
      "[[-1.50996545  0.07654367 -0.90861367 -0.96225303  1.          0.        ]\n",
      " [-1.36756307  0.13067835 -0.90861367 -0.94110173  1.          0.        ]\n",
      " [-1.43876426  0.3669024  -0.90861367 -0.95177089  1.          0.        ]\n",
      " [-1.36756307 -0.30814064 -0.90861367 -0.8932489   1.          0.        ]\n",
      " [-1.43876426 -0.02762458 -0.90861367 -0.9204085   1.          0.        ]\n",
      " [-1.43876426  0.23730726 -0.90861367 -0.92022305  1.          0.        ]\n",
      " [-1.36756307 -0.27697219 -0.90861367 -0.90974852  1.          0.        ]\n",
      " [-1.36756307 -0.01204035 -0.90861367 -0.89304164  1.          0.        ]\n",
      " [-1.50996545 -0.05879303 -0.90861367 -0.91418777  1.          0.        ]\n",
      " [-1.22516069 -0.30239908 -0.90861367 -0.918069    1.          0.        ]\n",
      " [-1.50996545  0.11263345 -0.90861367 -0.96222777  1.          0.        ]\n",
      " [-1.50996545  0.20613881 -0.90861367 -0.91400233  1.          0.        ]\n",
      " [-1.50996545  0.40873374 -0.90861367 -0.91386052  1.          0.        ]\n",
      " [-1.50996545 -0.08996148 -0.90861367 -0.91420959  1.          0.        ]\n",
      " [-1.22516069 -0.0432088  -0.90861367 -0.86972759  1.          0.        ]]\n",
      "[0 0 0 0 0 0 0 0 0 0 0 0 0 0 0]\n",
      "Cluster 7\n",
      "[[ 0.12766192 -0.16788261  3.24061871 -0.3343955   0.          1.        ]\n",
      " [ 0.48366788 -0.79781341  3.24061871 -0.26214995  0.          1.        ]\n",
      " [ 0.27006431 -0.84374586  3.24061871  0.09978187  0.          1.        ]\n",
      " [ 0.41246669 -1.04223969  3.24061871 -0.28760156  0.          1.        ]]\n",
      "[0 0 0 0]\n",
      "Cluster 8\n",
      "[[-0.51314879  1.09443967 -0.07876719 -0.71065427  0.          1.        ]\n",
      " [-0.58434998  1.44795552 -0.07876719 -0.77606871  0.          1.        ]\n",
      " [-0.4419476   1.93516763 -0.07876719 -0.16056419  0.          1.        ]\n",
      " [-0.72675236  1.35773106 -0.07876719 -0.80946882  0.          1.        ]\n",
      " [-0.29954522  1.30195594 -0.07876719 -0.70282961  0.          1.        ]\n",
      " [ 0.05646073  1.73339292 -0.07876719 -0.55018965  0.          1.        ]\n",
      " [-0.79795355  1.05588922 -0.07876719 -0.82551515  0.          1.        ]]\n",
      "[0 0 0 0 0 0 0]\n",
      "Cluster 9\n",
      "[[-0.15714284 -0.43281444  0.75107928 -0.58374535  0.          1.        ]\n",
      " [ 0.05646073  0.26847571  0.75107928 -0.51908084  0.          1.        ]\n",
      " [-0.08594165 -0.46398289  0.75107928 -0.56293157  0.          1.        ]\n",
      " [ 0.41246669 -0.32208442  0.75107928 -0.43306437  0.          1.        ]\n",
      " [-0.15714284 -0.13671415  0.75107928 -0.56701665  0.          1.        ]\n",
      " [ 0.41246669 -0.02762458  0.75107928 -0.40121971  0.          1.        ]\n",
      " [ 0.3412655  -0.53534224  0.75107928 -0.45793855  0.          1.        ]\n",
      " [ 0.05646073 -0.12523104  0.75107928 -0.55099496  0.          1.        ]\n",
      " [ 0.3412655   0.22172303  0.75107928 -0.42577009  0.          1.        ]\n",
      " [-0.08594165 -0.23021951  0.75107928 -0.56276794  0.          1.        ]]\n",
      "[0 0 0 0 0 0 0 0 0 0]\n",
      "Cluster 10\n",
      "[[-0.79795355  0.94105808 -0.07876719  3.13280608  0.          1.        ]]\n",
      "[1]\n",
      "Cluster 11\n",
      "[[ 0.83967383 -0.79781341 -0.07876719 -0.2816407   1.          0.        ]\n",
      " [ 1.19567978 -0.66657783 -0.07876719 -0.10128304  1.          0.        ]\n",
      " [ 0.62607026 -0.29255641 -0.07876719 -0.33215745  1.          0.        ]\n",
      " [ 0.76847264 -0.5886567  -0.07876719 -0.26139292  1.          0.        ]\n",
      " [ 0.55486907 -1.15871127 -0.07876719 -0.39079403  1.          0.        ]\n",
      " [ 1.0532774  -0.49515134 -0.07876719 -0.16228079  1.          0.        ]\n",
      " [ 1.48048454 -0.32208442 -0.07876719 -0.00377757  1.          0.        ]]\n",
      "[0 0 0 0 0 0 0]\n",
      "Cluster 12\n",
      "[[-1.08275831 -1.32275575 -0.90861367 -0.89322487  1.          0.        ]\n",
      " [-0.94035593 -1.3211153  -0.90861367 -0.83380438  1.          0.        ]\n",
      " [-0.22834403 -1.77305784 -0.90861367 -0.64535835  1.          0.        ]\n",
      " [-0.86915474 -1.50812601 -0.90861367 -0.81921146  1.          0.        ]\n",
      " [-0.37074641 -1.16527305 -0.90861367 -0.68382604  1.          0.        ]\n",
      " [-0.58434998 -1.46137333 -0.90861367 -0.75472729  1.          0.        ]]\n",
      "[0 0 0 0 0 0]\n",
      "Cluster 13\n",
      "[[-0.29954522  1.21911347  0.75107928  0.96192957  1.          0.        ]\n",
      " [ 0.27006431  0.82950783  0.75107928  0.48524733  1.          0.        ]]\n",
      "[0 0]\n",
      "Cluster 14\n",
      "[[ 1.26688097 -0.44675822 -0.07876719 -0.14177034  0.          1.        ]\n",
      " [ 1.0532774  -0.24006218 -0.07876719 -0.23413571  0.          1.        ]\n",
      " [ 0.83967383 -0.47956712 -0.07876719 -0.27365287  0.          1.        ]\n",
      " [ 0.76847264 -0.5263198  -0.07876719 -0.30174419  0.          1.        ]]\n",
      "[0 0 0 0]\n",
      "Cluster 15\n",
      "[[-1.43876426 -0.1055457  -0.90861367  1.65521072  1.          0.        ]\n",
      " [-1.01155712 -0.0760177  -0.90861367  1.70420522  1.          0.        ]\n",
      " [-0.86915474  0.12083568 -0.90861367  1.78170893  1.          0.        ]\n",
      " [-1.22516069 -0.0432088  -0.90861367  1.7047748   1.          0.        ]\n",
      " [-1.43876426  0.29964416 -0.90861367  1.95186817  1.          0.        ]]\n",
      "[1 1 1 1 1]\n",
      "Cluster 16\n",
      "[[-1.43876426 -0.83800431 -0.07876719 -0.91271501  0.          1.        ]\n",
      " [-1.43876426 -0.99466679 -0.07876719 -0.94446322  0.          1.        ]\n",
      " [-1.43876426 -0.37129776 -0.07876719 -0.94402688  0.          1.        ]\n",
      " [-1.22516069 -0.38606176 -0.07876719 -0.87822829  0.          1.        ]\n",
      " [-1.01155712 -0.79125163 -0.07876719 -0.82281955  0.          1.        ]]\n",
      "[0 0 0 0 0]\n",
      "Cluster 17\n",
      "[[-0.15714284 -0.83800431 -0.07876719  0.58043451  1.          0.        ]\n",
      " [-0.79795355 -1.04059924 -0.07876719  0.82760056  1.          0.        ]\n",
      " [-0.72675236 -1.46137333 -0.07876719  0.27981491  1.          0.        ]\n",
      " [-1.1539595  -1.05618347  0.75107928  0.75381713  1.          0.        ]\n",
      " [-0.51314879 -1.15050904 -0.07876719  0.35982179  1.          0.        ]]\n",
      "[1 0 1 0 0]\n",
      "Cluster 18\n",
      "[[-0.15714284 -0.47956712  1.58092576 -0.49472753  1.          0.        ]\n",
      " [-0.29954522 -0.4861289   1.58092576 -0.56637502  1.          0.        ]\n",
      " [-0.08594165 -0.43691555  1.58092576 -0.50550063  1.          0.        ]\n",
      " [-0.08594165 -0.07437725  1.58092576 -0.47360832  1.          0.        ]\n",
      " [-0.37074641 -0.23021951  1.58092576 -0.58536464  1.          0.        ]]\n",
      "[0 0 0 0 0]\n",
      "Cluster 19\n",
      "[[ 1.0532774   0.02240899 -0.07876719  2.3732298   0.          1.        ]\n",
      " [ 1.12447859  0.00354388 -0.90861367  2.39835661  0.          1.        ]\n",
      " [ 0.98207621  0.564576   -0.90861367  2.47689339  0.          1.        ]\n",
      " [ 0.69727145  0.03881344 -0.90861367  2.18555405  0.          1.        ]]\n",
      "[1 1 1 1]\n",
      "Cluster 20\n",
      "[[ 1.0532774   0.84509206  1.58092576 -0.06403142  1.          0.        ]\n",
      " [ 1.7652893   1.37577595  1.58092576  0.23251487  1.          0.        ]\n",
      " [ 0.69727145  0.97878831  1.58092576 -0.23864749  1.          0.        ]\n",
      " [ 0.98207621  1.21337192  1.58092576  0.59415838  1.          0.        ]\n",
      " [ 1.12447859  1.66449424  1.58092576 -0.06481536  1.          0.        ]]\n",
      "[0 0 0 0 0]\n",
      "Cluster 21\n",
      "[[ 0.12766192  0.0191281   1.58092576  2.17479803  0.          1.        ]\n",
      " [ 0.19886312 -0.38606176  1.58092576  1.61224737  0.          1.        ]\n",
      " [ 0.48366788 -0.02762458  1.58092576  2.26757778  0.          1.        ]\n",
      " [-0.15714284  0.56375578  2.41077224  2.22310992  0.          1.        ]]\n",
      "[1 1 1 1]\n",
      "Cluster 22\n",
      "[[-0.29954522  0.67858691 -0.07876719 -0.66287103  1.          0.        ]\n",
      " [-0.29954522  0.84509206 -0.07876719 -0.63111593  1.          0.        ]]\n",
      "[0 0]\n",
      "Cluster 23\n",
      "[[-0.01474046  1.82689827 -0.90861367 -0.62849174  1.          0.        ]\n",
      " [-0.51314879  2.22388591 -0.90861367 -0.76628441  1.          0.        ]\n",
      " [-0.51314879  1.71206714 -0.90861367 -0.76664267  1.          0.        ]\n",
      " [-0.94035593  1.56196644 -0.90861367 -0.83178635  1.          0.        ]]\n",
      "[0 0 0 0]\n",
      "Cluster 24\n",
      "[[-0.58434998  0.06588078  1.58092576 -0.6480863   0.          1.        ]\n",
      " [-0.86915474 -0.05961325  1.58092576 -0.74426413  0.          1.        ]\n",
      " [-0.94035593 -0.55748825  1.58092576 -0.71117646  0.          1.        ]\n",
      " [-1.01155712 -0.63376893  1.58092576 -0.77355804  0.          1.        ]\n",
      " [-0.29954522 -0.28927552  1.58092576 -0.60663214  0.          1.        ]\n",
      " [-0.22834403 -0.33930909  1.58092576 -0.55530425  0.          1.        ]\n",
      " [-0.51314879  0.02240899  1.58092576 -0.66225337  0.          1.        ]\n",
      " [-0.15714284  0.03471233  1.58092576 -0.53476247  0.          1.        ]\n",
      " [-0.22834403 -0.29255641  1.58092576 -0.53875009  0.          1.        ]\n",
      " [-0.22834403 -0.51073557  1.58092576 -0.5389028   0.          1.        ]]\n",
      "[0 0 0 0 0 0 0 0 0 0]\n",
      "Cluster 25\n",
      "[[ 1.19567978 -0.87983565 -0.90861367 -0.18172649  1.          0.        ]\n",
      " [ 1.40928335 -0.68216205 -0.90861367 -0.03758439  1.          0.        ]\n",
      " [ 1.69408811 -0.72891473 -0.90861367  0.08143173  1.          0.        ]\n",
      " [ 1.33808216 -0.8962401  -0.90861367 -0.11839776  1.          0.        ]\n",
      " [ 1.26688097 -0.32208442 -0.90861367 -0.14994379  1.          0.        ]\n",
      " [ 1.33808216 -0.40164599 -0.90861367 -0.08641301  1.          0.        ]\n",
      " [ 1.19567978 -0.33930909 -0.90861367 -0.13318816  1.          0.        ]\n",
      " [ 0.98207621 -0.66657783 -0.90861367 -0.24078187  1.          0.        ]\n",
      " [ 1.12447859 -0.60424092 -0.90861367 -0.18073172  1.          0.        ]\n",
      " [ 1.33808216 -0.27287107 -0.90861367 -0.11796143  1.          0.        ]\n",
      " [ 1.48048454 -0.51073557 -0.90861367 -0.00440526  1.          0.        ]\n",
      " [ 1.19567978 -0.30814064 -0.90861367 -0.13316634  1.          0.        ]]\n",
      "[0 0 0 0 0 0 0 0 0 0 0 0]\n",
      "Cluster 26\n",
      "[[ 1.33808216  3.0178612  -0.90861367 -0.15605297  0.          1.        ]]\n",
      "[0]\n",
      "Cluster 27\n",
      "[[-0.79795355 -1.09637436  1.58092576  0.36287038  0.          1.        ]]\n",
      "[1]\n",
      "Cluster 28\n",
      "[[ 1.55168573 -0.91592544 -0.90861367  0.9287252   1.          0.        ]\n",
      " [ 1.55168573 -0.26138796 -0.90861367  1.31105347  1.          0.        ]\n",
      " [ 1.62288692 -0.71743161 -0.90861367  1.20096823  1.          0.        ]\n",
      " [ 1.26688097 -0.13999504 -0.90861367  1.17826677  1.          0.        ]\n",
      " [ 1.40928335 -1.14968882 -0.90861367  1.02501934  1.          0.        ]]\n",
      "[0 1 1 1 1]\n",
      "Cluster 29\n",
      "[[ 1.62288692  1.40038262 -0.90861367  0.0165576   1.          0.        ]\n",
      " [ 1.7652893   1.42170841 -0.90861367  0.13474011  1.          0.        ]\n",
      " [ 1.55168573  0.86067628 -0.90861367  0.03016943  1.          0.        ]\n",
      " [ 1.33808216  1.84494317 -0.90861367  0.90511987  1.          0.        ]\n",
      " [ 1.48048454  1.21337192 -0.90861367 -0.05135844  1.          0.        ]\n",
      " [ 1.62288692  1.39382084 -0.90861367  0.016553    1.          0.        ]\n",
      " [ 1.12447859  1.05588922 -0.90861367 -0.21120825  1.          0.        ]\n",
      " [ 1.33808216  0.95418164 -0.90861367 -0.08546399  1.          0.        ]\n",
      " [ 1.7652893   1.48240486 -0.90861367  0.08662261  1.          0.        ]\n",
      " [ 1.33808216  1.37577595 -0.90861367 -0.11680744  1.          0.        ]]\n",
      "[0 0 0 0 0 0 0 0 0 0]\n",
      "Cluster 30\n",
      "[[-0.15714284  0.67858691  0.75107928  2.19455039  1.          0.        ]\n",
      " [ 0.05646073  0.34639684  0.75107928  2.20833036  1.          0.        ]]\n",
      "[1 1]\n",
      "Cluster 31\n",
      "[[-1.43876426 -0.06781547 -0.90861367  1.5924945   0.          1.        ]\n",
      " [-1.50996545  1.23141681 -0.90861367  1.90305271  0.          1.        ]\n",
      " [-1.43876426  1.03210277 -0.90861367  1.89575083  0.          1.        ]\n",
      " [-1.08275831  0.06588078 -0.90861367  1.73339863  0.          1.        ]\n",
      " [-1.22516069  0.8098225  -0.90861367  1.84339196  0.          1.        ]\n",
      " [-1.36756307  0.00354388 -0.90861367  1.66911073  0.          1.        ]\n",
      " [-1.43876426  0.67858691 -0.90861367  1.7768138   0.          1.        ]\n",
      " [-1.08275831  0.3340935  -0.90861367  1.75147206  0.          1.        ]\n",
      " [-1.50996545  0.47107064 -0.90861367  1.76345007  0.          1.        ]]\n",
      "[1 1 1 1 1 1 1 1 1]\n",
      "Cluster 32\n",
      "[[-1.01155712  0.81392361 -0.90861367 -0.88687306  0.          1.        ]\n",
      " [-0.37074641  0.58180067 -0.90861367 -0.77115806  0.          1.        ]\n",
      " [-0.37074641  0.84509206 -0.90861367 -0.73933522  0.          1.        ]\n",
      " [-0.79795355  0.78275516 -0.90861367 -0.82620198  0.          1.        ]\n",
      " [-0.86915474  0.4915762  -0.90861367 -0.88984521  0.          1.        ]]\n",
      "[0 0 0 0 0]\n",
      "Cluster 33\n",
      "[[ 1.7652893  -1.13246415 -0.90861367  1.12809129  0.          1.        ]\n",
      " [ 1.19567978 -1.75747362 -0.90861367  0.75521355  0.          1.        ]]\n",
      "[1 1]\n",
      "Cluster 34\n",
      "[[ 1.26688097 -1.14230682 -0.90861367 -0.19091282  0.          1.        ]\n",
      " [ 1.40928335 -0.69938672 -0.90861367 -0.12615135  0.          1.        ]\n",
      " [ 1.7652893  -0.69774628 -0.90861367  0.09286168  0.          1.        ]\n",
      " [ 1.48048454 -1.04059924 -0.90861367 -0.06169249  0.          1.        ]\n",
      " [ 1.33808216 -1.20792461 -0.90861367 -0.15901083  0.          1.        ]\n",
      " [ 1.40928335 -0.97826234 -0.90861367 -0.07818656  0.          1.        ]\n",
      " [ 1.33808216 -0.90034121 -0.90861367 -0.11063555  0.          1.        ]\n",
      " [ 1.48048454 -0.80765608 -0.90861367 -0.09316799  0.          1.        ]\n",
      " [ 1.0532774  -1.08735192 -0.90861367 -0.23522441  0.          1.        ]]\n",
      "[0 0 0 0 0 0 0 0 0]\n",
      "Cluster 35\n",
      "[[ 1.26688097  1.88103295 -0.07876719  2.92471516  0.          1.        ]\n",
      " [ 0.83967383  2.0073472   0.75107928  2.82454373  0.          1.        ]]\n",
      "[1 1]\n",
      "Cluster 36\n",
      "[[ 0.62607026  0.59656467  1.58092576 -0.30625731  0.          1.        ]\n",
      " [ 0.62607026  0.81392361  2.41077224 -0.20928955  0.          1.        ]]\n",
      "[0 0]\n",
      "Cluster 37\n",
      "[[-0.51314879 -0.15229838 -0.90861367 -0.73630909  1.          0.        ]\n",
      " [-0.22834403 -0.73219562 -0.90861367 -0.69278978  1.          0.        ]\n",
      " [-0.37074641 -0.48284801 -0.90861367 -0.73150836  1.          0.        ]\n",
      " [-0.22834403 -0.47956712 -0.90861367 -0.64445296  1.          0.        ]\n",
      " [-0.29954522 -0.74449895 -0.90861367 -0.66436277  1.          0.        ]\n",
      " [-0.58434998 -0.80765608 -0.90861367 -0.78590826  1.          0.        ]\n",
      " [-0.4419476  -0.6509936  -0.90861367 -0.71860064  1.          0.        ]\n",
      " [-0.58434998 -0.66329694 -0.90861367 -0.78580722  1.          0.        ]\n",
      " [-0.08594165 -0.50253335 -0.90861367 -0.65151345  1.          0.        ]]\n",
      "[0 0 0 0 0 0 0 0 0]\n",
      "Cluster 38\n",
      "[[-0.51314879  1.06327122  1.58092576 -0.57296992  1.          0.        ]\n",
      " [-0.4419476   1.35116928  1.58092576 -0.60287087  1.          0.        ]\n",
      " [-0.4419476   0.92301319  1.58092576 -0.55501057  1.          0.        ]\n",
      " [-0.37074641  1.20352925  1.58092576 -0.58436108  1.          0.        ]\n",
      " [-0.72675236  1.33968617  1.58092576 -0.67177528  1.          0.        ]\n",
      " [-1.1539595   0.70483403  1.58092576 -0.72725718  1.          0.        ]]\n",
      "[0 0 0 0 0 0]\n",
      "Cluster 39\n",
      "[[-0.15714284 -1.1964415   0.75107928 -0.54388494  1.          0.        ]\n",
      " [-0.08594165 -1.75747362  0.75107928 -0.5069206   1.          0.        ]\n",
      " [ 0.48366788 -1.75747362  0.75107928 -0.3367551   1.          0.        ]]\n",
      "[0 0 0]\n",
      "Cluster 40\n",
      "[[-1.1539595  -0.38606176 -0.90861367  0.39350308  1.          0.        ]\n",
      " [-1.43876426 -0.38770221 -0.90861367  0.3147877   1.          0.        ]\n",
      " [-1.43876426 -0.45332    -0.90861367  0.2985838   1.          0.        ]\n",
      " [-1.08275831 -0.50253335 -0.90861367  0.46960513  1.          0.        ]\n",
      " [-1.43876426 -0.29255641 -0.90861367  0.36992189  1.          0.        ]\n",
      " [-1.50996545 -0.08996148 -0.90861367  0.66700545  1.          0.        ]]\n",
      "[1 1 1 0 1 0]\n",
      "Cluster 41\n",
      "[[-0.37074641 -0.88475698 -0.07876719 -0.69189041  0.          1.        ]\n",
      " [-0.29954522 -1.07176769 -0.07876719 -0.67285256  0.          1.        ]\n",
      " [-0.65555117 -1.07176769 -0.07876719 -0.76314015  0.          1.        ]]\n",
      "[0 0 0]\n",
      "Cluster 42\n",
      "[[-0.15714284 -0.19084883  0.75107928 -0.57481962  1.          0.        ]\n",
      " [ 0.41246669  0.03881344  0.75107928 -0.39241685  1.          0.        ]\n",
      " [ 0.48366788 -0.0760177   0.75107928 -0.3672167   1.          0.        ]\n",
      " [ 0.41246669 -0.46480312  0.75107928 -0.39276936  1.          0.        ]\n",
      " [ 0.3412655  -0.13999504  0.75107928 -0.41726691  1.          0.        ]\n",
      " [-0.08594165 -0.46398289  0.75107928 -0.50601522  1.          0.        ]\n",
      " [-0.01474046  0.20613881  0.75107928 -0.50067639  1.          0.        ]]\n",
      "[0 0 0 0 0 0 0]\n",
      "Cluster 43\n",
      "[[-0.86915474 -0.35489331 -0.90861367  0.41636661  0.          1.        ]\n",
      " [-1.29636188  0.05849878 -0.90861367  0.27393165  0.          1.        ]\n",
      " [-1.43876426 -0.26138796 -0.90861367  0.33722383  0.          1.        ]\n",
      " [-1.08275831 -0.13671415 -0.90861367  0.44426138  0.          1.        ]\n",
      " [-0.79795355  0.51782332 -0.90861367  0.52892664  0.          1.        ]\n",
      " [-0.58434998 -0.13999504 -0.90861367  0.50224726  0.          1.        ]]\n",
      "[1 0 1 1 0 1]\n",
      "Cluster 44\n",
      "[[-1.43876426 -1.46137333 -0.90861367 -0.96180697  0.          1.        ]\n",
      " [-1.50996545 -2.41201109 -0.90861367 -0.95622983  0.          1.        ]\n",
      " [-1.43876426 -1.70005805 -0.90861367 -0.99361259  0.          1.        ]\n",
      " [-1.43876426 -1.78208029 -0.90861367 -0.99367     0.          1.        ]\n",
      " [-1.43876426 -1.63444026 -0.90861367 -0.99356666  0.          1.        ]\n",
      " [-1.43876426 -1.67955249 -0.90861367 -0.96195969  0.          1.        ]]\n",
      "[0 0 0 0 0 0]\n",
      "Cluster 45\n",
      "[[ 0.69727145 -0.79125163  0.75107928  0.87041687  0.          1.        ]\n",
      " [ 0.83967383 -0.96267811  0.75107928  0.88364579  0.          1.        ]\n",
      " [ 0.76847264 -0.86917276  0.75107928  1.40549682  0.          1.        ]]\n",
      "[1 1 0]\n",
      "Cluster 46\n",
      "[[ 0.69727145  1.12314745  0.75107928 -0.32759698  0.          1.        ]\n",
      " [ 0.48366788  1.59313489  0.75107928 -0.37480473  0.          1.        ]\n",
      " [ 0.48366788  1.23141681  0.75107928 -0.40669647  0.          1.        ]]\n",
      "[0 0 0]\n",
      "Cluster 47\n",
      "[[-0.79795355 -1.33669953  0.75107928 -0.73037424  0.          1.        ]\n",
      " [-0.4419476  -0.99384656  0.75107928 -0.66192427  0.          1.        ]\n",
      " [-0.79795355 -0.60424092  0.75107928 -0.72986155  0.          1.        ]\n",
      " [-0.79795355 -1.12590237  0.75107928 -0.77838668  0.          1.        ]\n",
      " [-0.79795355 -0.23021951  0.75107928 -0.72959975  0.          1.        ]\n",
      " [-1.29636188 -0.80683586  0.75107928 -0.82529149  0.          1.        ]]\n",
      "[0 0 0 0 0 0]\n",
      "Cluster 48\n",
      "[[ 0.55486907 -0.49515134  0.75107928  0.93059273  1.          0.        ]\n",
      " [ 0.91087502 -0.87983565  0.75107928  0.94147378  1.          0.        ]]\n",
      "[1 1]\n",
      "Cluster 49\n",
      "[[-1.50996545  0.16676813  0.75107928  1.73745579  0.          1.        ]\n",
      " [-0.86915474  0.07654367 -0.07876719  1.77903202  0.          1.        ]\n",
      " [-0.94035593  0.3669024   0.75107928  1.88466607  0.          1.        ]\n",
      " [-1.01155712  0.43744153  0.75107928  1.88791705  0.          1.        ]]\n",
      "[1 1 1 1]\n",
      "Cluster 50\n",
      "[[ 0.3412655   1.21337192 -0.90861367  2.94203111  1.          0.        ]\n",
      " [ 0.62607026  0.40135174 -0.90861367  2.28852811  1.          0.        ]\n",
      " [-0.15714284  1.2675066  -0.90861367  2.24266908  1.          0.        ]\n",
      " [ 0.48366788  0.79833938 -0.90861367  2.38249376  1.          0.        ]]\n",
      "[1 1 1 1]\n",
      "Cluster 51\n",
      "[[ 0.12766192  0.58180067 -0.07876719 -0.57665326  0.          1.        ]\n",
      " [ 0.3412655   0.59984556 -0.07876719 -0.5057996   0.          1.        ]\n",
      " [ 0.41246669  0.49813798 -0.07876719 -0.48114588  0.          1.        ]\n",
      " [-0.22834403  0.51782332 -0.07876719 -0.65201555  0.          1.        ]]\n",
      "[0 0 0 0]\n",
      "Cluster 52\n",
      "[[-1.36756307  0.7622496  -0.07876719  1.19399318  0.          1.        ]\n",
      " [-1.22516069  1.14119235 -0.07876719  1.97387726  0.          1.        ]]\n",
      "[0 1]\n",
      "Cluster 53\n",
      "[[ 1.19567978  1.12314745  0.75107928 -0.08301323  1.          0.        ]\n",
      " [ 1.26688097  1.20352925  0.75107928 -0.05156466  1.          0.        ]\n",
      " [ 0.83967383  0.98535009  0.75107928 -0.20009838  1.          0.        ]\n",
      " [ 0.98207621  0.85903584  0.75107928 -0.17404129  1.          0.        ]\n",
      " [ 1.55168573  1.38397818  0.75107928  0.079687    1.          0.        ]]\n",
      "[0 0 0 0 0]\n",
      "Cluster 54\n",
      "[[ 0.27006431 -1.22432906 -0.90861367 -0.57990137  0.          1.        ]\n",
      " [ 0.41246669 -1.52371023 -0.90861367 -0.49957817  0.          1.        ]\n",
      " [ 0.48366788 -1.37196909 -0.90861367 -0.50582998  0.          1.        ]\n",
      " [ 0.83967383 -1.35228375 -0.90861367 -0.32291936  0.          1.        ]]\n",
      "[0 0 0 0]\n",
      "Cluster 55\n",
      "[[ 0.19886312  0.36198106 -0.90861367 -0.51384979  1.          0.        ]\n",
      " [ 0.05646073 -0.17444439 -0.90861367 -0.60794576  1.          0.        ]\n",
      " [ 0.41246669  0.3997113  -0.90861367 -0.4894755   1.          0.        ]\n",
      " [ 0.12766192  0.37756529 -0.90861367 -0.55341838  1.          0.        ]\n",
      " [ 0.12766192  0.05849878 -0.90861367 -0.58528027  1.          0.        ]]\n",
      "[0 0 0 0 0]\n",
      "Cluster 56\n",
      "[[-0.08594165  0.0043641  -0.07876719 -0.60250301  1.          0.        ]\n",
      " [-0.37074641 -0.64525204 -0.07876719 -0.68296641  1.          0.        ]\n",
      " [ 0.05646073 -0.85358853 -0.07876719 -0.51160551  1.          0.        ]\n",
      " [-0.37074641 -0.51893779 -0.07876719 -0.68287799  1.          0.        ]\n",
      " [-0.37074641 -0.69774628 -0.07876719 -0.6513646   1.          0.        ]\n",
      " [ 0.3412655  -0.92904899 -0.07876719 -0.46647485  1.          0.        ]\n",
      " [ 0.3412655  -0.51893779 -0.07876719 -0.46618779  1.          0.        ]\n",
      " [ 0.05646073 -0.13999504 -0.07876719 -0.55926602  1.          0.        ]\n",
      " [-0.08594165 -0.28435419 -0.07876719 -0.6027051   1.          0.        ]\n",
      " [ 0.19886312 -0.87983565 -0.07876719 -0.51422337  1.          0.        ]\n",
      " [-0.08594165 -0.55748825 -0.07876719 -0.5547363   1.          0.        ]\n",
      " [ 0.12766192 -0.42871333 -0.07876719 -0.53696566  1.          0.        ]\n",
      " [-0.22834403 -0.12195015 -0.07876719 -0.643707    1.          0.        ]\n",
      " [-0.22834403 -0.78140896 -0.07876719 -0.6441686   1.          0.        ]]\n",
      "[0 0 0 0 0 0 0 0 0 0 0 0 0 0]\n",
      "Cluster 57\n",
      "[[-1.50996545  3.68552223 -0.90861367 -1.00012181  0.          1.        ]]\n",
      "[0]\n",
      "Cluster 58\n",
      "[[ 1.33808216  0.37756529 -0.90861367 -0.06934616  1.          0.        ]\n",
      " [ 1.7652893   0.37756529 -0.90861367  0.11748782  1.          0.        ]\n",
      " [ 1.48048454 -0.02680435 -0.90861367 -0.05222651  1.          0.        ]\n",
      " [ 1.55168573  0.081465   -0.90861367  0.01310258  1.          0.        ]\n",
      " [ 1.33808216  0.45548642 -0.90861367 -0.08581306  1.          0.        ]\n",
      " [ 1.62288692  0.41611574 -0.90861367  0.01586865  1.          0.        ]\n",
      " [ 1.62288692  0.17497036 -0.90861367  0.06385985  1.          0.        ]\n",
      " [ 1.40928335  0.11263345 -0.90861367 -0.05354951  1.          0.        ]\n",
      " [ 1.62288692  0.33081261 -0.90861367  0.04744749  1.          0.        ]]\n",
      "[0 0 0 0 0 0 0 0 0]\n",
      "Cluster 59\n",
      "[[-1.50996545  1.57755066 -0.90861367 -0.9130424   1.          0.        ]\n",
      " [-1.43876426  0.96976586 -0.90861367 -0.91971037  1.          0.        ]\n",
      " [-1.29636188  1.44795552 -0.90861367 -0.92878957  1.          0.        ]\n",
      " [-1.50996545  1.23141681 -0.90861367 -0.96144467  1.          0.        ]\n",
      " [-1.43876426  0.73600248 -0.90861367 -0.91987399  1.          0.        ]\n",
      " [-1.22516069  0.87544029 -0.90861367 -0.91724456  1.          0.        ]\n",
      " [-1.08275831  1.44795552 -0.90861367 -0.89128549  1.          0.        ]\n",
      " [-1.43876426  1.11002389 -0.90861367 -0.91961219  1.          0.        ]\n",
      " [-1.43876426  1.61364045 -0.90861367 -0.95089823  1.          0.        ]\n",
      " [-1.50996545  0.81392361 -0.90861367 -0.91357691  1.          0.        ]\n",
      " [-1.50996545  1.5020902  -0.90861367 -0.96125521  1.          0.        ]\n",
      " [-1.50996545  1.56196644 -0.90861367 -0.91305331  1.          0.        ]]\n",
      "[0 0 0 0 0 0 0 0 0 0 0 0]\n",
      "Cluster 60\n",
      "[[ 1.0532774  -0.99384656  1.58092576 -0.0653186   1.          0.        ]\n",
      " [ 1.0532774  -1.25713795  1.58092576 -0.09714144  1.          0.        ]\n",
      " [ 1.0532774  -1.50812601  1.58092576 -0.06567857  1.          0.        ]]\n",
      "[0 0 0]\n",
      "Cluster 61\n",
      "[[-0.79795355 -1.04388013  3.24061871 -0.63236238  0.          1.        ]\n",
      " [-0.58434998 -0.35489331  3.24061871 -0.53454812  0.          1.        ]\n",
      " [-1.01155712 -0.6509936   2.41077224 -0.69327592  0.          1.        ]\n",
      " [-1.36756307 -0.08996148  3.24061871 -0.69021294  0.          1.        ]]\n",
      "[0 0 0 0]\n",
      "Cluster 62\n",
      "[[ 0.76847264 -0.46480312  1.58092576  0.53520872  1.          0.        ]\n",
      " [ 1.0532774   0.02240899  1.58092576 -0.09624581  1.          0.        ]\n",
      " [ 0.76847264 -0.41066844  1.58092576 -0.21211706  1.          0.        ]\n",
      " [ 0.98207621 -0.42051111  1.58092576 -0.12628129  1.          0.        ]\n",
      " [ 1.40928335 -0.48284801  1.58092576  0.06036202  1.          0.        ]\n",
      " [ 1.26688097 -0.30814064  2.41077224  0.09284848  1.          0.        ]\n",
      " [ 0.62607026 -0.44839867  2.41077224 -0.18629965  1.          0.        ]]\n",
      "[0 0 0 0 0 0 0]\n",
      "Cluster 63\n",
      "[[-1.08275831  0.22090281 -0.90861367 -0.93253929  0.          1.        ]\n",
      " [-1.50996545  0.4915762  -0.90861367 -1.00235743  0.          1.        ]\n",
      " [-1.29636188  0.79833938 -0.90861367 -0.96963918  0.          1.        ]\n",
      " [-1.43876426  0.61296912 -0.90861367 -0.99199357  0.          1.        ]\n",
      " [-1.1539595   0.61296912 -0.90861367 -0.94532183  0.          1.        ]\n",
      " [-1.50996545  0.61789045 -0.90861367 -1.00226902  0.          1.        ]\n",
      " [-1.50996545  1.08705767 -0.90861367 -1.00194062  0.          1.        ]\n",
      " [-1.43876426  0.56375578 -0.90861367 -0.99202802  0.          1.        ]\n",
      " [-1.1539595   0.31112728 -0.90861367 -0.94553311  0.          1.        ]\n",
      " [-1.43876426  0.7770136  -0.90861367 -0.99187875  0.          1.        ]\n",
      " [-1.29636188  1.01651854 -0.90861367 -0.93784792  0.          1.        ]]\n",
      "[0 0 0 0 0 0 0 0 0 0 0]\n",
      "Cluster 64\n",
      "[[1.0532774  0.58180067 0.75107928 2.56002363 0.         1.        ]\n",
      " [1.33808216 1.03210277 0.75107928 2.82731937 0.         1.        ]\n",
      " [0.76847264 0.58016022 0.75107928 2.44405043 0.         1.        ]\n",
      " [1.7652893  1.03292299 0.75107928 2.99923879 0.         1.        ]\n",
      " [1.19567978 0.18481303 0.75107928 2.52310782 0.         1.        ]]\n",
      "[1 1 1 1 1]\n",
      "Cluster 65\n",
      "[[-1.29636188  0.33081261  0.75107928  1.05311999  1.          0.        ]\n",
      " [-1.43876426 -0.01204035  0.75107928  0.89127019  1.          0.        ]]\n",
      "[0 0]\n",
      "Cluster 66\n",
      "[[ 0.76847264  2.31411038 -0.07876719 -0.347916    0.          1.        ]\n",
      " [ 0.55486907  2.7652327  -0.07876719 -0.42844235  0.          1.        ]\n",
      " [ 1.26688097  2.13858278 -0.07876719 -0.13996071  0.          1.        ]\n",
      " [ 0.91087502  2.80132248 -0.07876719 -0.29090215  0.          1.        ]]\n",
      "[0 0 0 0]\n",
      "Cluster 67\n",
      "[[ 0.76847264 -0.50253335 -0.07876719  0.92931772  1.          0.        ]\n",
      " [ 0.55486907 -1.07668903 -0.07876719  1.07109775  1.          0.        ]\n",
      " [ 0.69727145 -0.58455559 -0.07876719  1.06314931  1.          0.        ]\n",
      " [ 1.12447859 -0.63376893 -0.07876719  1.80824745  1.          0.        ]]\n",
      "[1 0 0 0]\n",
      "Cluster 68\n",
      "[[ 0.98207621  0.11263345 -0.90861367  1.16274729  0.          1.        ]\n",
      " [ 1.12447859  0.38330685 -0.90861367  0.62046805  0.          1.        ]\n",
      " [ 1.26688097 -0.27697219 -0.90861367  1.15220621  0.          1.        ]\n",
      " [ 1.0532774  -0.1055457  -0.90861367  0.92570073  0.          1.        ]]\n",
      "[0 0 1 0]\n",
      "Cluster 69\n",
      "[[-1.50996545  0.11263345  2.41077224 -0.71944526  1.          0.        ]]\n",
      "[0]\n",
      "Cluster 70\n",
      "[[-0.72675236  0.23730726  0.75107928 -0.72995889  0.          1.        ]\n",
      " [-0.22834403  0.61789045  0.75107928 -0.63492843  0.          1.        ]\n",
      " [-0.51314879  0.7442047   0.75107928 -0.71040378  0.          1.        ]\n",
      " [-0.72675236  1.08705767  0.75107928 -0.76100265  0.          1.        ]\n",
      " [-0.86915474  0.40873374  0.75107928 -0.76095339  0.          1.        ]]\n",
      "[0 0 0 0 0]\n",
      "Cluster 71\n",
      "[[ 0.83967383 -1.02501501  2.41077224 -0.1445892   0.          1.        ]\n",
      " [ 0.27006431 -0.54190402  1.58092576 -0.38529682  0.          1.        ]\n",
      " [ 0.48366788 -0.96267811  1.58092576 -0.31141662  0.          1.        ]]\n",
      "[0 0 0]\n",
      "Cluster 72\n",
      "[[-0.86915474 -1.9289001   1.58092576 -0.69741256  0.          1.        ]\n",
      " [-1.22516069 -1.75747362  1.58092576 -0.76535552  0.          1.        ]\n",
      " [-1.29636188 -1.71072094  1.58092576 -0.77726854  0.          1.        ]]\n",
      "[0 0 0]\n",
      "Cluster 73\n",
      "[[-0.72675236 -1.44578911 -0.90861367  0.2350077   1.          0.        ]\n",
      " [-1.36756307 -1.35228375 -0.90861367  0.11906351  1.          0.        ]\n",
      " [-1.50996545 -1.47695756 -0.90861367  0.08368414  1.          0.        ]\n",
      " [-1.43876426 -1.47039578 -0.90861367  0.04742344  1.          0.        ]\n",
      " [-0.51314879 -0.99466679 -0.90861367  0.34908835  1.          0.        ]\n",
      " [-1.08275831 -1.66396826 -0.90861367  0.10751065  1.          0.        ]]\n",
      "[1 1 1 1 1 1]\n",
      "Cluster 74\n",
      "[[-0.94035593  1.92532496 -0.07876719 -0.81451493  1.          0.        ]\n",
      " [-1.01155712  1.88103295 -0.07876719 -0.82871414  1.          0.        ]\n",
      " [-0.4419476   1.5020902  -0.07876719 -0.70007649  1.          0.        ]\n",
      " [-0.79795355  1.14119235 -0.07876719 -0.78506053  1.          0.        ]]\n",
      "[0 0 0 0]\n",
      "Cluster 75\n",
      "[[-0.86915474  2.49948064  0.75107928 -0.79112851  0.          1.        ]\n",
      " [-0.51314879  2.60282866  0.75107928 -0.70910282  0.          1.        ]]\n",
      "[0 0]\n",
      "Cluster 76\n",
      "[[ 0.76847264  2.31000927 -0.90861367 -0.30801961  1.          0.        ]\n",
      " [ 0.76847264  2.53064909 -0.07876719 -0.30736952  1.          0.        ]\n",
      " [ 0.83967383  1.63988757 -0.90861367 -0.28043006  1.          0.        ]]\n",
      "[0 0 0]\n",
      "Cluster 77\n",
      "[[ 0.62607026  1.73339292  2.41077224 -0.18477249  1.          0.        ]\n",
      " [ 0.41246669  1.53079799  1.58092576 -0.29455691  1.          0.        ]]\n",
      "[0 0]\n",
      "Cluster 78\n",
      "[[-1.50996545  1.89907784 -0.90861367  2.10832225  1.          0.        ]\n",
      " [-1.1539595   1.98274053 -0.07876719  2.28274846  1.          0.        ]]\n",
      "[1 1]\n",
      "Cluster 79\n",
      "[[-0.01474046 -1.11441926  3.24061871 -0.38727238  1.          0.        ]\n",
      " [-0.01474046 -1.05618347  3.24061871 -0.35559307  1.          0.        ]]\n",
      "[0 0]\n",
      "Cluster 80\n",
      "[[-1.29636188 -1.43922733  0.75107928 -0.83349921  1.          0.        ]\n",
      " [-1.43876426 -1.19152016  0.75107928 -0.85555046  1.          0.        ]]\n",
      "[0 0]\n",
      "Cluster 81\n",
      "[[ 0.27006431  0.70483403 -0.07876719  2.29348921  0.          1.        ]\n",
      " [-0.15714284  1.05096788 -0.07876719  2.19745695  0.          1.        ]\n",
      " [-0.29954522  0.98535009 -0.07876719  2.18940869  0.          1.        ]\n",
      " [-0.15714284  0.58016022 -0.07876719  2.12935399  0.          1.        ]]\n",
      "[1 1 1 1]\n",
      "Cluster 82\n",
      "[[1.69408811 1.74897714 1.58092576 0.18873812 0.         1.        ]\n",
      " [1.69408811 1.49880931 1.58092576 0.15692446 0.         1.        ]]\n",
      "[0 0]\n",
      "Cluster 83\n",
      "[[ 1.7652893  -0.08996148  1.58092576  0.26312747  1.          0.        ]\n",
      " [ 1.19567978  0.26847571  1.58092576  0.01320416  1.          0.        ]\n",
      " [ 1.62288692  0.37756529  1.58092576  0.19344711  1.          0.        ]\n",
      " [ 1.40928335  0.28405994  1.58092576  0.10905881  1.          0.        ]]\n",
      "[0 0 0 0]\n",
      "Cluster 84\n",
      "[[ 0.83967383  0.26847571 -0.07876719 -0.27312927  0.          1.        ]\n",
      " [ 0.69727145  0.11263345 -0.07876719 -0.32879994  0.          1.        ]\n",
      " [ 0.55486907  0.26847571 -0.07876719 -0.43018997  0.          1.        ]\n",
      " [ 0.62607026  0.12821768 -0.07876719 -0.35573641  0.          1.        ]\n",
      " [ 0.41246669 -0.0760177  -0.07876719 -0.48154777  0.          1.        ]]\n",
      "[0 0 0 0 0]\n",
      "Cluster 85\n",
      "[[-1.43876426 -0.44839867  1.58092576  0.45998003  1.          0.        ]\n",
      " [-0.94035593 -0.16788261  2.41077224  0.9418244   1.          0.        ]]\n",
      "[0 0]\n",
      "Cluster 86\n",
      "[[-1.43876426 -0.32208442 -0.90861367 -0.99264807  0.          1.        ]\n",
      " [-1.43876426 -0.50253335 -0.90861367 -0.99277437  0.          1.        ]\n",
      " [-1.50996545 -0.35489331 -0.90861367 -0.95478994  0.          1.        ]\n",
      " [-1.29636188 -0.27697219 -0.90861367 -0.9387533   0.          1.        ]\n",
      " [-1.43876426 -0.46398289 -0.90861367 -0.96110884  0.          1.        ]\n",
      " [-1.43876426 -0.01204035 -0.90861367 -0.9607925   0.          1.        ]\n",
      " [-1.29636188  0.09704923 -0.90861367 -0.93849151  0.          1.        ]\n",
      " [-1.22516069 -0.29255641 -0.90861367 -0.91029703  0.          1.        ]\n",
      " [-1.36756307 -0.15229838 -0.90861367 -0.95005616  0.          1.        ]\n",
      " [-1.22516069 -0.62720715 -0.90861367 -0.95869126  0.          1.        ]]\n",
      "[0 0 0 0 0 0 0 0 0 0]\n",
      "Cluster 87\n",
      "[[-1.36756307 -0.55174669 -0.90861367  0.24471756  0.          1.        ]\n",
      " [-1.50996545 -1.49254178 -0.90861367  0.03944081  0.          1.        ]\n",
      " [-1.50996545 -0.90034121 -0.90861367  0.18568095  0.          1.        ]\n",
      " [-1.01155712 -1.07176769 -0.90861367  0.21044704  0.          1.        ]]\n",
      "[1 1 1 1]\n",
      "Cluster 88\n",
      "[[-0.86915474 -2.08474236  0.75107928  0.14341905  1.          0.        ]\n",
      " [-0.86915474 -1.74188939  1.58092576  0.26021859  1.          0.        ]\n",
      " [-0.22834403 -1.32275575  0.75107928  0.4409439   1.          0.        ]\n",
      " [-0.94035593 -2.20941616  0.75107928  0.09790783  1.          0.        ]\n",
      " [-0.4419476  -1.89773165  0.75107928  0.28961101  1.          0.        ]]\n",
      "[1 1 1 1 1]\n",
      "Cluster 89\n",
      "[[-0.58434998  1.21911347 -0.07876719  3.74215922  1.          0.        ]\n",
      " [-0.4419476   0.79833938 -0.90861367  3.45834801  1.          0.        ]]\n",
      "[1 1]\n",
      "Cluster 90\n",
      "[[-0.94035593 -0.2482644  -0.07876719 -0.85643126  0.          1.        ]\n",
      " [-0.51314879 -0.10390526 -0.07876719 -0.75965305  0.          1.        ]\n",
      " [-0.51314879 -0.46398289 -0.07876719 -0.72826654  0.          1.        ]\n",
      " [-0.72675236 -0.27697219 -0.07876719 -0.76245306  0.          1.        ]\n",
      " [-0.29954522 -0.5008929  -0.07876719 -0.70409152  0.          1.        ]\n",
      " [-0.58434998 -0.33930909 -0.07876719 -0.74568117  0.          1.        ]\n",
      " [-0.65555117 -0.49515134 -0.07876719 -0.7462151   0.          1.        ]\n",
      " [-0.65555117  0.12083568 -0.07876719 -0.79394393  0.          1.        ]]\n",
      "[0 0 0 0 0 0 0 0]\n",
      "Cluster 91\n",
      "[[-0.4419476   1.92532496  3.24061871 -0.54555264  0.          1.        ]]\n",
      "[0]\n",
      "Cluster 92\n",
      "[[ 1.12447859  0.52766599  1.58092576 -0.106006    0.          1.        ]\n",
      " [ 1.69408811  0.4915762   1.58092576  0.15621944  0.          1.        ]\n",
      " [ 1.48048454  0.40135174  1.58092576  0.05364516  0.          1.        ]]\n",
      "[0 0 0]\n",
      "Cluster 93\n",
      "[[-0.37074641 -1.52371023 -0.90861367 -0.72447184  0.          1.        ]\n",
      " [ 0.27006431 -0.76008318 -0.90861367 -0.53141643  0.          1.        ]\n",
      " [ 0.19886312 -0.95201522 -0.90861367 -0.60332443  0.          1.        ]\n",
      " [ 0.05646073 -0.91592544 -0.90861367 -0.64885968  0.          1.        ]\n",
      " [ 0.19886312 -0.61736448 -0.90861367 -0.60309019  0.          1.        ]]\n",
      "[0 0 0 0 0]\n",
      "Cluster 94\n",
      "[[-0.08594165 -1.75747362 -0.07876719 -0.61249258  0.          1.        ]\n",
      " [-0.29954522 -2.10032658 -0.07876719 -0.67357251  0.          1.        ]]\n",
      "[0 0]\n",
      "Cluster 95\n",
      "[[-1.29636188  0.64577802 -0.90861367 -0.92935106  1.          0.        ]\n",
      " [-1.1539595   0.6892498  -0.90861367 -0.85671354  1.          0.        ]\n",
      " [-0.72675236  0.081465   -0.90861367 -0.77046288  1.          0.        ]\n",
      " [-0.79795355  0.67366558 -0.90861367 -0.80240486  1.          0.        ]\n",
      " [-0.79795355  0.44892464 -0.90861367 -0.83420072  1.          0.        ]\n",
      " [-1.08275831  0.54571088 -0.90861367 -0.89191703  1.          0.        ]\n",
      " [-0.72675236  0.79833938 -0.90861367 -0.81812109  1.          0.        ]\n",
      " [-0.79795355  0.40135174 -0.90861367 -0.83423402  1.          0.        ]\n",
      " [-0.58434998  0.06588078 -0.90861367 -0.73713684  1.          0.        ]]\n",
      "[0 0 0 0 0 0 0 0 0]\n",
      "Cluster 96\n",
      "[[ 0.27006431  0.64249713 -0.07876719 -0.45790558  1.          0.        ]\n",
      " [ 0.55486907  0.87544029 -0.07876719 -0.38937021  1.          0.        ]\n",
      " [ 0.69727145  0.67366558 -0.07876719 -0.30453377  1.          0.        ]\n",
      " [ 0.12766192  0.25207126 -0.07876719 -0.53648914  1.          0.        ]\n",
      " [ 0.48366788  0.45548642 -0.07876719 -0.4155003   1.          0.        ]\n",
      " [ 0.3412655   0.27503749 -0.07876719 -0.46563204  1.          0.        ]\n",
      " [ 0.48366788  0.5022391  -0.07876719 -0.36730759  1.          0.        ]\n",
      " [ 0.12766192  0.15938613 -0.07876719 -0.48839403  1.          0.        ]\n",
      " [ 0.62607026  0.2569926  -0.07876719 -0.36341134  1.          0.        ]\n",
      " [ 0.55486907  0.21926237 -0.07876719 -0.38982951  1.          0.        ]]\n",
      "[0 0 0 0 0 0 0 0 0 0]\n",
      "Cluster 97\n",
      "[[ 1.19567978  1.46600042 -0.90861367 -0.22047942  0.          1.        ]\n",
      " [ 1.26688097  1.59231467 -0.90861367 -0.1889987   0.          1.        ]\n",
      " [ 1.26688097  1.68664024 -0.90861367 -0.14077269  0.          1.        ]\n",
      " [ 0.98207621  1.77276359 -0.90861367 -0.3111079   0.          1.        ]\n",
      " [ 1.55168573  2.08936944 -0.90861367 -0.05752543  0.          1.        ]]\n",
      "[0 0 0 0 0]\n",
      "Cluster 98\n",
      "[[-1.43876426 -0.76008318 -0.07876719  0.26272987  0.          1.        ]\n",
      " [-1.08275831 -0.63540937 -0.07876719 -0.05456496  0.          1.        ]\n",
      " [-1.50996545 -0.54190402 -0.07876719  0.32285036  0.          1.        ]\n",
      " [-1.50996545 -0.38606176 -0.07876719 -0.16505666  0.          1.        ]\n",
      " [-1.36756307 -0.43281444 -0.07876719  0.3543813   0.          1.        ]]\n",
      "[1 0 1 0 1]\n",
      "Cluster 99\n",
      "[[-0.86915474 -0.90034121 -0.90861367 -0.8022646   1.          0.        ]\n",
      " [-0.72675236 -0.76008318 -0.90861367 -0.78757337  1.          0.        ]\n",
      " [-1.22516069 -1.04388013 -0.90861367 -0.918588    1.          0.        ]\n",
      " [-0.72675236 -0.78140896 -0.90861367 -0.81922685  1.          0.        ]\n",
      " [-1.43876426 -0.97826234 -0.90861367 -0.95271245  1.          0.        ]\n",
      " [-1.08275831 -0.66657783 -0.90861367 -0.84460559  1.          0.        ]\n",
      " [-1.50996545 -0.64525204 -0.90861367 -0.96275825  1.          0.        ]\n",
      " [-1.50996545 -0.91592544 -0.90861367 -0.91478773  1.          0.        ]\n",
      " [-1.08275831 -0.88475698 -0.90861367 -0.8447583   1.          0.        ]\n",
      " [-1.08275831 -1.05618347 -0.90861367 -0.86139973  1.          0.        ]\n",
      " [-0.94035593 -0.30814064 -0.90861367 -0.8165739   1.          0.        ]]\n",
      "[0 0 0 0 0 0 0 0 0 0 0]\n",
      "Cluster 100\n",
      "[[ 1.12447859  0.34639684  0.75107928 -0.08275505  1.          0.        ]\n",
      " [ 1.12447859 -0.15803994  0.75107928 -0.11474668  1.          0.        ]\n",
      " [ 0.76847264  0.15364458  0.75107928 -0.26037769  1.          0.        ]\n",
      " [ 1.19567978  0.51782332  0.75107928 -0.05179838  1.          0.        ]\n",
      " [ 0.62607026  0.26847571  0.75107928 -0.26658769  1.          0.        ]\n",
      " [ 1.12447859 -0.08586037  0.75107928 -0.11469616  1.          0.        ]\n",
      " [ 0.91087502  0.43252019  0.75107928 -0.20350967  1.          0.        ]\n",
      " [ 1.12447859  0.47107064  0.75107928 -0.08266778  1.          0.        ]\n",
      " [ 0.91087502  0.17497036  0.75107928 -0.17205139  1.          0.        ]\n",
      " [ 0.69727145  0.43990219  0.75107928 -0.23952033  1.          0.        ]\n",
      " [ 1.26688097  0.59574445  0.75107928 -0.0038301   1.          0.        ]]\n",
      "[0 0 0 0 0 0 0 0 0 0 0]\n",
      "Cluster 101\n",
      "[[ 1.33808216 -1.29486818 -0.90861367 -0.11867678  1.          0.        ]\n",
      " [ 1.69408811 -0.91592544 -0.90861367  0.08130083  1.          0.        ]\n",
      " [ 1.62288692 -0.92904899 -0.90861367  0.0149271   1.          0.        ]\n",
      " [ 0.91087502 -1.22760995 -0.90861367 -0.25382296  1.          0.        ]\n",
      " [ 1.26688097 -1.73286695 -0.07876719 -0.10227564  1.          0.        ]\n",
      " [ 0.83967383 -1.65084471 -0.90861367 -0.33089342  1.          0.        ]\n",
      " [ 1.48048454 -1.08735192 -0.90861367 -0.0213303   1.          0.        ]\n",
      " [ 1.69408811 -1.47695756 -0.90861367  0.09742956  1.          0.        ]\n",
      " [ 1.55168573 -1.41462066 -0.90861367  0.02857683  1.          0.        ]]\n",
      "[0 0 0 0 0 0 0 0 0]\n",
      "Cluster 102\n",
      "[[-0.4419476  -0.96267811 -0.90861367  0.38281034  0.          1.        ]\n",
      " [-0.4419476  -1.30553108 -0.90861367  0.71984298  0.          1.        ]\n",
      " [-1.1539595  -1.96006855 -0.90861367  0.68770149  0.          1.        ]]\n",
      "[1 0 0]\n",
      "Cluster 103\n",
      "[[ 1.0532774   2.63071623  0.75107928 -0.14307574  1.          0.        ]]\n",
      "[0]\n",
      "Cluster 104\n",
      "[[-1.43876426  2.33215527 -0.90861367  2.18515194  0.          1.        ]\n",
      " [-0.86915474  1.88103295 -0.90861367  2.17598349  0.          1.        ]]\n",
      "[1 1]\n",
      "Cluster 105\n",
      "[[-1.1539595  -0.35653376 -0.07876719  0.41781191  1.          0.        ]\n",
      " [-0.72675236 -0.44675822 -0.07876719  0.48220764  1.          0.        ]\n",
      " [-0.86915474  0.28405994 -0.07876719  0.46533197  1.          0.        ]\n",
      " [-0.65555117 -0.37457865 -0.07876719  0.51642259  1.          0.        ]\n",
      " [-0.86915474 -0.01204035 -0.07876719  0.29127207  1.          0.        ]]\n",
      "[1 1 0 1 0]\n",
      "Cluster 106\n",
      "[[-0.22834403  1.8424825   1.58092576  2.51810769  0.          1.        ]\n",
      " [-0.08594165  1.2675066   1.58092576  2.36907665  0.          1.        ]]\n",
      "[1 1]\n",
      "Cluster 107\n",
      "[[ 1.55168573  0.93859741 -0.07876719  2.91166698  1.          0.        ]\n",
      " [ 1.7652893   0.51454243 -0.07876719  2.86296731  1.          0.        ]\n",
      " [ 1.40928335  1.00093431 -0.07876719  2.86038677  1.          0.        ]]\n",
      "[1 1 1]\n",
      "Cluster 108\n",
      "[[-0.01474046 -0.17444439  2.41077224 -0.47566498  0.          1.        ]\n",
      " [ 0.05646073  0.03471233  2.41077224 -0.4219332   0.          1.        ]\n",
      " [-0.4419476  -0.20725328  2.41077224 -0.59570098  0.          1.        ]]\n",
      "[0 0 0]\n",
      "Cluster 109\n",
      "[[ 1.55168573  0.14872324 -0.90861367 -0.0588838   0.          1.        ]\n",
      " [ 1.48048454 -0.16788261 -0.90861367 -0.04456019  0.          1.        ]\n",
      " [ 1.40928335 -0.30814064 -0.90861367 -0.09423894  0.          1.        ]\n",
      " [ 1.26688097  0.14380191 -0.90861367 -0.15837405  0.          1.        ]\n",
      " [ 1.33808216 -0.05879303 -0.90861367 -0.11004651  0.          1.        ]\n",
      " [ 1.69408811  0.02240899 -0.90861367  0.00992416  0.          1.        ]]\n",
      "[0 0 0 0 0 0]\n",
      "Cluster 110\n",
      "[[ 0.05646073 -1.30553108  0.75107928 -0.50366114  0.          1.        ]\n",
      " [ 0.19886312 -0.74449895  0.75107928 -0.45770793  0.          1.        ]\n",
      " [ 0.41246669 -1.16527305  0.75107928 -0.38549458  0.          1.        ]\n",
      " [-0.15714284 -1.04059924  0.75107928 -0.58417077  0.          1.        ]\n",
      " [ 0.41246669 -1.08735192  0.75107928 -0.38544004  0.          1.        ]\n",
      " [-0.01474046 -1.00943079  0.75107928 -0.54192214  0.          1.        ]\n",
      " [ 0.3412655  -1.39903643  0.75107928 -0.41038311  0.          1.        ]]\n",
      "[0 0 0 0 0 0 0]\n",
      "Cluster 111\n",
      "[[0.98207621 0.26847571 0.75107928 1.31478087 1.         0.        ]\n",
      " [0.83967383 0.70483403 0.75107928 2.59145133 1.         0.        ]\n",
      " [1.40928335 0.67858691 0.75107928 1.95284913 1.         0.        ]]\n",
      "[0 1 0]\n",
      "Cluster 112\n",
      "[[ 0.19886312 -0.7535214  -0.07876719  2.0631285   0.          1.        ]\n",
      " [ 0.41246669 -1.27436262 -0.90861367  1.80075002  0.          1.        ]]\n",
      "[1 1]\n",
      "Cluster 113\n",
      "[[-1.43876426 -2.11016925 -0.90861367 -0.95350474  1.          0.        ]\n",
      " [-1.43876426 -1.97893367 -0.90861367 -0.95341288  1.          0.        ]\n",
      " [-1.50996545 -1.61967626 -0.90861367 -0.96344031  1.          0.        ]\n",
      " [-1.29636188 -1.39903643 -0.90861367 -0.88262235  1.          0.        ]\n",
      " [-1.22516069 -1.71072094 -0.90861367 -0.88741621  1.          0.        ]]\n",
      "[0 0 0 0 0]\n",
      "Cluster 114\n",
      "[[ 1.12447859 -1.50320467 -0.07876719 -0.20473878  0.          1.        ]\n",
      " [ 0.55486907 -1.88214742 -0.07876719 -0.38353533  0.          1.        ]\n",
      " [ 0.98207621 -1.51960912 -0.07876719 -0.26475678  0.          1.        ]]\n",
      "[0 0 0]\n",
      "Cluster 115\n",
      "[[-0.15714284  2.77835626  0.75107928  2.71307501  1.          0.        ]]\n",
      "[1]\n",
      "Cluster 116\n",
      "[[ 1.26688097 -0.42051111 -0.90861367 -0.19040759  0.          1.        ]\n",
      " [ 0.98207621 -0.02762458 -0.90861367 -0.2642081   0.          1.        ]\n",
      " [ 1.33808216 -0.33930909 -0.90861367 -0.12676429  0.          1.        ]\n",
      " [ 1.12447859 -0.27697219 -0.90861367 -0.20437612  0.          1.        ]\n",
      " [ 0.98207621 -0.29255641 -0.90861367 -0.28091498  0.          1.        ]]\n",
      "[0 0 0 0 0]\n",
      "Cluster 117\n",
      "[[ 1.0532774   0.20285792  1.58092576  1.16082186  1.          0.        ]\n",
      " [ 1.55168573 -0.12195015  1.58092576  1.45981508  1.          0.        ]]\n",
      "[0 1]\n",
      "Cluster 118\n",
      "[[-1.01155712 -0.15803994  1.58092576  0.55041461  0.          1.        ]\n",
      " [-0.51314879 -0.41723022  2.41077224  0.67754878  0.          1.        ]\n",
      " [-0.65555117 -0.32372486  1.58092576  0.61753551  0.          1.        ]]\n",
      "[1 1 1]\n",
      "Cluster 119\n",
      "[[-1.01155712  0.54571088 -0.07876719 -0.82964881  1.          0.        ]\n",
      " [-0.79795355 -0.29255641 -0.07876719 -0.73790411  1.          0.        ]\n",
      " [-0.51314879 -0.17608483 -0.07876719 -0.71930866  1.          0.        ]\n",
      " [-0.65555117  0.28488016 -0.07876719 -0.75343419  1.          0.        ]\n",
      " [-0.58434998 -0.23021951 -0.07876719 -0.73684845  1.          0.        ]\n",
      " [-0.94035593 -0.19412972 -0.07876719 -0.81599846  1.          0.        ]\n",
      " [-0.65555117  0.43744153 -0.07876719 -0.7533274   1.          0.        ]\n",
      " [-0.29954522  0.05521789 -0.07876719 -0.66330736  1.          0.        ]\n",
      " [-0.51314879  0.14380191 -0.07876719 -0.67092477  1.          0.        ]\n",
      " [-0.86915474  0.67858691 -0.07876719 -0.80066377  1.          0.        ]\n",
      " [-0.58434998  0.33081261 -0.07876719 -0.7048172   1.          0.        ]]\n",
      "[0 0 0 0 0 0 0 0 0 0 0]\n",
      "Cluster 120\n",
      "[[-0.94035593 -1.78208029 -0.07876719 -0.81710995  1.          0.        ]\n",
      " [-0.65555117 -1.43020488 -0.07876719 -0.70647469  1.          0.        ]\n",
      " [-0.4419476  -1.99533811 -0.07876719 -0.70252454  1.          0.        ]\n",
      " [-1.29636188 -2.17578704 -0.07876719 -0.8826704   1.          0.        ]\n",
      " [-0.65555117 -1.27436262 -0.07876719 -0.7063656   1.          0.        ]]\n",
      "[0 0 0 0 0]\n",
      "Cluster 121\n",
      "[[ 0.27006431  0.61296912  1.58092576 -0.39225353  1.          0.        ]\n",
      " [ 0.12766192  0.40873374  1.58092576 -0.39090824  1.          0.        ]\n",
      " [ 0.05646073  0.38330685  1.58092576 -0.46158847  1.          0.        ]\n",
      " [ 0.55486907  0.53340755  1.58092576 -0.26065981  1.          0.        ]\n",
      " [-0.01474046  0.56375578  1.58092576 -0.48340899  1.          0.        ]]\n",
      "[0 0 0 0 0]\n",
      "Cluster 122\n",
      "[[-0.22834403 -0.26630929  2.41077224 -0.49784116  1.          0.        ]]\n",
      "[0]\n",
      "Cluster 123\n",
      "[[ 0.83967383 -1.22268861 -0.07876719  0.73914367  0.          1.        ]\n",
      " [ 1.19567978 -0.6509936  -0.07876719  1.06058591  0.          1.        ]\n",
      " [ 1.7652893  -0.97826234 -0.07876719  1.39574713  0.          1.        ]\n",
      " [ 1.0532774  -0.85358853 -0.07876719  1.01166466  0.          1.        ]\n",
      " [ 1.62288692  0.13067835 -0.07876719  1.13424307  0.          1.        ]\n",
      " [ 0.62607026 -0.43691555 -0.07876719  0.85067635  0.          1.        ]]\n",
      "[1 1 0 0 0 1]\n",
      "Cluster 124\n",
      "[[ 1.0532774  -0.91264455  1.58092576  1.00052784  0.          1.        ]\n",
      " [ 0.91087502 -1.04059924  1.58092576  0.95819495  0.          1.        ]]\n",
      "[1 1]\n",
      "Cluster 125\n",
      "[[-1.36756307 -1.42118243 -0.07876719 -0.93392725  0.          1.        ]\n",
      " [-1.29636188 -1.37196909 -0.07876719 -0.92250267  0.          1.        ]\n",
      " [-1.1539595  -2.17824771 -0.07876719 -0.86698138  0.          1.        ]\n",
      " [-1.43876426 -1.60163136 -0.07876719 -0.94488806  0.          1.        ]\n",
      " [-1.43876426 -1.64838404  0.75107928 -0.86462661  0.          1.        ]]\n",
      "[0 0 0 0 0]\n",
      "Cluster 126\n",
      "[[ 0.69727145 -1.22760995  0.75107928 -0.25720895  1.          0.        ]\n",
      " [ 0.76847264 -0.72891473  0.75107928 -0.2293569   1.          0.        ]\n",
      " [ 0.98207621 -0.65017338  0.75107928 -0.17509767  1.          0.        ]\n",
      " [ 0.76847264 -1.16855393  0.75107928 -0.26130318  1.          0.        ]\n",
      " [ 1.26688097 -0.80765608  0.75107928 -0.05297241  1.          0.        ]]\n",
      "[0 0 0 0 0]\n",
      "Cluster 127\n",
      "[[-0.37074641  0.02240899 -0.90861367  1.83563218  0.          1.        ]\n",
      " [-0.72675236  0.61296912 -0.90861367  1.89395772  0.          1.        ]\n",
      " [-0.65555117  0.79833938 -0.90861367  1.95612439  0.          1.        ]\n",
      " [-0.65555117  0.76060915 -0.90861367  1.94680715  0.          1.        ]]\n",
      "[1 1 1 1]\n",
      "Cluster 128\n",
      "[[-0.29954522 -0.43281444 -0.90861367  0.57531214  1.          0.        ]\n",
      " [ 0.19886312 -0.66657783 -0.90861367  0.66732425  1.          0.        ]\n",
      " [ 0.19886312 -1.1964415  -0.90861367  0.55299924  1.          0.        ]\n",
      " [ 0.55486907 -0.46480312 -0.90861367  0.80913722  1.          0.        ]]\n",
      "[1 1 1 1]\n",
      "Cluster 129\n",
      "[[-0.94035593  0.29964416 -0.07876719 -0.80788776  0.          1.        ]\n",
      " [-1.50996545  0.5096211  -0.07876719 -0.95368917  0.          1.        ]\n",
      " [-1.1539595   0.7442047  -0.07876719 -0.89657435  0.          1.        ]\n",
      " [-1.36756307  0.28405994 -0.07876719 -0.9010951   0.          1.        ]]\n",
      "[0 0 0 0]\n",
      "Cluster 130\n",
      "[[-0.08594165  0.66218246  0.75107928 -0.59378185  0.          1.        ]\n",
      " [ 0.19886312  0.87051895  0.75107928 -0.50473748  0.          1.        ]\n",
      " [ 0.19886312  0.84263139  0.75107928 -0.504757    0.          1.        ]\n",
      " [ 0.3412655   1.05588922  0.75107928 -0.45682476  0.          1.        ]]\n",
      "[0 0 0 0]\n",
      "Cluster 131\n",
      "[[ 1.69408811 -1.47695756 -0.07876719  0.08916885  0.          1.        ]\n",
      " [ 1.48048454 -1.04059924 -0.07876719 -0.01303686  0.          1.        ]\n",
      " [ 1.62288692 -0.51073557 -0.07876719  0.05511917  0.          1.        ]\n",
      " [ 1.40928335 -0.85358853 -0.07876719 -0.02944367  0.          1.        ]]\n",
      "[0 0 0 0]\n",
      "Cluster 132\n",
      "[[ 1.19567978  0.23730726 -0.07876719 -0.12452383  0.          1.        ]\n",
      " [ 1.12447859  0.32917217 -0.07876719 -0.2034562   0.          1.        ]\n",
      " [ 1.12447859  0.75158671 -0.07876719 -0.15500054  0.          1.        ]\n",
      " [ 1.33808216  0.22090281 -0.07876719 -0.10935509  0.          1.        ]\n",
      " [ 1.26688097  0.48665487 -0.07876719 -0.10947844  0.          1.        ]]\n",
      "[0 0 0 0 0]\n",
      "Cluster 133\n",
      "[[ 0.27006431  0.31112728  1.58092576  2.28581203  1.          0.        ]\n",
      " [-0.65555117  1.37577595  1.58092576  2.28508046  1.          0.        ]\n",
      " [-0.29954522  0.564576    1.58092576  2.20668596  1.          0.        ]]\n",
      "[1 1 1]\n",
      "Cluster 134\n",
      "[[-0.79795355  0.38330685  1.58092576 -0.72867467  0.          1.        ]\n",
      " [-1.50996545 -0.0432088   1.58092576 -0.80860488  0.          1.        ]\n",
      " [-1.01155712  0.4915762   2.41077224 -0.72411472  0.          1.        ]\n",
      " [-0.65555117  1.11002389  1.58092576 -0.64778029  0.          1.        ]\n",
      " [-1.22516069  0.67858691  1.58092576 -0.81181037  0.          1.        ]]\n",
      "[0 0 0 0 0]\n",
      "Cluster 135\n",
      "[[ 0.55486907 -0.13671415  1.58092576 -0.30152378  0.          1.        ]\n",
      " [ 0.27006431 -0.08996148  1.58092576 -0.40150192  0.          1.        ]\n",
      " [ 0.62607026  0.0191281   1.58092576 -0.2585015   0.          1.        ]\n",
      " [ 0.76847264  0.05029655  1.58092576 -0.22055076  0.          1.        ]]\n",
      "[0 0 0 0]\n",
      "Cluster 136\n",
      "[[-0.37074641  1.09443967  0.75107928 -0.60145452  1.          0.        ]\n",
      " [ 0.12766192  1.05588922  0.75107928 -0.48727088  1.          0.        ]\n",
      " [ 0.41246669  0.92465363  0.75107928 -0.3917968   1.          0.        ]]\n",
      "[0 0 0]\n",
      "Cluster 137\n",
      "[[-1.08275831 -1.14968882 -0.90861367 -0.90186009  0.          1.        ]\n",
      " [-1.22516069 -0.90034121 -0.90861367 -0.92724389  0.          1.        ]\n",
      " [-1.29636188 -1.22268861 -0.90861367 -0.97105381  0.          1.        ]\n",
      " [-1.08275831 -1.19152016 -0.90861367 -0.93352792  0.          1.        ]\n",
      " [-1.50996545 -1.13410459 -0.90861367 -0.95533535  0.          1.        ]\n",
      " [-1.50996545 -1.24319417 -0.90861367 -0.95541171  0.          1.        ]\n",
      " [-1.43876426 -0.83800431 -0.90861367 -0.96137064  0.          1.        ]\n",
      " [-1.08275831 -0.79781341 -0.90861367 -0.93325235  0.          1.        ]\n",
      " [-0.94035593 -1.61803581 -0.90861367 -0.90604567  0.          1.        ]\n",
      " [-1.50996545 -1.22268861 -0.90861367 -1.00355735  0.          1.        ]\n",
      " [-0.58434998 -1.6836536  -0.90861367 -0.82691633  0.          1.        ]]\n",
      "[0 0 0 0 0 0 0 0 0 0 0]\n",
      "Cluster 138\n",
      "[[ 1.40928335 -0.15803994  0.75107928 -0.02846117  0.          1.        ]\n",
      " [ 1.40928335  0.18481303  0.75107928 -0.02822119  0.          1.        ]\n",
      " [ 1.55168573  0.26847571  0.75107928  0.07014983  0.          1.        ]]\n",
      "[0 0 0]\n",
      "Cluster 139\n",
      "[[ 0.83967383 -0.8634312  -0.90861367 -0.37073717  0.          1.        ]\n",
      " [ 0.76847264 -0.66657783 -0.90861367 -0.39865799  0.          1.        ]\n",
      " [ 0.76847264 -0.87983565 -0.90861367 -0.39880726  0.          1.        ]]\n",
      "[0 0 0]\n",
      "Cluster 140\n",
      "[[ 1.48048454  0.35049795 -0.90861367  3.24814803  0.          1.        ]\n",
      " [ 1.62288692  0.22172303 -0.90861367  2.67975927  0.          1.        ]\n",
      " [ 1.55168573  0.92465363 -0.07876719  2.81966875  0.          1.        ]\n",
      " [ 1.55168573  0.85247406 -0.90861367  2.75318884  0.          1.        ]]\n",
      "[1 1 1 1]\n",
      "Cluster 141\n",
      "[[-0.58434998 -0.79781341  0.75107928 -0.68859011  1.          0.        ]\n",
      " [-0.79795355 -0.68134183  0.75107928 -0.7376806   1.          0.        ]\n",
      " [-0.58434998 -1.15871127  0.75107928 -0.68884273  1.          0.        ]\n",
      " [-1.01155712 -0.63540937  0.75107928 -0.75018136  1.          0.        ]]\n",
      "[0 0 0 0]\n",
      "Cluster 142\n",
      "[[1.12447859 1.15677657 1.58092576 1.38723548 0.         1.        ]]\n",
      "[0]\n",
      "Cluster 143\n",
      "[[ 0.62607026  0.98535009 -0.07876719  1.25550499  0.          1.        ]]\n",
      "[0]\n",
      "Cluster 144\n",
      "[[-0.01474046  0.56375578  0.75107928  0.85024218  0.          1.        ]\n",
      " [ 0.27006431  0.7622496   0.75107928  0.45729049  0.          1.        ]]\n",
      "[0 0]\n",
      "Cluster 145\n",
      "[[ 0.76847264  0.90824918 -0.90861367 -0.39755568  0.          1.        ]\n",
      " [ 0.83967383  1.03948477 -0.90861367 -0.36940521  0.          1.        ]\n",
      " [ 0.91087502  0.56375578 -0.90861367 -0.34112398  0.          1.        ]\n",
      " [ 0.91087502  0.99027142 -0.90861367 -0.34082544  0.          1.        ]\n",
      " [ 0.91087502  0.42431797 -0.90861367 -0.2930616   0.          1.        ]\n",
      " [ 0.69727145  0.85247406 -0.90861367 -0.4250977   0.          1.        ]]\n",
      "[0 0 0 0 0 0]\n",
      "Cluster 146\n",
      "[[-0.01474046  0.59984556  3.24061871 -0.38607247  1.          0.        ]]\n",
      "[0]\n",
      "Cluster 147\n",
      "[[-1.22516069  0.05849878  1.58092576  1.84421918  1.          0.        ]\n",
      " [-1.43876426  0.66218246  0.75107928  1.910469    1.          0.        ]\n",
      " [-1.1539595   0.34721706  0.75107928  1.87936204  1.          0.        ]]\n",
      "[1 1 1]\n",
      "Cluster 148\n",
      "[[ 0.3412655  -0.69774628 -0.90861367 -0.48333003  1.          0.        ]\n",
      " [ 0.3412655  -0.49515134 -0.90861367 -0.48318822  1.          0.        ]\n",
      " [ 0.62607026 -0.28927552 -0.90861367 -0.41244934  1.          0.        ]\n",
      " [ 0.48366788 -0.47956712 -0.90861367 -0.43317188  1.          0.        ]\n",
      " [ 0.27006431 -0.91592544 -0.90861367 -0.4911306   1.          0.        ]\n",
      " [ 0.69727145 -0.57307247 -0.90861367 -0.38570061  1.          0.        ]\n",
      " [ 0.55486907 -1.04059924 -0.90861367 -0.391207    1.          0.        ]]\n",
      "[0 0 0 0 0 0 0]\n",
      "Cluster 149\n",
      "[[1.62288692 0.03471233 1.58092576 2.76302363 0.         1.        ]]\n",
      "[1]\n",
      "Cluster 150\n",
      "[[-1.08275831 -0.07437725  1.58092576 -0.71474562  1.          0.        ]\n",
      " [-0.65555117  0.03881344  1.58092576 -0.65629517  1.          0.        ]\n",
      " [-0.51314879  0.40873374  1.58092576 -0.5899495   1.          0.        ]]\n",
      "[0 0 0]\n",
      "Cluster 151\n",
      "[[-0.22834403 -1.39903643  1.58092576 -0.49912966  1.          0.        ]\n",
      " [-0.37074641 -1.91331587  1.58092576 -0.53838275  1.          0.        ]\n",
      " [-0.01474046 -1.28994685  1.58092576 -0.43654651  1.          0.        ]\n",
      " [ 0.05646073 -1.1964415   1.58092576 -0.41453424  1.          0.        ]]\n",
      "[0 0 0 0]\n",
      "Cluster 152\n",
      "[[-0.08594165  1.15923724 -0.90861367 -0.65035028  1.          0.        ]\n",
      " [ 0.3412655   0.95418164 -0.90861367 -0.03909076  1.          0.        ]\n",
      " [ 0.62607026  0.96976586 -0.90861367 -0.37992951  1.          0.        ]\n",
      " [ 0.05646073  0.90660874 -0.90861367 -0.60718907  1.          0.        ]\n",
      " [ 0.41246669  0.76060915 -0.90861367 -0.48922288  1.          0.        ]\n",
      " [ 0.19886312  1.1871248  -0.90861367 -0.56143222  1.          0.        ]]\n",
      "[0 0 0 0 0 0]\n",
      "Cluster 153\n",
      "[[ 0.3412655   1.03210277 -0.07876719 -0.43346358  1.          0.        ]\n",
      " [ 0.83967383  1.44959597 -0.07876719 -0.28006761  1.          0.        ]\n",
      " [ 0.19886312  1.74897714 -0.07876719 -0.46422333  1.          0.        ]\n",
      " [ 0.83967383  1.15923724 -0.07876719 -0.28027085  1.          0.        ]]\n",
      "[0 0 0 0]\n",
      "Cluster 154\n",
      "[[-1.01155712  1.74897714 -0.90861367  0.38069341  1.          0.        ]]\n",
      "[0]\n",
      "Cluster 155\n",
      "[[-1.50996545  1.39053996 -0.90861367 -0.03142085  0.          1.        ]\n",
      " [-1.36756307  1.60871911 -0.90861367 -0.93230209  0.          1.        ]]\n",
      "[0 0]\n",
      "Cluster 156\n",
      "[[-0.08594165 -1.56554158  1.58092576 -0.54668553  0.          1.        ]\n",
      " [ 0.41246669 -1.69185583  1.58092576 -0.38536752  0.          1.        ]\n",
      " [-0.15714284 -1.30553108  1.58092576 -0.51917914  0.          1.        ]]\n",
      "[0 0 0]\n",
      "Cluster 157\n",
      "[[-1.43876426 -0.37129776 -0.07876719 -0.90363197  1.          0.        ]\n",
      " [-1.50996545 -1.07832947 -0.07876719 -0.91440576  1.          0.        ]]\n",
      "[0 0]\n",
      "Cluster 158\n",
      "[[-0.4419476   2.01390898  1.58092576 -0.57076843  1.          0.        ]\n",
      " [-0.29954522  2.07952677  0.75107928 -0.6132348   1.          0.        ]]\n",
      "[0 0]\n",
      "Cluster 159\n",
      "[[-0.01474046 -0.72891473 -0.07876719 -0.59038142  0.          1.        ]\n",
      " [ 0.19886312 -0.7133305  -0.07876719 -0.52286318  0.          1.        ]\n",
      " [ 0.3412655  -0.86917276 -0.07876719 -0.4751893   0.          1.        ]\n",
      " [ 0.05646073 -0.7133305  -0.07876719 -0.56842369  0.          1.        ]\n",
      " [ 0.48366788 -0.66329694 -0.07876719 -0.45667831  0.          1.        ]]\n",
      "[0 0 0 0 0]\n",
      "Cluster 160\n",
      "[[-0.65555117 -1.2587784   0.75107928  0.33797438  0.          1.        ]\n",
      " [-0.37074641 -0.87983565  0.75107928  0.47103216  0.          1.        ]\n",
      " [-0.72675236 -0.15229838  0.75107928  0.40373878  0.          1.        ]\n",
      " [-0.29954522 -0.47956712  0.75107928  0.63720465  0.          1.        ]]\n",
      "[1 1 0 1]\n",
      "Cluster 161\n",
      "[[ 0.12766192 -0.30567997 -0.07876719 -0.57727446  0.          1.        ]\n",
      " [ 0.05646073 -0.21463528 -0.07876719 -0.56807462  0.          1.        ]\n",
      " [-0.08594165  0.05521789 -0.07876719 -0.64286233  0.          1.        ]\n",
      " [ 0.12766192 -0.37047754 -0.07876719 -0.54568126  0.          1.        ]\n",
      " [ 0.27006431 -0.09242215 -0.07876719 -0.53045345  0.          1.        ]\n",
      " [-0.08594165 -0.39262354 -0.07876719 -0.6431758   0.          1.        ]]\n",
      "[0 0 0 0 0 0]\n",
      "Cluster 162\n",
      "[[ 0.12766192  0.47353131 -0.90861367 -0.62538467  0.          1.        ]\n",
      " [-0.4419476  -0.06781547 -0.90861367 -0.7902259   0.          1.        ]\n",
      " [-0.22834403  0.13724013 -0.90861367 -0.73257612  0.          1.        ]\n",
      " [-0.15714284 -0.16788261 -0.90861367 -0.68087117  0.          1.        ]\n",
      " [-0.22834403 -0.15803994 -0.90861367 -0.73278281  0.          1.        ]\n",
      " [ 0.19886312  0.09704923 -0.90861367 -0.57095158  0.          1.        ]]\n",
      "[0 0 0 0 0 0]\n",
      "Cluster 163\n",
      "[[ 1.7652893   1.2346977  -0.90861367  0.0942143   0.          1.        ]\n",
      " [ 1.33808216  1.20352925 -0.90861367 -0.15732292  0.          1.        ]\n",
      " [ 1.62288692  1.10510256 -0.90861367 -0.024044    0.          1.        ]\n",
      " [ 1.55168573  1.26586615 -0.90861367 -0.0264633   0.          1.        ]\n",
      " [ 1.48048454  1.03210277 -0.90861367 -0.04372025  0.          1.        ]\n",
      " [ 1.7652893   1.39382084 -0.07876719  0.09482133  0.          1.        ]\n",
      " [ 1.69408811  1.00093431 -0.90861367  0.05876907  0.          1.        ]\n",
      " [ 1.62288692  1.52013509 -0.90861367 -0.02375349  0.          1.        ]]\n",
      "[0 0 0 0 0 0 0 0]\n",
      "Cluster 164\n",
      "[[-1.36756307 -1.45399133 -0.90861367  0.56973461  1.          0.        ]\n",
      " [-1.08275831 -1.22268861 -0.90861367  0.97570197  1.          0.        ]\n",
      " [-1.36756307 -1.02419479 -0.90861367  1.06193618  1.          0.        ]]\n",
      "[1 0 1]\n",
      "Cluster 165\n",
      "[[-0.65555117  1.33968617 -0.07876719  0.47026201  0.          1.        ]]\n",
      "[0]\n",
      "Cluster 166\n",
      "[[-1.50996545  1.31261883  0.75107928 -0.81591658  1.          0.        ]\n",
      " [-1.43876426  1.46846108 -0.07876719 -0.87070567  1.          0.        ]]\n",
      "[0 0]\n",
      "Cluster 167\n",
      "[[ 0.41246669  0.95418164  0.75107928  2.4360924   0.          1.        ]\n",
      " [-0.22834403  0.44892464  0.75107928  2.07716186  0.          1.        ]\n",
      " [-0.01474046  0.76060915  0.75107928  2.21663715  0.          1.        ]]\n",
      "[1 1 1]\n",
      "Cluster 168\n",
      "[[ 1.12447859  1.08869811 -0.90861367  0.6079774   0.          1.        ]\n",
      " [ 1.26688097  1.57755066 -0.90861367  0.61448162  0.          1.        ]\n",
      " [ 1.40928335  1.10510256 -0.90861367  0.70435659  0.          1.        ]]\n",
      "[0 0 0]\n",
      "Cluster 169\n",
      "[[-1.22516069  1.05096788  0.75107928  2.00025254  0.          1.        ]\n",
      " [-1.36756307  0.81392361  1.58092576  1.99867428  0.          1.        ]\n",
      " [-1.36756307  1.43319152  0.75107928  2.07130435  0.          1.        ]]\n",
      "[1 1 1]\n",
      "Cluster 170\n",
      "[[ 0.55486907 -0.40164599  1.58092576  0.961944    0.          1.        ]\n",
      " [ 0.55486907 -0.14163549  1.58092576  0.99451338  0.          1.        ]]\n",
      "[1 1]\n",
      "Cluster 171\n",
      "[[ 0.19886312 -0.98810501 -0.90861367  0.51589171  0.          1.        ]\n",
      " [-0.01474046 -0.69774628 -0.90861367  0.5682466   0.          1.        ]\n",
      " [-0.15714284 -0.14163549 -0.90861367  0.59065642  0.          1.        ]\n",
      " [ 0.48366788 -0.50253335 -0.90861367  0.93615631  0.          1.        ]]\n",
      "[1 1 0 0]\n",
      "Cluster 172\n",
      "[[ 1.7652893   0.19055458  0.75107928  0.23118962  1.          0.        ]\n",
      " [ 1.62288692 -0.02762458  0.75107928  0.14450786  1.          0.        ]]\n",
      "[0 0]\n",
      "Cluster 173\n",
      "[[ 0.3412655  -0.15229838  0.75107928  1.55617397  0.          1.        ]\n",
      " [ 0.3412655  -0.0760177   0.75107928  2.1253278   0.          1.        ]]\n",
      "[0 1]\n",
      "Cluster 174\n",
      "[[ 0.48366788  2.16975124  1.58092576 -0.35738404  0.          1.        ]]\n",
      "[0]\n",
      "Cluster 175\n",
      "[[-0.4419476   0.3669024   0.75107928 -0.65221544  1.          0.        ]\n",
      " [-0.58434998  0.34639684  0.75107928 -0.65615066  1.          0.        ]\n",
      " [-0.94035593  0.58016022  0.75107928 -0.76680086  1.          0.        ]\n",
      " [-0.72675236  0.23730726  0.75107928 -0.68956398  1.          0.        ]]\n",
      "[0 0 0 0]\n",
      "Cluster 176\n",
      "[[ 1.12447859  0.7442047  -0.90861367  2.57349299  1.          0.        ]\n",
      " [ 1.48048454  0.29308238 -0.90861367  2.62183079  1.          0.        ]]\n",
      "[1 1]\n",
      "Cluster 177\n",
      "[[-1.36756307  1.03948477  3.24061871 -0.69718746  1.          0.        ]]\n",
      "[0]\n",
      "Cluster 178\n",
      "[[ 0.41246669  0.18481303 -0.90861367  0.38485704  1.          0.        ]\n",
      " [ 0.91087502  0.08802678 -0.90861367 -0.30106206  1.          0.        ]\n",
      " [ 1.12447859 -0.13671415 -0.90861367 -0.16388303  1.          0.        ]\n",
      " [ 1.0532774   0.09458856 -0.90861367 -0.24216218  1.          0.        ]\n",
      " [ 1.12447859 -0.02680435 -0.90861367 -0.21196609  1.          0.        ]]\n",
      "[0 0 0 0 0]\n",
      "Cluster 179\n",
      "[[ 1.40928335  0.96074342 -0.07876719  1.24055132  1.          0.        ]]\n",
      "[0]\n",
      "Cluster 180\n",
      "[[ 0.98207621 -1.3211153   1.58092576  0.95848805  1.          0.        ]\n",
      " [ 0.62607026 -0.78961119  1.58092576  0.90128659  1.          0.        ]]\n",
      "[1 1]\n",
      "Cluster 181\n",
      "[[ 0.05646073  1.80885338 -0.90861367 -0.64695245  0.          1.        ]]\n",
      "[0]\n",
      "Cluster 182\n",
      "[[ 0.83967383  0.87051895 -0.07876719 -0.32086785  0.          1.        ]\n",
      " [ 0.48366788  1.43729263 -0.07876719 -0.40704801  0.          1.        ]\n",
      " [ 0.98207621  0.89184474 -0.07876719 -0.26306887  0.          1.        ]\n",
      " [ 0.83967383  1.48240486 -0.07876719 -0.32043956  0.          1.        ]\n",
      " [ 0.55486907  0.90824918 -0.07876719 -0.42974216  0.          1.        ]]\n",
      "[0 0 0 0 0]\n",
      "Cluster 183\n",
      "[[-1.1539595   0.44892464 -0.90861367 -0.20441023  1.          0.        ]\n",
      " [-1.50996545  0.52766599 -0.90861367 -0.14768408  1.          0.        ]]\n",
      "[0 0]\n",
      "Cluster 184\n",
      "[[ 0.41246669 -1.27436262  0.75107928  0.64665991  0.          1.        ]\n",
      " [ 0.27006431 -1.72794561  0.75107928  0.45411774  0.          1.        ]]\n",
      "[1 1]\n"
     ]
    }
   ],
   "source": [
    "for cluster_id in np.unique(best_model.labels_):\n",
    "    print(\"Cluster\", cluster_id)\n",
    "    in_cluster = best_model.labels_==cluster_id\n",
    "    x_cluster = X_train[in_cluster]\n",
    "    y_cluster = y_train[in_cluster]\n",
    "    print(x_cluster)\n",
    "    print(y_cluster)"
   ]
  },
  {
   "cell_type": "markdown",
   "id": "dec879fe-c6fd-48a9-b930-13bebfe4c925",
   "metadata": {},
   "source": [
    "11. train a classifier to predict\n",
    "which person is represented in each picture, and evaluate it on the\n",
    "validation set."
   ]
  },
  {
   "cell_type": "code",
   "execution_count": 8,
   "id": "57ba965a-ab4e-4c90-af87-8087d1403a98",
   "metadata": {},
   "outputs": [
    {
     "name": "stdout",
     "output_type": "stream",
     "text": [
      "Fitting 3 folds for each of 294 candidates, totalling 882 fits\n"
     ]
    },
    {
     "data": {
      "text/html": [
       "<style>#sk-container-id-1 {color: black;background-color: white;}#sk-container-id-1 pre{padding: 0;}#sk-container-id-1 div.sk-toggleable {background-color: white;}#sk-container-id-1 label.sk-toggleable__label {cursor: pointer;display: block;width: 100%;margin-bottom: 0;padding: 0.3em;box-sizing: border-box;text-align: center;}#sk-container-id-1 label.sk-toggleable__label-arrow:before {content: \"▸\";float: left;margin-right: 0.25em;color: #696969;}#sk-container-id-1 label.sk-toggleable__label-arrow:hover:before {color: black;}#sk-container-id-1 div.sk-estimator:hover label.sk-toggleable__label-arrow:before {color: black;}#sk-container-id-1 div.sk-toggleable__content {max-height: 0;max-width: 0;overflow: hidden;text-align: left;background-color: #f0f8ff;}#sk-container-id-1 div.sk-toggleable__content pre {margin: 0.2em;color: black;border-radius: 0.25em;background-color: #f0f8ff;}#sk-container-id-1 input.sk-toggleable__control:checked~div.sk-toggleable__content {max-height: 200px;max-width: 100%;overflow: auto;}#sk-container-id-1 input.sk-toggleable__control:checked~label.sk-toggleable__label-arrow:before {content: \"▾\";}#sk-container-id-1 div.sk-estimator input.sk-toggleable__control:checked~label.sk-toggleable__label {background-color: #d4ebff;}#sk-container-id-1 div.sk-label input.sk-toggleable__control:checked~label.sk-toggleable__label {background-color: #d4ebff;}#sk-container-id-1 input.sk-hidden--visually {border: 0;clip: rect(1px 1px 1px 1px);clip: rect(1px, 1px, 1px, 1px);height: 1px;margin: -1px;overflow: hidden;padding: 0;position: absolute;width: 1px;}#sk-container-id-1 div.sk-estimator {font-family: monospace;background-color: #f0f8ff;border: 1px dotted black;border-radius: 0.25em;box-sizing: border-box;margin-bottom: 0.5em;}#sk-container-id-1 div.sk-estimator:hover {background-color: #d4ebff;}#sk-container-id-1 div.sk-parallel-item::after {content: \"\";width: 100%;border-bottom: 1px solid gray;flex-grow: 1;}#sk-container-id-1 div.sk-label:hover label.sk-toggleable__label {background-color: #d4ebff;}#sk-container-id-1 div.sk-serial::before {content: \"\";position: absolute;border-left: 1px solid gray;box-sizing: border-box;top: 0;bottom: 0;left: 50%;z-index: 0;}#sk-container-id-1 div.sk-serial {display: flex;flex-direction: column;align-items: center;background-color: white;padding-right: 0.2em;padding-left: 0.2em;position: relative;}#sk-container-id-1 div.sk-item {position: relative;z-index: 1;}#sk-container-id-1 div.sk-parallel {display: flex;align-items: stretch;justify-content: center;background-color: white;position: relative;}#sk-container-id-1 div.sk-item::before, #sk-container-id-1 div.sk-parallel-item::before {content: \"\";position: absolute;border-left: 1px solid gray;box-sizing: border-box;top: 0;bottom: 0;left: 50%;z-index: -1;}#sk-container-id-1 div.sk-parallel-item {display: flex;flex-direction: column;z-index: 1;position: relative;background-color: white;}#sk-container-id-1 div.sk-parallel-item:first-child::after {align-self: flex-end;width: 50%;}#sk-container-id-1 div.sk-parallel-item:last-child::after {align-self: flex-start;width: 50%;}#sk-container-id-1 div.sk-parallel-item:only-child::after {width: 0;}#sk-container-id-1 div.sk-dashed-wrapped {border: 1px dashed gray;margin: 0 0.4em 0.5em 0.4em;box-sizing: border-box;padding-bottom: 0.4em;background-color: white;}#sk-container-id-1 div.sk-label label {font-family: monospace;font-weight: bold;display: inline-block;line-height: 1.2em;}#sk-container-id-1 div.sk-label-container {text-align: center;}#sk-container-id-1 div.sk-container {/* jupyter's `normalize.less` sets `[hidden] { display: none; }` but bootstrap.min.css set `[hidden] { display: none !important; }` so we also need the `!important` here to be able to override the default hidden behavior on the sphinx rendered scikit-learn.org. See: https://github.com/scikit-learn/scikit-learn/issues/21755 */display: inline-block !important;position: relative;}#sk-container-id-1 div.sk-text-repr-fallback {display: none;}</style><div id=\"sk-container-id-1\" class=\"sk-top-container\"><div class=\"sk-text-repr-fallback\"><pre>GridSearchCV(cv=3, estimator=DecisionTreeClassifier(random_state=42),\n",
       "             param_grid={&#x27;max_leaf_nodes&#x27;: [2, 3, 4, 5, 6, 7, 8, 9, 10, 11, 12,\n",
       "                                            13, 14, 15, 16, 17, 18, 19, 20, 21,\n",
       "                                            22, 23, 24, 25, 26, 27, 28, 29, 30,\n",
       "                                            31, ...],\n",
       "                         &#x27;min_samples_split&#x27;: [2, 3, 4]},\n",
       "             verbose=1)</pre><b>In a Jupyter environment, please rerun this cell to show the HTML representation or trust the notebook. <br />On GitHub, the HTML representation is unable to render, please try loading this page with nbviewer.org.</b></div><div class=\"sk-container\" hidden><div class=\"sk-item sk-dashed-wrapped\"><div class=\"sk-label-container\"><div class=\"sk-label sk-toggleable\"><input class=\"sk-toggleable__control sk-hidden--visually\" id=\"sk-estimator-id-1\" type=\"checkbox\" ><label for=\"sk-estimator-id-1\" class=\"sk-toggleable__label sk-toggleable__label-arrow\">GridSearchCV</label><div class=\"sk-toggleable__content\"><pre>GridSearchCV(cv=3, estimator=DecisionTreeClassifier(random_state=42),\n",
       "             param_grid={&#x27;max_leaf_nodes&#x27;: [2, 3, 4, 5, 6, 7, 8, 9, 10, 11, 12,\n",
       "                                            13, 14, 15, 16, 17, 18, 19, 20, 21,\n",
       "                                            22, 23, 24, 25, 26, 27, 28, 29, 30,\n",
       "                                            31, ...],\n",
       "                         &#x27;min_samples_split&#x27;: [2, 3, 4]},\n",
       "             verbose=1)</pre></div></div></div><div class=\"sk-parallel\"><div class=\"sk-parallel-item\"><div class=\"sk-item\"><div class=\"sk-label-container\"><div class=\"sk-label sk-toggleable\"><input class=\"sk-toggleable__control sk-hidden--visually\" id=\"sk-estimator-id-2\" type=\"checkbox\" ><label for=\"sk-estimator-id-2\" class=\"sk-toggleable__label sk-toggleable__label-arrow\">estimator: DecisionTreeClassifier</label><div class=\"sk-toggleable__content\"><pre>DecisionTreeClassifier(random_state=42)</pre></div></div></div><div class=\"sk-serial\"><div class=\"sk-item\"><div class=\"sk-estimator sk-toggleable\"><input class=\"sk-toggleable__control sk-hidden--visually\" id=\"sk-estimator-id-3\" type=\"checkbox\" ><label for=\"sk-estimator-id-3\" class=\"sk-toggleable__label sk-toggleable__label-arrow\">DecisionTreeClassifier</label><div class=\"sk-toggleable__content\"><pre>DecisionTreeClassifier(random_state=42)</pre></div></div></div></div></div></div></div></div></div></div>"
      ],
      "text/plain": [
       "GridSearchCV(cv=3, estimator=DecisionTreeClassifier(random_state=42),\n",
       "             param_grid={'max_leaf_nodes': [2, 3, 4, 5, 6, 7, 8, 9, 10, 11, 12,\n",
       "                                            13, 14, 15, 16, 17, 18, 19, 20, 21,\n",
       "                                            22, 23, 24, 25, 26, 27, 28, 29, 30,\n",
       "                                            31, ...],\n",
       "                         'min_samples_split': [2, 3, 4]},\n",
       "             verbose=1)"
      ]
     },
     "execution_count": 8,
     "metadata": {},
     "output_type": "execute_result"
    }
   ],
   "source": [
    "from sklearn.model_selection import GridSearchCV\n",
    "from sklearn.tree import DecisionTreeClassifier\n",
    "\n",
    "params = {'max_leaf_nodes': list(range(2, 100)), 'min_samples_split': [2, 3, 4]}\n",
    "grid_search_cv = GridSearchCV(DecisionTreeClassifier(random_state=42), params, verbose=1, cv=3)\n",
    "\n",
    "grid_search_cv.fit(X_train, y_train)"
   ]
  },
  {
   "cell_type": "code",
   "execution_count": 9,
   "id": "67c6bfee-90b4-4fec-92ea-b1011199142f",
   "metadata": {},
   "outputs": [
    {
     "data": {
      "text/plain": [
       "0.9552238805970149"
      ]
     },
     "execution_count": 9,
     "metadata": {},
     "output_type": "execute_result"
    }
   ],
   "source": [
    "from sklearn.metrics import accuracy_score\n",
    "\n",
    "y_pred = grid_search_cv.predict(X_valid)\n",
    "accuracy_score(y_valid, y_pred)"
   ]
  },
  {
   "cell_type": "markdown",
   "id": "9a05feb7-3c5b-473b-8553-21b48ee6d5d2",
   "metadata": {},
   "source": [
    "Next, use K-Means as a dimensionality reduction tool, and train a classifier on the reduced set."
   ]
  },
  {
   "cell_type": "code",
   "execution_count": 10,
   "id": "8d9663d7-a252-4ff9-8fc4-5ef895c290e9",
   "metadata": {},
   "outputs": [
    {
     "name": "stdout",
     "output_type": "stream",
     "text": [
      "Fitting 3 folds for each of 294 candidates, totalling 882 fits\n"
     ]
    },
    {
     "data": {
      "text/html": [
       "<style>#sk-container-id-2 {color: black;background-color: white;}#sk-container-id-2 pre{padding: 0;}#sk-container-id-2 div.sk-toggleable {background-color: white;}#sk-container-id-2 label.sk-toggleable__label {cursor: pointer;display: block;width: 100%;margin-bottom: 0;padding: 0.3em;box-sizing: border-box;text-align: center;}#sk-container-id-2 label.sk-toggleable__label-arrow:before {content: \"▸\";float: left;margin-right: 0.25em;color: #696969;}#sk-container-id-2 label.sk-toggleable__label-arrow:hover:before {color: black;}#sk-container-id-2 div.sk-estimator:hover label.sk-toggleable__label-arrow:before {color: black;}#sk-container-id-2 div.sk-toggleable__content {max-height: 0;max-width: 0;overflow: hidden;text-align: left;background-color: #f0f8ff;}#sk-container-id-2 div.sk-toggleable__content pre {margin: 0.2em;color: black;border-radius: 0.25em;background-color: #f0f8ff;}#sk-container-id-2 input.sk-toggleable__control:checked~div.sk-toggleable__content {max-height: 200px;max-width: 100%;overflow: auto;}#sk-container-id-2 input.sk-toggleable__control:checked~label.sk-toggleable__label-arrow:before {content: \"▾\";}#sk-container-id-2 div.sk-estimator input.sk-toggleable__control:checked~label.sk-toggleable__label {background-color: #d4ebff;}#sk-container-id-2 div.sk-label input.sk-toggleable__control:checked~label.sk-toggleable__label {background-color: #d4ebff;}#sk-container-id-2 input.sk-hidden--visually {border: 0;clip: rect(1px 1px 1px 1px);clip: rect(1px, 1px, 1px, 1px);height: 1px;margin: -1px;overflow: hidden;padding: 0;position: absolute;width: 1px;}#sk-container-id-2 div.sk-estimator {font-family: monospace;background-color: #f0f8ff;border: 1px dotted black;border-radius: 0.25em;box-sizing: border-box;margin-bottom: 0.5em;}#sk-container-id-2 div.sk-estimator:hover {background-color: #d4ebff;}#sk-container-id-2 div.sk-parallel-item::after {content: \"\";width: 100%;border-bottom: 1px solid gray;flex-grow: 1;}#sk-container-id-2 div.sk-label:hover label.sk-toggleable__label {background-color: #d4ebff;}#sk-container-id-2 div.sk-serial::before {content: \"\";position: absolute;border-left: 1px solid gray;box-sizing: border-box;top: 0;bottom: 0;left: 50%;z-index: 0;}#sk-container-id-2 div.sk-serial {display: flex;flex-direction: column;align-items: center;background-color: white;padding-right: 0.2em;padding-left: 0.2em;position: relative;}#sk-container-id-2 div.sk-item {position: relative;z-index: 1;}#sk-container-id-2 div.sk-parallel {display: flex;align-items: stretch;justify-content: center;background-color: white;position: relative;}#sk-container-id-2 div.sk-item::before, #sk-container-id-2 div.sk-parallel-item::before {content: \"\";position: absolute;border-left: 1px solid gray;box-sizing: border-box;top: 0;bottom: 0;left: 50%;z-index: -1;}#sk-container-id-2 div.sk-parallel-item {display: flex;flex-direction: column;z-index: 1;position: relative;background-color: white;}#sk-container-id-2 div.sk-parallel-item:first-child::after {align-self: flex-end;width: 50%;}#sk-container-id-2 div.sk-parallel-item:last-child::after {align-self: flex-start;width: 50%;}#sk-container-id-2 div.sk-parallel-item:only-child::after {width: 0;}#sk-container-id-2 div.sk-dashed-wrapped {border: 1px dashed gray;margin: 0 0.4em 0.5em 0.4em;box-sizing: border-box;padding-bottom: 0.4em;background-color: white;}#sk-container-id-2 div.sk-label label {font-family: monospace;font-weight: bold;display: inline-block;line-height: 1.2em;}#sk-container-id-2 div.sk-label-container {text-align: center;}#sk-container-id-2 div.sk-container {/* jupyter's `normalize.less` sets `[hidden] { display: none; }` but bootstrap.min.css set `[hidden] { display: none !important; }` so we also need the `!important` here to be able to override the default hidden behavior on the sphinx rendered scikit-learn.org. See: https://github.com/scikit-learn/scikit-learn/issues/21755 */display: inline-block !important;position: relative;}#sk-container-id-2 div.sk-text-repr-fallback {display: none;}</style><div id=\"sk-container-id-2\" class=\"sk-top-container\"><div class=\"sk-text-repr-fallback\"><pre>GridSearchCV(cv=3, estimator=DecisionTreeClassifier(random_state=42),\n",
       "             param_grid={&#x27;max_leaf_nodes&#x27;: [2, 3, 4, 5, 6, 7, 8, 9, 10, 11, 12,\n",
       "                                            13, 14, 15, 16, 17, 18, 19, 20, 21,\n",
       "                                            22, 23, 24, 25, 26, 27, 28, 29, 30,\n",
       "                                            31, ...],\n",
       "                         &#x27;min_samples_split&#x27;: [2, 3, 4]},\n",
       "             verbose=1)</pre><b>In a Jupyter environment, please rerun this cell to show the HTML representation or trust the notebook. <br />On GitHub, the HTML representation is unable to render, please try loading this page with nbviewer.org.</b></div><div class=\"sk-container\" hidden><div class=\"sk-item sk-dashed-wrapped\"><div class=\"sk-label-container\"><div class=\"sk-label sk-toggleable\"><input class=\"sk-toggleable__control sk-hidden--visually\" id=\"sk-estimator-id-4\" type=\"checkbox\" ><label for=\"sk-estimator-id-4\" class=\"sk-toggleable__label sk-toggleable__label-arrow\">GridSearchCV</label><div class=\"sk-toggleable__content\"><pre>GridSearchCV(cv=3, estimator=DecisionTreeClassifier(random_state=42),\n",
       "             param_grid={&#x27;max_leaf_nodes&#x27;: [2, 3, 4, 5, 6, 7, 8, 9, 10, 11, 12,\n",
       "                                            13, 14, 15, 16, 17, 18, 19, 20, 21,\n",
       "                                            22, 23, 24, 25, 26, 27, 28, 29, 30,\n",
       "                                            31, ...],\n",
       "                         &#x27;min_samples_split&#x27;: [2, 3, 4]},\n",
       "             verbose=1)</pre></div></div></div><div class=\"sk-parallel\"><div class=\"sk-parallel-item\"><div class=\"sk-item\"><div class=\"sk-label-container\"><div class=\"sk-label sk-toggleable\"><input class=\"sk-toggleable__control sk-hidden--visually\" id=\"sk-estimator-id-5\" type=\"checkbox\" ><label for=\"sk-estimator-id-5\" class=\"sk-toggleable__label sk-toggleable__label-arrow\">estimator: DecisionTreeClassifier</label><div class=\"sk-toggleable__content\"><pre>DecisionTreeClassifier(random_state=42)</pre></div></div></div><div class=\"sk-serial\"><div class=\"sk-item\"><div class=\"sk-estimator sk-toggleable\"><input class=\"sk-toggleable__control sk-hidden--visually\" id=\"sk-estimator-id-6\" type=\"checkbox\" ><label for=\"sk-estimator-id-6\" class=\"sk-toggleable__label sk-toggleable__label-arrow\">DecisionTreeClassifier</label><div class=\"sk-toggleable__content\"><pre>DecisionTreeClassifier(random_state=42)</pre></div></div></div></div></div></div></div></div></div></div>"
      ],
      "text/plain": [
       "GridSearchCV(cv=3, estimator=DecisionTreeClassifier(random_state=42),\n",
       "             param_grid={'max_leaf_nodes': [2, 3, 4, 5, 6, 7, 8, 9, 10, 11, 12,\n",
       "                                            13, 14, 15, 16, 17, 18, 19, 20, 21,\n",
       "                                            22, 23, 24, 25, 26, 27, 28, 29, 30,\n",
       "                                            31, ...],\n",
       "                         'min_samples_split': [2, 3, 4]},\n",
       "             verbose=1)"
      ]
     },
     "execution_count": 10,
     "metadata": {},
     "output_type": "execute_result"
    }
   ],
   "source": [
    "X_train_reduced = best_model.transform(X_train)\n",
    "X_valid_reduced = best_model.transform(X_valid)\n",
    "X_test_reduced = best_model.transform(X_test)\n",
    "\n",
    "params = {'max_leaf_nodes': list(range(2, 100)), 'min_samples_split': [2, 3, 4]}\n",
    "grid_search_cv = GridSearchCV(DecisionTreeClassifier(random_state=42), params, verbose=1, cv=3)\n",
    "\n",
    "grid_search_cv.fit(X_train_reduced, y_train)"
   ]
  },
  {
   "cell_type": "code",
   "execution_count": 11,
   "id": "846ee7e3-ad37-4f39-8a8d-0c18e85069d2",
   "metadata": {},
   "outputs": [
    {
     "data": {
      "text/plain": [
       "0.9291044776119403"
      ]
     },
     "execution_count": 11,
     "metadata": {},
     "output_type": "execute_result"
    }
   ],
   "source": [
    "from sklearn.metrics import accuracy_score\n",
    "\n",
    "y_pred = grid_search_cv.predict(X_valid_reduced)\n",
    "accuracy_score(y_valid, y_pred)"
   ]
  },
  {
   "cell_type": "markdown",
   "id": "b3129cb3-9426-49e1-adbf-30483300dce3",
   "metadata": {},
   "source": [
    "Search for the number of\n",
    "clusters that allows the classifier to get the best performance: what\n",
    "performance can you reach?"
   ]
  },
  {
   "cell_type": "code",
   "execution_count": 12,
   "id": "db9afbcb-bd82-4bc2-b30a-996ec06b4684",
   "metadata": {},
   "outputs": [
    {
     "name": "stderr",
     "output_type": "stream",
     "text": [
      "D:\\programming\\anaconda\\Lib\\site-packages\\sklearn\\cluster\\_kmeans.py:870: FutureWarning: The default value of `n_init` will change from 10 to 'auto' in 1.4. Set the value of `n_init` explicitly to suppress the warning\n",
      "  warnings.warn(\n",
      "D:\\programming\\anaconda\\Lib\\site-packages\\sklearn\\cluster\\_kmeans.py:1382: UserWarning: KMeans is known to have a memory leak on Windows with MKL, when there are less chunks than available threads. You can avoid it by setting the environment variable OMP_NUM_THREADS=4.\n",
      "  warnings.warn(\n"
     ]
    },
    {
     "name": "stdout",
     "output_type": "stream",
     "text": [
      "Fitting 3 folds for each of 294 candidates, totalling 882 fits\n",
      "5 0.9402985074626866\n",
      "Fitting 3 folds for each of 294 candidates, totalling 882 fits\n"
     ]
    },
    {
     "name": "stderr",
     "output_type": "stream",
     "text": [
      "D:\\programming\\anaconda\\Lib\\site-packages\\sklearn\\cluster\\_kmeans.py:870: FutureWarning: The default value of `n_init` will change from 10 to 'auto' in 1.4. Set the value of `n_init` explicitly to suppress the warning\n",
      "  warnings.warn(\n",
      "D:\\programming\\anaconda\\Lib\\site-packages\\sklearn\\cluster\\_kmeans.py:1382: UserWarning: KMeans is known to have a memory leak on Windows with MKL, when there are less chunks than available threads. You can avoid it by setting the environment variable OMP_NUM_THREADS=4.\n",
      "  warnings.warn(\n"
     ]
    },
    {
     "name": "stdout",
     "output_type": "stream",
     "text": [
      "10 0.8992537313432836\n",
      "Fitting 3 folds for each of 294 candidates, totalling 882 fits\n"
     ]
    },
    {
     "name": "stderr",
     "output_type": "stream",
     "text": [
      "D:\\programming\\anaconda\\Lib\\site-packages\\sklearn\\cluster\\_kmeans.py:870: FutureWarning: The default value of `n_init` will change from 10 to 'auto' in 1.4. Set the value of `n_init` explicitly to suppress the warning\n",
      "  warnings.warn(\n",
      "D:\\programming\\anaconda\\Lib\\site-packages\\sklearn\\cluster\\_kmeans.py:1382: UserWarning: KMeans is known to have a memory leak on Windows with MKL, when there are less chunks than available threads. You can avoid it by setting the environment variable OMP_NUM_THREADS=4.\n",
      "  warnings.warn(\n"
     ]
    },
    {
     "name": "stdout",
     "output_type": "stream",
     "text": [
      "15 0.9253731343283582\n",
      "Fitting 3 folds for each of 294 candidates, totalling 882 fits\n"
     ]
    },
    {
     "name": "stderr",
     "output_type": "stream",
     "text": [
      "D:\\programming\\anaconda\\Lib\\site-packages\\sklearn\\cluster\\_kmeans.py:870: FutureWarning: The default value of `n_init` will change from 10 to 'auto' in 1.4. Set the value of `n_init` explicitly to suppress the warning\n",
      "  warnings.warn(\n",
      "D:\\programming\\anaconda\\Lib\\site-packages\\sklearn\\cluster\\_kmeans.py:1382: UserWarning: KMeans is known to have a memory leak on Windows with MKL, when there are less chunks than available threads. You can avoid it by setting the environment variable OMP_NUM_THREADS=4.\n",
      "  warnings.warn(\n"
     ]
    },
    {
     "name": "stdout",
     "output_type": "stream",
     "text": [
      "20 0.9104477611940298\n",
      "Fitting 3 folds for each of 294 candidates, totalling 882 fits\n"
     ]
    },
    {
     "name": "stderr",
     "output_type": "stream",
     "text": [
      "D:\\programming\\anaconda\\Lib\\site-packages\\sklearn\\cluster\\_kmeans.py:870: FutureWarning: The default value of `n_init` will change from 10 to 'auto' in 1.4. Set the value of `n_init` explicitly to suppress the warning\n",
      "  warnings.warn(\n",
      "D:\\programming\\anaconda\\Lib\\site-packages\\sklearn\\cluster\\_kmeans.py:1382: UserWarning: KMeans is known to have a memory leak on Windows with MKL, when there are less chunks than available threads. You can avoid it by setting the environment variable OMP_NUM_THREADS=4.\n",
      "  warnings.warn(\n"
     ]
    },
    {
     "name": "stdout",
     "output_type": "stream",
     "text": [
      "25 0.914179104477612\n",
      "Fitting 3 folds for each of 294 candidates, totalling 882 fits\n"
     ]
    },
    {
     "name": "stderr",
     "output_type": "stream",
     "text": [
      "D:\\programming\\anaconda\\Lib\\site-packages\\sklearn\\cluster\\_kmeans.py:870: FutureWarning: The default value of `n_init` will change from 10 to 'auto' in 1.4. Set the value of `n_init` explicitly to suppress the warning\n",
      "  warnings.warn(\n",
      "D:\\programming\\anaconda\\Lib\\site-packages\\sklearn\\cluster\\_kmeans.py:1382: UserWarning: KMeans is known to have a memory leak on Windows with MKL, when there are less chunks than available threads. You can avoid it by setting the environment variable OMP_NUM_THREADS=4.\n",
      "  warnings.warn(\n"
     ]
    },
    {
     "name": "stdout",
     "output_type": "stream",
     "text": [
      "30 0.9440298507462687\n",
      "Fitting 3 folds for each of 294 candidates, totalling 882 fits\n"
     ]
    },
    {
     "name": "stderr",
     "output_type": "stream",
     "text": [
      "D:\\programming\\anaconda\\Lib\\site-packages\\sklearn\\cluster\\_kmeans.py:870: FutureWarning: The default value of `n_init` will change from 10 to 'auto' in 1.4. Set the value of `n_init` explicitly to suppress the warning\n",
      "  warnings.warn(\n",
      "D:\\programming\\anaconda\\Lib\\site-packages\\sklearn\\cluster\\_kmeans.py:1382: UserWarning: KMeans is known to have a memory leak on Windows with MKL, when there are less chunks than available threads. You can avoid it by setting the environment variable OMP_NUM_THREADS=4.\n",
      "  warnings.warn(\n"
     ]
    },
    {
     "name": "stdout",
     "output_type": "stream",
     "text": [
      "35 0.8768656716417911\n",
      "Fitting 3 folds for each of 294 candidates, totalling 882 fits\n"
     ]
    },
    {
     "name": "stderr",
     "output_type": "stream",
     "text": [
      "D:\\programming\\anaconda\\Lib\\site-packages\\sklearn\\cluster\\_kmeans.py:870: FutureWarning: The default value of `n_init` will change from 10 to 'auto' in 1.4. Set the value of `n_init` explicitly to suppress the warning\n",
      "  warnings.warn(\n",
      "D:\\programming\\anaconda\\Lib\\site-packages\\sklearn\\cluster\\_kmeans.py:1382: UserWarning: KMeans is known to have a memory leak on Windows with MKL, when there are less chunks than available threads. You can avoid it by setting the environment variable OMP_NUM_THREADS=4.\n",
      "  warnings.warn(\n"
     ]
    },
    {
     "name": "stdout",
     "output_type": "stream",
     "text": [
      "40 0.9216417910447762\n",
      "Fitting 3 folds for each of 294 candidates, totalling 882 fits\n"
     ]
    },
    {
     "name": "stderr",
     "output_type": "stream",
     "text": [
      "D:\\programming\\anaconda\\Lib\\site-packages\\sklearn\\cluster\\_kmeans.py:870: FutureWarning: The default value of `n_init` will change from 10 to 'auto' in 1.4. Set the value of `n_init` explicitly to suppress the warning\n",
      "  warnings.warn(\n",
      "D:\\programming\\anaconda\\Lib\\site-packages\\sklearn\\cluster\\_kmeans.py:1382: UserWarning: KMeans is known to have a memory leak on Windows with MKL, when there are less chunks than available threads. You can avoid it by setting the environment variable OMP_NUM_THREADS=4.\n",
      "  warnings.warn(\n"
     ]
    },
    {
     "name": "stdout",
     "output_type": "stream",
     "text": [
      "45 0.8992537313432836\n",
      "Fitting 3 folds for each of 294 candidates, totalling 882 fits\n"
     ]
    },
    {
     "name": "stderr",
     "output_type": "stream",
     "text": [
      "D:\\programming\\anaconda\\Lib\\site-packages\\sklearn\\cluster\\_kmeans.py:870: FutureWarning: The default value of `n_init` will change from 10 to 'auto' in 1.4. Set the value of `n_init` explicitly to suppress the warning\n",
      "  warnings.warn(\n",
      "D:\\programming\\anaconda\\Lib\\site-packages\\sklearn\\cluster\\_kmeans.py:1382: UserWarning: KMeans is known to have a memory leak on Windows with MKL, when there are less chunks than available threads. You can avoid it by setting the environment variable OMP_NUM_THREADS=4.\n",
      "  warnings.warn(\n"
     ]
    },
    {
     "name": "stdout",
     "output_type": "stream",
     "text": [
      "50 0.914179104477612\n",
      "Fitting 3 folds for each of 294 candidates, totalling 882 fits\n"
     ]
    },
    {
     "name": "stderr",
     "output_type": "stream",
     "text": [
      "D:\\programming\\anaconda\\Lib\\site-packages\\sklearn\\cluster\\_kmeans.py:870: FutureWarning: The default value of `n_init` will change from 10 to 'auto' in 1.4. Set the value of `n_init` explicitly to suppress the warning\n",
      "  warnings.warn(\n",
      "D:\\programming\\anaconda\\Lib\\site-packages\\sklearn\\cluster\\_kmeans.py:1382: UserWarning: KMeans is known to have a memory leak on Windows with MKL, when there are less chunks than available threads. You can avoid it by setting the environment variable OMP_NUM_THREADS=4.\n",
      "  warnings.warn(\n"
     ]
    },
    {
     "name": "stdout",
     "output_type": "stream",
     "text": [
      "55 0.9291044776119403\n"
     ]
    },
    {
     "name": "stderr",
     "output_type": "stream",
     "text": [
      "D:\\programming\\anaconda\\Lib\\site-packages\\sklearn\\cluster\\_kmeans.py:870: FutureWarning: The default value of `n_init` will change from 10 to 'auto' in 1.4. Set the value of `n_init` explicitly to suppress the warning\n",
      "  warnings.warn(\n",
      "D:\\programming\\anaconda\\Lib\\site-packages\\sklearn\\cluster\\_kmeans.py:1382: UserWarning: KMeans is known to have a memory leak on Windows with MKL, when there are less chunks than available threads. You can avoid it by setting the environment variable OMP_NUM_THREADS=4.\n",
      "  warnings.warn(\n"
     ]
    },
    {
     "name": "stdout",
     "output_type": "stream",
     "text": [
      "Fitting 3 folds for each of 294 candidates, totalling 882 fits\n",
      "60 0.9029850746268657\n"
     ]
    },
    {
     "name": "stderr",
     "output_type": "stream",
     "text": [
      "D:\\programming\\anaconda\\Lib\\site-packages\\sklearn\\cluster\\_kmeans.py:870: FutureWarning: The default value of `n_init` will change from 10 to 'auto' in 1.4. Set the value of `n_init` explicitly to suppress the warning\n",
      "  warnings.warn(\n",
      "D:\\programming\\anaconda\\Lib\\site-packages\\sklearn\\cluster\\_kmeans.py:1382: UserWarning: KMeans is known to have a memory leak on Windows with MKL, when there are less chunks than available threads. You can avoid it by setting the environment variable OMP_NUM_THREADS=4.\n",
      "  warnings.warn(\n"
     ]
    },
    {
     "name": "stdout",
     "output_type": "stream",
     "text": [
      "Fitting 3 folds for each of 294 candidates, totalling 882 fits\n",
      "65 0.9253731343283582\n"
     ]
    },
    {
     "name": "stderr",
     "output_type": "stream",
     "text": [
      "D:\\programming\\anaconda\\Lib\\site-packages\\sklearn\\cluster\\_kmeans.py:870: FutureWarning: The default value of `n_init` will change from 10 to 'auto' in 1.4. Set the value of `n_init` explicitly to suppress the warning\n",
      "  warnings.warn(\n",
      "D:\\programming\\anaconda\\Lib\\site-packages\\sklearn\\cluster\\_kmeans.py:1382: UserWarning: KMeans is known to have a memory leak on Windows with MKL, when there are less chunks than available threads. You can avoid it by setting the environment variable OMP_NUM_THREADS=4.\n",
      "  warnings.warn(\n"
     ]
    },
    {
     "name": "stdout",
     "output_type": "stream",
     "text": [
      "Fitting 3 folds for each of 294 candidates, totalling 882 fits\n",
      "70 0.9104477611940298\n"
     ]
    },
    {
     "name": "stderr",
     "output_type": "stream",
     "text": [
      "D:\\programming\\anaconda\\Lib\\site-packages\\sklearn\\cluster\\_kmeans.py:870: FutureWarning: The default value of `n_init` will change from 10 to 'auto' in 1.4. Set the value of `n_init` explicitly to suppress the warning\n",
      "  warnings.warn(\n",
      "D:\\programming\\anaconda\\Lib\\site-packages\\sklearn\\cluster\\_kmeans.py:1382: UserWarning: KMeans is known to have a memory leak on Windows with MKL, when there are less chunks than available threads. You can avoid it by setting the environment variable OMP_NUM_THREADS=4.\n",
      "  warnings.warn(\n"
     ]
    },
    {
     "name": "stdout",
     "output_type": "stream",
     "text": [
      "Fitting 3 folds for each of 294 candidates, totalling 882 fits\n",
      "75 0.9104477611940298\n"
     ]
    },
    {
     "name": "stderr",
     "output_type": "stream",
     "text": [
      "D:\\programming\\anaconda\\Lib\\site-packages\\sklearn\\cluster\\_kmeans.py:870: FutureWarning: The default value of `n_init` will change from 10 to 'auto' in 1.4. Set the value of `n_init` explicitly to suppress the warning\n",
      "  warnings.warn(\n",
      "D:\\programming\\anaconda\\Lib\\site-packages\\sklearn\\cluster\\_kmeans.py:1382: UserWarning: KMeans is known to have a memory leak on Windows with MKL, when there are less chunks than available threads. You can avoid it by setting the environment variable OMP_NUM_THREADS=4.\n",
      "  warnings.warn(\n"
     ]
    },
    {
     "name": "stdout",
     "output_type": "stream",
     "text": [
      "Fitting 3 folds for each of 294 candidates, totalling 882 fits\n",
      "80 0.9253731343283582\n"
     ]
    },
    {
     "name": "stderr",
     "output_type": "stream",
     "text": [
      "D:\\programming\\anaconda\\Lib\\site-packages\\sklearn\\cluster\\_kmeans.py:870: FutureWarning: The default value of `n_init` will change from 10 to 'auto' in 1.4. Set the value of `n_init` explicitly to suppress the warning\n",
      "  warnings.warn(\n",
      "D:\\programming\\anaconda\\Lib\\site-packages\\sklearn\\cluster\\_kmeans.py:1382: UserWarning: KMeans is known to have a memory leak on Windows with MKL, when there are less chunks than available threads. You can avoid it by setting the environment variable OMP_NUM_THREADS=4.\n",
      "  warnings.warn(\n"
     ]
    },
    {
     "name": "stdout",
     "output_type": "stream",
     "text": [
      "Fitting 3 folds for each of 294 candidates, totalling 882 fits\n",
      "85 0.8992537313432836\n"
     ]
    },
    {
     "name": "stderr",
     "output_type": "stream",
     "text": [
      "D:\\programming\\anaconda\\Lib\\site-packages\\sklearn\\cluster\\_kmeans.py:870: FutureWarning: The default value of `n_init` will change from 10 to 'auto' in 1.4. Set the value of `n_init` explicitly to suppress the warning\n",
      "  warnings.warn(\n",
      "D:\\programming\\anaconda\\Lib\\site-packages\\sklearn\\cluster\\_kmeans.py:1382: UserWarning: KMeans is known to have a memory leak on Windows with MKL, when there are less chunks than available threads. You can avoid it by setting the environment variable OMP_NUM_THREADS=4.\n",
      "  warnings.warn(\n"
     ]
    },
    {
     "name": "stdout",
     "output_type": "stream",
     "text": [
      "Fitting 3 folds for each of 294 candidates, totalling 882 fits\n",
      "90 0.9104477611940298\n"
     ]
    },
    {
     "name": "stderr",
     "output_type": "stream",
     "text": [
      "D:\\programming\\anaconda\\Lib\\site-packages\\sklearn\\cluster\\_kmeans.py:870: FutureWarning: The default value of `n_init` will change from 10 to 'auto' in 1.4. Set the value of `n_init` explicitly to suppress the warning\n",
      "  warnings.warn(\n",
      "D:\\programming\\anaconda\\Lib\\site-packages\\sklearn\\cluster\\_kmeans.py:1382: UserWarning: KMeans is known to have a memory leak on Windows with MKL, when there are less chunks than available threads. You can avoid it by setting the environment variable OMP_NUM_THREADS=4.\n",
      "  warnings.warn(\n"
     ]
    },
    {
     "name": "stdout",
     "output_type": "stream",
     "text": [
      "Fitting 3 folds for each of 294 candidates, totalling 882 fits\n",
      "95 0.9253731343283582\n"
     ]
    },
    {
     "name": "stderr",
     "output_type": "stream",
     "text": [
      "D:\\programming\\anaconda\\Lib\\site-packages\\sklearn\\cluster\\_kmeans.py:870: FutureWarning: The default value of `n_init` will change from 10 to 'auto' in 1.4. Set the value of `n_init` explicitly to suppress the warning\n",
      "  warnings.warn(\n",
      "D:\\programming\\anaconda\\Lib\\site-packages\\sklearn\\cluster\\_kmeans.py:1382: UserWarning: KMeans is known to have a memory leak on Windows with MKL, when there are less chunks than available threads. You can avoid it by setting the environment variable OMP_NUM_THREADS=4.\n",
      "  warnings.warn(\n"
     ]
    },
    {
     "name": "stdout",
     "output_type": "stream",
     "text": [
      "Fitting 3 folds for each of 294 candidates, totalling 882 fits\n",
      "100 0.9291044776119403\n"
     ]
    },
    {
     "name": "stderr",
     "output_type": "stream",
     "text": [
      "D:\\programming\\anaconda\\Lib\\site-packages\\sklearn\\cluster\\_kmeans.py:870: FutureWarning: The default value of `n_init` will change from 10 to 'auto' in 1.4. Set the value of `n_init` explicitly to suppress the warning\n",
      "  warnings.warn(\n",
      "D:\\programming\\anaconda\\Lib\\site-packages\\sklearn\\cluster\\_kmeans.py:1382: UserWarning: KMeans is known to have a memory leak on Windows with MKL, when there are less chunks than available threads. You can avoid it by setting the environment variable OMP_NUM_THREADS=4.\n",
      "  warnings.warn(\n"
     ]
    },
    {
     "name": "stdout",
     "output_type": "stream",
     "text": [
      "Fitting 3 folds for each of 294 candidates, totalling 882 fits\n",
      "105 0.9291044776119403\n"
     ]
    },
    {
     "name": "stderr",
     "output_type": "stream",
     "text": [
      "D:\\programming\\anaconda\\Lib\\site-packages\\sklearn\\cluster\\_kmeans.py:870: FutureWarning: The default value of `n_init` will change from 10 to 'auto' in 1.4. Set the value of `n_init` explicitly to suppress the warning\n",
      "  warnings.warn(\n",
      "D:\\programming\\anaconda\\Lib\\site-packages\\sklearn\\cluster\\_kmeans.py:1382: UserWarning: KMeans is known to have a memory leak on Windows with MKL, when there are less chunks than available threads. You can avoid it by setting the environment variable OMP_NUM_THREADS=4.\n",
      "  warnings.warn(\n"
     ]
    },
    {
     "name": "stdout",
     "output_type": "stream",
     "text": [
      "Fitting 3 folds for each of 294 candidates, totalling 882 fits\n",
      "110 0.9216417910447762\n"
     ]
    },
    {
     "name": "stderr",
     "output_type": "stream",
     "text": [
      "D:\\programming\\anaconda\\Lib\\site-packages\\sklearn\\cluster\\_kmeans.py:870: FutureWarning: The default value of `n_init` will change from 10 to 'auto' in 1.4. Set the value of `n_init` explicitly to suppress the warning\n",
      "  warnings.warn(\n",
      "D:\\programming\\anaconda\\Lib\\site-packages\\sklearn\\cluster\\_kmeans.py:1382: UserWarning: KMeans is known to have a memory leak on Windows with MKL, when there are less chunks than available threads. You can avoid it by setting the environment variable OMP_NUM_THREADS=4.\n",
      "  warnings.warn(\n"
     ]
    },
    {
     "name": "stdout",
     "output_type": "stream",
     "text": [
      "Fitting 3 folds for each of 294 candidates, totalling 882 fits\n",
      "115 0.9253731343283582\n"
     ]
    },
    {
     "name": "stderr",
     "output_type": "stream",
     "text": [
      "D:\\programming\\anaconda\\Lib\\site-packages\\sklearn\\cluster\\_kmeans.py:870: FutureWarning: The default value of `n_init` will change from 10 to 'auto' in 1.4. Set the value of `n_init` explicitly to suppress the warning\n",
      "  warnings.warn(\n",
      "D:\\programming\\anaconda\\Lib\\site-packages\\sklearn\\cluster\\_kmeans.py:1382: UserWarning: KMeans is known to have a memory leak on Windows with MKL, when there are less chunks than available threads. You can avoid it by setting the environment variable OMP_NUM_THREADS=4.\n",
      "  warnings.warn(\n"
     ]
    },
    {
     "name": "stdout",
     "output_type": "stream",
     "text": [
      "Fitting 3 folds for each of 294 candidates, totalling 882 fits\n",
      "120 0.9253731343283582\n"
     ]
    },
    {
     "name": "stderr",
     "output_type": "stream",
     "text": [
      "D:\\programming\\anaconda\\Lib\\site-packages\\sklearn\\cluster\\_kmeans.py:870: FutureWarning: The default value of `n_init` will change from 10 to 'auto' in 1.4. Set the value of `n_init` explicitly to suppress the warning\n",
      "  warnings.warn(\n",
      "D:\\programming\\anaconda\\Lib\\site-packages\\sklearn\\cluster\\_kmeans.py:1382: UserWarning: KMeans is known to have a memory leak on Windows with MKL, when there are less chunks than available threads. You can avoid it by setting the environment variable OMP_NUM_THREADS=4.\n",
      "  warnings.warn(\n"
     ]
    },
    {
     "name": "stdout",
     "output_type": "stream",
     "text": [
      "Fitting 3 folds for each of 294 candidates, totalling 882 fits\n",
      "125 0.9328358208955224\n"
     ]
    },
    {
     "name": "stderr",
     "output_type": "stream",
     "text": [
      "D:\\programming\\anaconda\\Lib\\site-packages\\sklearn\\cluster\\_kmeans.py:870: FutureWarning: The default value of `n_init` will change from 10 to 'auto' in 1.4. Set the value of `n_init` explicitly to suppress the warning\n",
      "  warnings.warn(\n",
      "D:\\programming\\anaconda\\Lib\\site-packages\\sklearn\\cluster\\_kmeans.py:1382: UserWarning: KMeans is known to have a memory leak on Windows with MKL, when there are less chunks than available threads. You can avoid it by setting the environment variable OMP_NUM_THREADS=4.\n",
      "  warnings.warn(\n"
     ]
    },
    {
     "name": "stdout",
     "output_type": "stream",
     "text": [
      "Fitting 3 folds for each of 294 candidates, totalling 882 fits\n",
      "130 0.9328358208955224\n"
     ]
    },
    {
     "name": "stderr",
     "output_type": "stream",
     "text": [
      "D:\\programming\\anaconda\\Lib\\site-packages\\sklearn\\cluster\\_kmeans.py:870: FutureWarning: The default value of `n_init` will change from 10 to 'auto' in 1.4. Set the value of `n_init` explicitly to suppress the warning\n",
      "  warnings.warn(\n",
      "D:\\programming\\anaconda\\Lib\\site-packages\\sklearn\\cluster\\_kmeans.py:1382: UserWarning: KMeans is known to have a memory leak on Windows with MKL, when there are less chunks than available threads. You can avoid it by setting the environment variable OMP_NUM_THREADS=4.\n",
      "  warnings.warn(\n"
     ]
    },
    {
     "name": "stdout",
     "output_type": "stream",
     "text": [
      "Fitting 3 folds for each of 294 candidates, totalling 882 fits\n",
      "135 0.9216417910447762\n"
     ]
    },
    {
     "name": "stderr",
     "output_type": "stream",
     "text": [
      "D:\\programming\\anaconda\\Lib\\site-packages\\sklearn\\cluster\\_kmeans.py:870: FutureWarning: The default value of `n_init` will change from 10 to 'auto' in 1.4. Set the value of `n_init` explicitly to suppress the warning\n",
      "  warnings.warn(\n",
      "D:\\programming\\anaconda\\Lib\\site-packages\\sklearn\\cluster\\_kmeans.py:1382: UserWarning: KMeans is known to have a memory leak on Windows with MKL, when there are less chunks than available threads. You can avoid it by setting the environment variable OMP_NUM_THREADS=4.\n",
      "  warnings.warn(\n"
     ]
    },
    {
     "name": "stdout",
     "output_type": "stream",
     "text": [
      "Fitting 3 folds for each of 294 candidates, totalling 882 fits\n",
      "140 0.9440298507462687\n"
     ]
    },
    {
     "name": "stderr",
     "output_type": "stream",
     "text": [
      "D:\\programming\\anaconda\\Lib\\site-packages\\sklearn\\cluster\\_kmeans.py:870: FutureWarning: The default value of `n_init` will change from 10 to 'auto' in 1.4. Set the value of `n_init` explicitly to suppress the warning\n",
      "  warnings.warn(\n",
      "D:\\programming\\anaconda\\Lib\\site-packages\\sklearn\\cluster\\_kmeans.py:1382: UserWarning: KMeans is known to have a memory leak on Windows with MKL, when there are less chunks than available threads. You can avoid it by setting the environment variable OMP_NUM_THREADS=4.\n",
      "  warnings.warn(\n"
     ]
    },
    {
     "name": "stdout",
     "output_type": "stream",
     "text": [
      "Fitting 3 folds for each of 294 candidates, totalling 882 fits\n",
      "145 0.9328358208955224\n"
     ]
    },
    {
     "name": "stderr",
     "output_type": "stream",
     "text": [
      "D:\\programming\\anaconda\\Lib\\site-packages\\sklearn\\cluster\\_kmeans.py:870: FutureWarning: The default value of `n_init` will change from 10 to 'auto' in 1.4. Set the value of `n_init` explicitly to suppress the warning\n",
      "  warnings.warn(\n",
      "D:\\programming\\anaconda\\Lib\\site-packages\\sklearn\\cluster\\_kmeans.py:1382: UserWarning: KMeans is known to have a memory leak on Windows with MKL, when there are less chunks than available threads. You can avoid it by setting the environment variable OMP_NUM_THREADS=4.\n",
      "  warnings.warn(\n"
     ]
    },
    {
     "name": "stdout",
     "output_type": "stream",
     "text": [
      "Fitting 3 folds for each of 294 candidates, totalling 882 fits\n",
      "150 0.9291044776119403\n"
     ]
    },
    {
     "name": "stderr",
     "output_type": "stream",
     "text": [
      "D:\\programming\\anaconda\\Lib\\site-packages\\sklearn\\cluster\\_kmeans.py:870: FutureWarning: The default value of `n_init` will change from 10 to 'auto' in 1.4. Set the value of `n_init` explicitly to suppress the warning\n",
      "  warnings.warn(\n",
      "D:\\programming\\anaconda\\Lib\\site-packages\\sklearn\\cluster\\_kmeans.py:1382: UserWarning: KMeans is known to have a memory leak on Windows with MKL, when there are less chunks than available threads. You can avoid it by setting the environment variable OMP_NUM_THREADS=4.\n",
      "  warnings.warn(\n"
     ]
    },
    {
     "name": "stdout",
     "output_type": "stream",
     "text": [
      "Fitting 3 folds for each of 294 candidates, totalling 882 fits\n",
      "155 0.9253731343283582\n"
     ]
    },
    {
     "name": "stderr",
     "output_type": "stream",
     "text": [
      "D:\\programming\\anaconda\\Lib\\site-packages\\sklearn\\cluster\\_kmeans.py:870: FutureWarning: The default value of `n_init` will change from 10 to 'auto' in 1.4. Set the value of `n_init` explicitly to suppress the warning\n",
      "  warnings.warn(\n",
      "D:\\programming\\anaconda\\Lib\\site-packages\\sklearn\\cluster\\_kmeans.py:1382: UserWarning: KMeans is known to have a memory leak on Windows with MKL, when there are less chunks than available threads. You can avoid it by setting the environment variable OMP_NUM_THREADS=4.\n",
      "  warnings.warn(\n"
     ]
    },
    {
     "name": "stdout",
     "output_type": "stream",
     "text": [
      "Fitting 3 folds for each of 294 candidates, totalling 882 fits\n",
      "160 0.9328358208955224\n"
     ]
    },
    {
     "name": "stderr",
     "output_type": "stream",
     "text": [
      "D:\\programming\\anaconda\\Lib\\site-packages\\sklearn\\cluster\\_kmeans.py:870: FutureWarning: The default value of `n_init` will change from 10 to 'auto' in 1.4. Set the value of `n_init` explicitly to suppress the warning\n",
      "  warnings.warn(\n",
      "D:\\programming\\anaconda\\Lib\\site-packages\\sklearn\\cluster\\_kmeans.py:1382: UserWarning: KMeans is known to have a memory leak on Windows with MKL, when there are less chunks than available threads. You can avoid it by setting the environment variable OMP_NUM_THREADS=4.\n",
      "  warnings.warn(\n"
     ]
    },
    {
     "name": "stdout",
     "output_type": "stream",
     "text": [
      "Fitting 3 folds for each of 294 candidates, totalling 882 fits\n",
      "165 0.9328358208955224\n"
     ]
    },
    {
     "name": "stderr",
     "output_type": "stream",
     "text": [
      "D:\\programming\\anaconda\\Lib\\site-packages\\sklearn\\cluster\\_kmeans.py:870: FutureWarning: The default value of `n_init` will change from 10 to 'auto' in 1.4. Set the value of `n_init` explicitly to suppress the warning\n",
      "  warnings.warn(\n",
      "D:\\programming\\anaconda\\Lib\\site-packages\\sklearn\\cluster\\_kmeans.py:1382: UserWarning: KMeans is known to have a memory leak on Windows with MKL, when there are less chunks than available threads. You can avoid it by setting the environment variable OMP_NUM_THREADS=4.\n",
      "  warnings.warn(\n"
     ]
    },
    {
     "name": "stdout",
     "output_type": "stream",
     "text": [
      "Fitting 3 folds for each of 294 candidates, totalling 882 fits\n",
      "170 0.9365671641791045\n"
     ]
    },
    {
     "name": "stderr",
     "output_type": "stream",
     "text": [
      "D:\\programming\\anaconda\\Lib\\site-packages\\sklearn\\cluster\\_kmeans.py:870: FutureWarning: The default value of `n_init` will change from 10 to 'auto' in 1.4. Set the value of `n_init` explicitly to suppress the warning\n",
      "  warnings.warn(\n",
      "D:\\programming\\anaconda\\Lib\\site-packages\\sklearn\\cluster\\_kmeans.py:1382: UserWarning: KMeans is known to have a memory leak on Windows with MKL, when there are less chunks than available threads. You can avoid it by setting the environment variable OMP_NUM_THREADS=4.\n",
      "  warnings.warn(\n"
     ]
    },
    {
     "name": "stdout",
     "output_type": "stream",
     "text": [
      "Fitting 3 folds for each of 294 candidates, totalling 882 fits\n",
      "175 0.9365671641791045\n"
     ]
    },
    {
     "name": "stderr",
     "output_type": "stream",
     "text": [
      "D:\\programming\\anaconda\\Lib\\site-packages\\sklearn\\cluster\\_kmeans.py:870: FutureWarning: The default value of `n_init` will change from 10 to 'auto' in 1.4. Set the value of `n_init` explicitly to suppress the warning\n",
      "  warnings.warn(\n",
      "D:\\programming\\anaconda\\Lib\\site-packages\\sklearn\\cluster\\_kmeans.py:1382: UserWarning: KMeans is known to have a memory leak on Windows with MKL, when there are less chunks than available threads. You can avoid it by setting the environment variable OMP_NUM_THREADS=4.\n",
      "  warnings.warn(\n"
     ]
    },
    {
     "name": "stdout",
     "output_type": "stream",
     "text": [
      "Fitting 3 folds for each of 294 candidates, totalling 882 fits\n",
      "180 0.9253731343283582\n"
     ]
    },
    {
     "name": "stderr",
     "output_type": "stream",
     "text": [
      "D:\\programming\\anaconda\\Lib\\site-packages\\sklearn\\cluster\\_kmeans.py:870: FutureWarning: The default value of `n_init` will change from 10 to 'auto' in 1.4. Set the value of `n_init` explicitly to suppress the warning\n",
      "  warnings.warn(\n",
      "D:\\programming\\anaconda\\Lib\\site-packages\\sklearn\\cluster\\_kmeans.py:1382: UserWarning: KMeans is known to have a memory leak on Windows with MKL, when there are less chunks than available threads. You can avoid it by setting the environment variable OMP_NUM_THREADS=4.\n",
      "  warnings.warn(\n"
     ]
    },
    {
     "name": "stdout",
     "output_type": "stream",
     "text": [
      "Fitting 3 folds for each of 294 candidates, totalling 882 fits\n",
      "185 0.9291044776119403\n"
     ]
    },
    {
     "name": "stderr",
     "output_type": "stream",
     "text": [
      "D:\\programming\\anaconda\\Lib\\site-packages\\sklearn\\cluster\\_kmeans.py:870: FutureWarning: The default value of `n_init` will change from 10 to 'auto' in 1.4. Set the value of `n_init` explicitly to suppress the warning\n",
      "  warnings.warn(\n",
      "D:\\programming\\anaconda\\Lib\\site-packages\\sklearn\\cluster\\_kmeans.py:1382: UserWarning: KMeans is known to have a memory leak on Windows with MKL, when there are less chunks than available threads. You can avoid it by setting the environment variable OMP_NUM_THREADS=4.\n",
      "  warnings.warn(\n"
     ]
    },
    {
     "name": "stdout",
     "output_type": "stream",
     "text": [
      "Fitting 3 folds for each of 294 candidates, totalling 882 fits\n",
      "190 0.914179104477612\n"
     ]
    },
    {
     "name": "stderr",
     "output_type": "stream",
     "text": [
      "D:\\programming\\anaconda\\Lib\\site-packages\\sklearn\\cluster\\_kmeans.py:870: FutureWarning: The default value of `n_init` will change from 10 to 'auto' in 1.4. Set the value of `n_init` explicitly to suppress the warning\n",
      "  warnings.warn(\n",
      "D:\\programming\\anaconda\\Lib\\site-packages\\sklearn\\cluster\\_kmeans.py:1382: UserWarning: KMeans is known to have a memory leak on Windows with MKL, when there are less chunks than available threads. You can avoid it by setting the environment variable OMP_NUM_THREADS=4.\n",
      "  warnings.warn(\n"
     ]
    },
    {
     "name": "stdout",
     "output_type": "stream",
     "text": [
      "Fitting 3 folds for each of 294 candidates, totalling 882 fits\n",
      "195 0.9029850746268657\n"
     ]
    },
    {
     "name": "stderr",
     "output_type": "stream",
     "text": [
      "D:\\programming\\anaconda\\Lib\\site-packages\\sklearn\\cluster\\_kmeans.py:870: FutureWarning: The default value of `n_init` will change from 10 to 'auto' in 1.4. Set the value of `n_init` explicitly to suppress the warning\n",
      "  warnings.warn(\n",
      "D:\\programming\\anaconda\\Lib\\site-packages\\sklearn\\cluster\\_kmeans.py:1382: UserWarning: KMeans is known to have a memory leak on Windows with MKL, when there are less chunks than available threads. You can avoid it by setting the environment variable OMP_NUM_THREADS=4.\n",
      "  warnings.warn(\n"
     ]
    },
    {
     "name": "stdout",
     "output_type": "stream",
     "text": [
      "Fitting 3 folds for each of 294 candidates, totalling 882 fits\n",
      "200 0.914179104477612\n"
     ]
    },
    {
     "name": "stderr",
     "output_type": "stream",
     "text": [
      "D:\\programming\\anaconda\\Lib\\site-packages\\sklearn\\cluster\\_kmeans.py:870: FutureWarning: The default value of `n_init` will change from 10 to 'auto' in 1.4. Set the value of `n_init` explicitly to suppress the warning\n",
      "  warnings.warn(\n",
      "D:\\programming\\anaconda\\Lib\\site-packages\\sklearn\\cluster\\_kmeans.py:1382: UserWarning: KMeans is known to have a memory leak on Windows with MKL, when there are less chunks than available threads. You can avoid it by setting the environment variable OMP_NUM_THREADS=4.\n",
      "  warnings.warn(\n"
     ]
    },
    {
     "name": "stdout",
     "output_type": "stream",
     "text": [
      "Fitting 3 folds for each of 294 candidates, totalling 882 fits\n",
      "205 0.9291044776119403\n"
     ]
    },
    {
     "name": "stderr",
     "output_type": "stream",
     "text": [
      "D:\\programming\\anaconda\\Lib\\site-packages\\sklearn\\cluster\\_kmeans.py:870: FutureWarning: The default value of `n_init` will change from 10 to 'auto' in 1.4. Set the value of `n_init` explicitly to suppress the warning\n",
      "  warnings.warn(\n",
      "D:\\programming\\anaconda\\Lib\\site-packages\\sklearn\\cluster\\_kmeans.py:1382: UserWarning: KMeans is known to have a memory leak on Windows with MKL, when there are less chunks than available threads. You can avoid it by setting the environment variable OMP_NUM_THREADS=4.\n",
      "  warnings.warn(\n"
     ]
    },
    {
     "name": "stdout",
     "output_type": "stream",
     "text": [
      "Fitting 3 folds for each of 294 candidates, totalling 882 fits\n",
      "210 0.9440298507462687\n"
     ]
    },
    {
     "name": "stderr",
     "output_type": "stream",
     "text": [
      "D:\\programming\\anaconda\\Lib\\site-packages\\sklearn\\cluster\\_kmeans.py:870: FutureWarning: The default value of `n_init` will change from 10 to 'auto' in 1.4. Set the value of `n_init` explicitly to suppress the warning\n",
      "  warnings.warn(\n",
      "D:\\programming\\anaconda\\Lib\\site-packages\\sklearn\\cluster\\_kmeans.py:1382: UserWarning: KMeans is known to have a memory leak on Windows with MKL, when there are less chunks than available threads. You can avoid it by setting the environment variable OMP_NUM_THREADS=4.\n",
      "  warnings.warn(\n"
     ]
    },
    {
     "name": "stdout",
     "output_type": "stream",
     "text": [
      "Fitting 3 folds for each of 294 candidates, totalling 882 fits\n",
      "215 0.9477611940298507\n"
     ]
    },
    {
     "name": "stderr",
     "output_type": "stream",
     "text": [
      "D:\\programming\\anaconda\\Lib\\site-packages\\sklearn\\cluster\\_kmeans.py:870: FutureWarning: The default value of `n_init` will change from 10 to 'auto' in 1.4. Set the value of `n_init` explicitly to suppress the warning\n",
      "  warnings.warn(\n",
      "D:\\programming\\anaconda\\Lib\\site-packages\\sklearn\\cluster\\_kmeans.py:1382: UserWarning: KMeans is known to have a memory leak on Windows with MKL, when there are less chunks than available threads. You can avoid it by setting the environment variable OMP_NUM_THREADS=4.\n",
      "  warnings.warn(\n"
     ]
    },
    {
     "name": "stdout",
     "output_type": "stream",
     "text": [
      "Fitting 3 folds for each of 294 candidates, totalling 882 fits\n",
      "220 0.9402985074626866\n"
     ]
    },
    {
     "name": "stderr",
     "output_type": "stream",
     "text": [
      "D:\\programming\\anaconda\\Lib\\site-packages\\sklearn\\cluster\\_kmeans.py:870: FutureWarning: The default value of `n_init` will change from 10 to 'auto' in 1.4. Set the value of `n_init` explicitly to suppress the warning\n",
      "  warnings.warn(\n",
      "D:\\programming\\anaconda\\Lib\\site-packages\\sklearn\\cluster\\_kmeans.py:1382: UserWarning: KMeans is known to have a memory leak on Windows with MKL, when there are less chunks than available threads. You can avoid it by setting the environment variable OMP_NUM_THREADS=4.\n",
      "  warnings.warn(\n"
     ]
    },
    {
     "name": "stdout",
     "output_type": "stream",
     "text": [
      "Fitting 3 folds for each of 294 candidates, totalling 882 fits\n",
      "225 0.917910447761194\n"
     ]
    },
    {
     "name": "stderr",
     "output_type": "stream",
     "text": [
      "D:\\programming\\anaconda\\Lib\\site-packages\\sklearn\\cluster\\_kmeans.py:870: FutureWarning: The default value of `n_init` will change from 10 to 'auto' in 1.4. Set the value of `n_init` explicitly to suppress the warning\n",
      "  warnings.warn(\n",
      "D:\\programming\\anaconda\\Lib\\site-packages\\sklearn\\cluster\\_kmeans.py:1382: UserWarning: KMeans is known to have a memory leak on Windows with MKL, when there are less chunks than available threads. You can avoid it by setting the environment variable OMP_NUM_THREADS=4.\n",
      "  warnings.warn(\n"
     ]
    },
    {
     "name": "stdout",
     "output_type": "stream",
     "text": [
      "Fitting 3 folds for each of 294 candidates, totalling 882 fits\n",
      "230 0.9328358208955224\n"
     ]
    },
    {
     "name": "stderr",
     "output_type": "stream",
     "text": [
      "D:\\programming\\anaconda\\Lib\\site-packages\\sklearn\\cluster\\_kmeans.py:870: FutureWarning: The default value of `n_init` will change from 10 to 'auto' in 1.4. Set the value of `n_init` explicitly to suppress the warning\n",
      "  warnings.warn(\n",
      "D:\\programming\\anaconda\\Lib\\site-packages\\sklearn\\cluster\\_kmeans.py:1382: UserWarning: KMeans is known to have a memory leak on Windows with MKL, when there are less chunks than available threads. You can avoid it by setting the environment variable OMP_NUM_THREADS=4.\n",
      "  warnings.warn(\n"
     ]
    },
    {
     "name": "stdout",
     "output_type": "stream",
     "text": [
      "Fitting 3 folds for each of 294 candidates, totalling 882 fits\n",
      "235 0.9365671641791045\n"
     ]
    },
    {
     "name": "stderr",
     "output_type": "stream",
     "text": [
      "D:\\programming\\anaconda\\Lib\\site-packages\\sklearn\\cluster\\_kmeans.py:870: FutureWarning: The default value of `n_init` will change from 10 to 'auto' in 1.4. Set the value of `n_init` explicitly to suppress the warning\n",
      "  warnings.warn(\n",
      "D:\\programming\\anaconda\\Lib\\site-packages\\sklearn\\cluster\\_kmeans.py:1382: UserWarning: KMeans is known to have a memory leak on Windows with MKL, when there are less chunks than available threads. You can avoid it by setting the environment variable OMP_NUM_THREADS=4.\n",
      "  warnings.warn(\n"
     ]
    },
    {
     "name": "stdout",
     "output_type": "stream",
     "text": [
      "Fitting 3 folds for each of 294 candidates, totalling 882 fits\n",
      "240 0.9552238805970149\n"
     ]
    },
    {
     "name": "stderr",
     "output_type": "stream",
     "text": [
      "D:\\programming\\anaconda\\Lib\\site-packages\\sklearn\\cluster\\_kmeans.py:870: FutureWarning: The default value of `n_init` will change from 10 to 'auto' in 1.4. Set the value of `n_init` explicitly to suppress the warning\n",
      "  warnings.warn(\n",
      "D:\\programming\\anaconda\\Lib\\site-packages\\sklearn\\cluster\\_kmeans.py:1382: UserWarning: KMeans is known to have a memory leak on Windows with MKL, when there are less chunks than available threads. You can avoid it by setting the environment variable OMP_NUM_THREADS=4.\n",
      "  warnings.warn(\n"
     ]
    },
    {
     "name": "stdout",
     "output_type": "stream",
     "text": [
      "Fitting 3 folds for each of 294 candidates, totalling 882 fits\n",
      "245 0.9440298507462687\n"
     ]
    },
    {
     "name": "stderr",
     "output_type": "stream",
     "text": [
      "D:\\programming\\anaconda\\Lib\\site-packages\\sklearn\\cluster\\_kmeans.py:870: FutureWarning: The default value of `n_init` will change from 10 to 'auto' in 1.4. Set the value of `n_init` explicitly to suppress the warning\n",
      "  warnings.warn(\n",
      "D:\\programming\\anaconda\\Lib\\site-packages\\sklearn\\cluster\\_kmeans.py:1382: UserWarning: KMeans is known to have a memory leak on Windows with MKL, when there are less chunks than available threads. You can avoid it by setting the environment variable OMP_NUM_THREADS=4.\n",
      "  warnings.warn(\n"
     ]
    },
    {
     "name": "stdout",
     "output_type": "stream",
     "text": [
      "Fitting 3 folds for each of 294 candidates, totalling 882 fits\n",
      "250 0.9328358208955224\n"
     ]
    },
    {
     "name": "stderr",
     "output_type": "stream",
     "text": [
      "D:\\programming\\anaconda\\Lib\\site-packages\\sklearn\\cluster\\_kmeans.py:870: FutureWarning: The default value of `n_init` will change from 10 to 'auto' in 1.4. Set the value of `n_init` explicitly to suppress the warning\n",
      "  warnings.warn(\n",
      "D:\\programming\\anaconda\\Lib\\site-packages\\sklearn\\cluster\\_kmeans.py:1382: UserWarning: KMeans is known to have a memory leak on Windows with MKL, when there are less chunks than available threads. You can avoid it by setting the environment variable OMP_NUM_THREADS=4.\n",
      "  warnings.warn(\n"
     ]
    },
    {
     "name": "stdout",
     "output_type": "stream",
     "text": [
      "Fitting 3 folds for each of 294 candidates, totalling 882 fits\n",
      "255 0.9402985074626866\n"
     ]
    },
    {
     "name": "stderr",
     "output_type": "stream",
     "text": [
      "D:\\programming\\anaconda\\Lib\\site-packages\\sklearn\\cluster\\_kmeans.py:870: FutureWarning: The default value of `n_init` will change from 10 to 'auto' in 1.4. Set the value of `n_init` explicitly to suppress the warning\n",
      "  warnings.warn(\n",
      "D:\\programming\\anaconda\\Lib\\site-packages\\sklearn\\cluster\\_kmeans.py:1382: UserWarning: KMeans is known to have a memory leak on Windows with MKL, when there are less chunks than available threads. You can avoid it by setting the environment variable OMP_NUM_THREADS=4.\n",
      "  warnings.warn(\n"
     ]
    },
    {
     "name": "stdout",
     "output_type": "stream",
     "text": [
      "Fitting 3 folds for each of 294 candidates, totalling 882 fits\n",
      "260 0.9440298507462687\n"
     ]
    },
    {
     "name": "stderr",
     "output_type": "stream",
     "text": [
      "D:\\programming\\anaconda\\Lib\\site-packages\\sklearn\\cluster\\_kmeans.py:870: FutureWarning: The default value of `n_init` will change from 10 to 'auto' in 1.4. Set the value of `n_init` explicitly to suppress the warning\n",
      "  warnings.warn(\n",
      "D:\\programming\\anaconda\\Lib\\site-packages\\sklearn\\cluster\\_kmeans.py:1382: UserWarning: KMeans is known to have a memory leak on Windows with MKL, when there are less chunks than available threads. You can avoid it by setting the environment variable OMP_NUM_THREADS=4.\n",
      "  warnings.warn(\n"
     ]
    },
    {
     "name": "stdout",
     "output_type": "stream",
     "text": [
      "Fitting 3 folds for each of 294 candidates, totalling 882 fits\n",
      "265 0.9291044776119403\n"
     ]
    },
    {
     "name": "stderr",
     "output_type": "stream",
     "text": [
      "D:\\programming\\anaconda\\Lib\\site-packages\\sklearn\\cluster\\_kmeans.py:870: FutureWarning: The default value of `n_init` will change from 10 to 'auto' in 1.4. Set the value of `n_init` explicitly to suppress the warning\n",
      "  warnings.warn(\n",
      "D:\\programming\\anaconda\\Lib\\site-packages\\sklearn\\cluster\\_kmeans.py:1382: UserWarning: KMeans is known to have a memory leak on Windows with MKL, when there are less chunks than available threads. You can avoid it by setting the environment variable OMP_NUM_THREADS=4.\n",
      "  warnings.warn(\n"
     ]
    },
    {
     "name": "stdout",
     "output_type": "stream",
     "text": [
      "Fitting 3 folds for each of 294 candidates, totalling 882 fits\n",
      "270 0.9253731343283582\n"
     ]
    },
    {
     "name": "stderr",
     "output_type": "stream",
     "text": [
      "D:\\programming\\anaconda\\Lib\\site-packages\\sklearn\\cluster\\_kmeans.py:870: FutureWarning: The default value of `n_init` will change from 10 to 'auto' in 1.4. Set the value of `n_init` explicitly to suppress the warning\n",
      "  warnings.warn(\n",
      "D:\\programming\\anaconda\\Lib\\site-packages\\sklearn\\cluster\\_kmeans.py:1382: UserWarning: KMeans is known to have a memory leak on Windows with MKL, when there are less chunks than available threads. You can avoid it by setting the environment variable OMP_NUM_THREADS=4.\n",
      "  warnings.warn(\n"
     ]
    },
    {
     "name": "stdout",
     "output_type": "stream",
     "text": [
      "Fitting 3 folds for each of 294 candidates, totalling 882 fits\n",
      "275 0.9514925373134329\n"
     ]
    },
    {
     "name": "stderr",
     "output_type": "stream",
     "text": [
      "D:\\programming\\anaconda\\Lib\\site-packages\\sklearn\\cluster\\_kmeans.py:870: FutureWarning: The default value of `n_init` will change from 10 to 'auto' in 1.4. Set the value of `n_init` explicitly to suppress the warning\n",
      "  warnings.warn(\n",
      "D:\\programming\\anaconda\\Lib\\site-packages\\sklearn\\cluster\\_kmeans.py:1382: UserWarning: KMeans is known to have a memory leak on Windows with MKL, when there are less chunks than available threads. You can avoid it by setting the environment variable OMP_NUM_THREADS=4.\n",
      "  warnings.warn(\n"
     ]
    },
    {
     "name": "stdout",
     "output_type": "stream",
     "text": [
      "Fitting 3 folds for each of 294 candidates, totalling 882 fits\n",
      "280 0.917910447761194\n"
     ]
    },
    {
     "name": "stderr",
     "output_type": "stream",
     "text": [
      "D:\\programming\\anaconda\\Lib\\site-packages\\sklearn\\cluster\\_kmeans.py:870: FutureWarning: The default value of `n_init` will change from 10 to 'auto' in 1.4. Set the value of `n_init` explicitly to suppress the warning\n",
      "  warnings.warn(\n",
      "D:\\programming\\anaconda\\Lib\\site-packages\\sklearn\\cluster\\_kmeans.py:1382: UserWarning: KMeans is known to have a memory leak on Windows with MKL, when there are less chunks than available threads. You can avoid it by setting the environment variable OMP_NUM_THREADS=4.\n",
      "  warnings.warn(\n"
     ]
    },
    {
     "name": "stdout",
     "output_type": "stream",
     "text": [
      "Fitting 3 folds for each of 294 candidates, totalling 882 fits\n",
      "285 0.9216417910447762\n"
     ]
    },
    {
     "name": "stderr",
     "output_type": "stream",
     "text": [
      "D:\\programming\\anaconda\\Lib\\site-packages\\sklearn\\cluster\\_kmeans.py:870: FutureWarning: The default value of `n_init` will change from 10 to 'auto' in 1.4. Set the value of `n_init` explicitly to suppress the warning\n",
      "  warnings.warn(\n",
      "D:\\programming\\anaconda\\Lib\\site-packages\\sklearn\\cluster\\_kmeans.py:1382: UserWarning: KMeans is known to have a memory leak on Windows with MKL, when there are less chunks than available threads. You can avoid it by setting the environment variable OMP_NUM_THREADS=4.\n",
      "  warnings.warn(\n"
     ]
    },
    {
     "name": "stdout",
     "output_type": "stream",
     "text": [
      "Fitting 3 folds for each of 294 candidates, totalling 882 fits\n",
      "290 0.9253731343283582\n"
     ]
    },
    {
     "name": "stderr",
     "output_type": "stream",
     "text": [
      "D:\\programming\\anaconda\\Lib\\site-packages\\sklearn\\cluster\\_kmeans.py:870: FutureWarning: The default value of `n_init` will change from 10 to 'auto' in 1.4. Set the value of `n_init` explicitly to suppress the warning\n",
      "  warnings.warn(\n",
      "D:\\programming\\anaconda\\Lib\\site-packages\\sklearn\\cluster\\_kmeans.py:1382: UserWarning: KMeans is known to have a memory leak on Windows with MKL, when there are less chunks than available threads. You can avoid it by setting the environment variable OMP_NUM_THREADS=4.\n",
      "  warnings.warn(\n"
     ]
    },
    {
     "name": "stdout",
     "output_type": "stream",
     "text": [
      "Fitting 3 folds for each of 294 candidates, totalling 882 fits\n",
      "295 0.9253731343283582\n"
     ]
    }
   ],
   "source": [
    "from sklearn.pipeline import Pipeline\n",
    "\n",
    "params = {'max_leaf_nodes': list(range(2, 100)), 'min_samples_split': [2, 3, 4]}\n",
    "\n",
    "for n_clusters in k_range:\n",
    "    pipeline = Pipeline([\n",
    "        (\"kmeans\", KMeans(n_clusters=n_clusters, random_state=42)),\n",
    "        (\"forest_clf\", GridSearchCV(DecisionTreeClassifier(random_state=42), params, verbose=1, cv=3))\n",
    "    ])\n",
    "    pipeline.fit(X_train, y_train)\n",
    "    print(n_clusters, pipeline.score(X_valid, y_valid))"
   ]
  },
  {
   "cell_type": "markdown",
   "id": "f2e4a126-1725-4f77-a6eb-8d63073a97b6",
   "metadata": {},
   "source": [
    "What if you append the features from the reduced set to the original features (again, searching for the best number of clusters)?"
   ]
  },
  {
   "cell_type": "code",
   "execution_count": 13,
   "id": "08877d89-4424-4891-a09a-54bbeecf76d1",
   "metadata": {},
   "outputs": [
    {
     "name": "stdout",
     "output_type": "stream",
     "text": [
      "Fitting 3 folds for each of 294 candidates, totalling 882 fits\n"
     ]
    },
    {
     "data": {
      "text/plain": [
       "0.9514925373134329"
      ]
     },
     "execution_count": 13,
     "metadata": {},
     "output_type": "execute_result"
    }
   ],
   "source": [
    "X_train_extended = np.c_[X_train, X_train_reduced]\n",
    "X_valid_extended = np.c_[X_valid, X_valid_reduced]\n",
    "X_test_extended = np.c_[X_test, X_test_reduced]\n",
    "\n",
    "params = {'max_leaf_nodes': list(range(2, 100)), 'min_samples_split': [2, 3, 4]}\n",
    "grid_search_cv = GridSearchCV(DecisionTreeClassifier(random_state=42), params, verbose=1, cv=3)\n",
    "\n",
    "grid_search_cv.fit(X_train_extended, y_train)\n",
    "\n",
    "y_pred = grid_search_cv.predict(X_valid_extended)\n",
    "accuracy_score(y_valid, y_pred)"
   ]
  },
  {
   "cell_type": "markdown",
   "id": "cdea8c9b-6e17-4746-aa98-7bb280bdc5ce",
   "metadata": {},
   "source": [
    "12. Train a Gaussian mixture model on the Olivetti faces dataset. To speed\n",
    "up the algorithm, you should probably reduce the dataset’s\n",
    "dimensionality (e.g., use PCA, preserving 99% of the variance). Use the\n",
    "model to generate some new faces (using the sample() method), and\n",
    "visualize them (if you used PCA, you will need to use its\n",
    "inverse_transform() method). Try to modify some images (e.g.,\n",
    "rotate, flip, darken) and see if the model can detect the anomalies (i.e.,\n",
    "compare the output of the score_samples() method for normal images\n",
    "and for anomalies).\n"
   ]
  },
  {
   "cell_type": "code",
   "execution_count": 18,
   "id": "c71e70cf-4419-4fb0-9fdc-2dd1f9bd31e5",
   "metadata": {},
   "outputs": [
    {
     "name": "stderr",
     "output_type": "stream",
     "text": [
      "D:\\programming\\anaconda\\Lib\\site-packages\\sklearn\\cluster\\_kmeans.py:1382: UserWarning: KMeans is known to have a memory leak on Windows with MKL, when there are less chunks than available threads. You can avoid it by setting the environment variable OMP_NUM_THREADS=4.\n",
      "  warnings.warn(\n"
     ]
    }
   ],
   "source": [
    "from sklearn.mixture import GaussianMixture\n",
    "\n",
    "gm = GaussianMixture(n_components=40, random_state=42)\n",
    "y_pred = gm.fit_predict(X_train)"
   ]
  },
  {
   "cell_type": "code",
   "execution_count": 19,
   "id": "4bf4e1ca-ec9d-4a92-896f-3d3937021cb3",
   "metadata": {},
   "outputs": [
    {
     "data": {
      "text/plain": [
       "array([[ 1.26711537e+00, -5.01242241e-01, -9.09671378e-01,\n",
       "        -6.98617555e-01,  8.22544912e-04,  9.98779156e-01],\n",
       "       [-1.63594885e+00, -5.58482363e-01, -6.49411048e-02,\n",
       "        -1.96732243e-01,  7.38466580e-04,  1.00017137e+00],\n",
       "       [-9.17413584e-01, -1.83758431e-01, -9.08153029e-01,\n",
       "        -8.59850183e-01,  9.98942878e-01, -7.19844208e-04],\n",
       "       [ 1.23126123e+00,  8.63963056e-01, -5.18431367e-02,\n",
       "         1.19262637e+00,  6.76922000e-04,  9.99388324e-01],\n",
       "       [ 1.90538620e-01,  7.96262028e-01, -7.90984551e-02,\n",
       "        -4.84520011e-01,  1.00097555e+00, -3.09212376e-04],\n",
       "       [-9.44322168e-01, -1.30885498e+00, -9.07801142e-01,\n",
       "         2.24807131e-01,  9.98643760e-01, -1.19620662e-03],\n",
       "       [ 8.84750527e-01, -3.70833984e-01, -7.72291551e-02,\n",
       "        -2.85570174e-01, -3.61395606e-04,  1.00064512e+00],\n",
       "       [-1.20140476e+00, -2.04853144e-01, -7.88542387e-02,\n",
       "        -9.18344139e-01,  1.00029901e+00,  8.21902504e-04],\n",
       "       [ 1.42490288e+00,  6.09148721e-01,  1.58144403e+00,\n",
       "         3.90611226e-02,  1.00035711e+00,  1.47789404e-03],\n",
       "       [ 6.75070990e-01,  7.94320830e-01,  7.50566017e-01,\n",
       "        -2.90307462e-01,  9.99470240e-01,  3.28751110e-04],\n",
       "       [ 6.37715810e-01, -6.55127726e-01,  7.52542799e-01,\n",
       "        -2.36015259e-01,  9.99607892e-01, -3.27662147e-04],\n",
       "       [ 8.96180270e-01,  3.09230731e-01, -9.07198297e-01,\n",
       "        -2.68516688e-01,  9.99579355e-01, -2.34587133e-04],\n",
       "       [-5.13247903e-02,  8.31668878e-01,  6.42060405e-01,\n",
       "         5.56314006e-01, -1.88618590e-03,  9.99825422e-01],\n",
       "       [-6.49978185e-01,  1.51999186e+00,  6.20214987e-01,\n",
       "         1.58026363e-01, -6.02302099e-05,  9.97536758e-01],\n",
       "       [ 6.57354976e-02,  5.44656121e-01,  3.29564769e-01,\n",
       "         2.56525441e+00, -1.14282281e-03,  9.99248067e-01],\n",
       "       [-7.08589754e-01,  1.16687942e+00,  1.49491430e+00,\n",
       "         2.56286283e+00, -5.86857094e-04,  9.97809544e-01],\n",
       "       [ 1.01731216e+00,  4.94996305e-01,  7.90606661e-01,\n",
       "         2.72914334e+00,  1.55066343e-03,  9.99931437e-01],\n",
       "       [ 1.07496102e+00,  2.80813258e-01, -3.24268613e-02,\n",
       "         2.15481952e+00,  7.83253292e-04,  1.00032206e+00],\n",
       "       [-1.67605380e+00, -1.07266575e+00, -9.10221151e-01,\n",
       "        -1.02898674e+00, -1.30714275e-03,  9.99815366e-01],\n",
       "       [-1.50160284e+00, -3.72838867e-01, -7.61189993e-01,\n",
       "         6.87369154e-01,  1.00029698e+00,  5.21941566e-04]])"
      ]
     },
     "execution_count": 19,
     "metadata": {},
     "output_type": "execute_result"
    }
   ],
   "source": [
    "n_gen = 20\n",
    "x_gen, y_gen = gm.sample(n_samples=n_gen)\n",
    "x_gen"
   ]
  },
  {
   "cell_type": "markdown",
   "id": "6523dcc4-8023-47be-896b-468ee6a1d8f1",
   "metadata": {},
   "source": [
    "Try to modify some images (e.g., rotate, flip, darken) and see if the model can detect the anomalies (i.e., compare the output of the score_samples() method for normal images and for anomalies)."
   ]
  },
  {
   "cell_type": "code",
   "execution_count": 24,
   "id": "981c1b85-5473-45c4-821e-04a925345920",
   "metadata": {},
   "outputs": [
    {
     "name": "stdout",
     "output_type": "stream",
     "text": [
      "[-4.90057162e+09 -4.90064229e+09 -4.90054453e+09 -2.47861576e+09\n",
      " -3.76816175e+09 -2.47776553e+09 -4.90056787e+09 -3.91986040e+09\n",
      " -4.15304678e+09 -4.90055493e+09]\n",
      "[ 6.27733286 14.69256797 16.57855186 16.05057999 13.13321626 14.36867226\n",
      "  8.70230287 10.78931211 14.97914476 14.1949502 ]\n"
     ]
    }
   ],
   "source": [
    "n_multiplied = 10\n",
    "X_bad = np.array([X_train[i] * 100 for i in range(n_multiplied)])\n",
    "y_bad = y_train[:n_multiplied]\n",
    "\n",
    "print(gm.score_samples(X_bad))\n",
    "print(gm.score_samples(X_train[:10]))"
   ]
  },
  {
   "cell_type": "markdown",
   "id": "9426c0d1-b87c-422f-82b5-f9a4cdb29d7c",
   "metadata": {},
   "source": [
    "13. Some dimensionality reduction techniques can also be used for anomaly\n",
    "detection. For example, take the Olivetti faces dataset and reduce it with\n",
    "PCA, preserving 99% of the variance. Then compute the reconstruction\n",
    "error for each image. Next, take some of the modified images you built\n",
    "in the previous exercise, and look at their reconstruction error: notice\n",
    "how much larger the reconstruction error is. If you plot a reconstructed\n",
    "image, you will see why: it tries to reconstruct a normal face"
   ]
  },
  {
   "cell_type": "code",
   "execution_count": 29,
   "id": "5b9619ee-4e14-4f07-9ae6-0931c227bae4",
   "metadata": {},
   "outputs": [
    {
     "data": {
      "text/plain": [
       "7.826818824842371e-31"
      ]
     },
     "execution_count": 29,
     "metadata": {},
     "output_type": "execute_result"
    }
   ],
   "source": [
    "from sklearn.decomposition import PCA\n",
    "\n",
    "pca = PCA(0.99)\n",
    "X_train_pca = pca.fit_transform(X_train)\n",
    "\n",
    "def reconstruction_errors(pca, X):\n",
    "    X_pca = pca.transform(X)\n",
    "    X_reconstructed = pca.inverse_transform(X_pca)\n",
    "    mse = np.square(X_reconstructed - X).mean(axis=-1)\n",
    "    return mse\n",
    "\n",
    "reconstruction_errors(pca, X_train).mean()"
   ]
  },
  {
   "cell_type": "code",
   "execution_count": 30,
   "id": "6cf68d4a-78f9-4d57-9b34-14dbf406d894",
   "metadata": {},
   "outputs": [
    {
     "data": {
      "text/plain": [
       "816.7500000000002"
      ]
     },
     "execution_count": 30,
     "metadata": {},
     "output_type": "execute_result"
    }
   ],
   "source": [
    "reconstruction_errors(pca, X_bad).mean()"
   ]
  },
  {
   "cell_type": "code",
   "execution_count": 31,
   "id": "5b593999-2335-4f2a-af4b-6ccd69bb6f75",
   "metadata": {},
   "outputs": [
    {
     "name": "stdout",
     "output_type": "stream",
     "text": [
      "[[-1.29636188e+02  3.30812614e+01  7.51079284e+01  1.05311999e+02\n",
      "   1.00000000e+02 -7.10542736e-15]\n",
      " [ 1.19567978e+02  1.12314745e+02  7.51079284e+01 -8.30132264e+00\n",
      "   1.00000000e+02 -5.68434189e-14]\n",
      " [-1.43876426e+02 -3.22084417e+01 -9.08613667e+01 -9.92648067e+01\n",
      "   4.26325641e-14  1.00000000e+02]\n",
      " [-1.01155712e+02  5.45710883e+01 -7.87671916e+00 -8.29648807e+01\n",
      "   1.00000000e+02 -1.42108547e-14]\n",
      " [ 1.26688097e+02 -1.14230682e+02 -9.08613667e+01 -1.90912819e+01\n",
      "  -9.23705556e-14  1.00000000e+02]\n",
      " [-9.40355929e+01  2.99644162e+01 -7.87671916e+00 -8.07887762e+01\n",
      "   5.68434189e-14  1.00000000e+02]\n",
      " [-8.69154738e+01 -3.54893313e+01 -9.08613667e+01  4.16366609e+01\n",
      "   2.84217094e-14  1.00000000e+02]\n",
      " [ 1.98863115e+01 -9.88105007e+01 -9.08613667e+01  5.15891709e+01\n",
      "  -5.68434189e-14  1.00000000e+02]\n",
      " [-1.57142836e+01 -1.90848833e+01  7.51079284e+01 -5.74819619e+01\n",
      "   1.00000000e+02  4.97379915e-14]\n",
      " [ 1.33808216e+02  8.88563846e+01 -9.08613667e+01 -1.57543384e+01\n",
      "   4.97379915e-14  1.00000000e+02]]\n"
     ]
    }
   ],
   "source": [
    "X_bad_pca = pca.fit_transform(X_bad)\n",
    "X_bad_reconstructed = pca.inverse_transform(X_bad_pca)\n",
    "print(X_bad_reconstructed)\n"
   ]
  },
  {
   "cell_type": "code",
   "execution_count": null,
   "id": "b98271ea-c215-44b9-bb05-4437ea4eb439",
   "metadata": {},
   "outputs": [],
   "source": []
  }
 ],
 "metadata": {
  "kernelspec": {
   "display_name": "Python 3 (ipykernel)",
   "language": "python",
   "name": "python3"
  },
  "language_info": {
   "codemirror_mode": {
    "name": "ipython",
    "version": 3
   },
   "file_extension": ".py",
   "mimetype": "text/x-python",
   "name": "python",
   "nbconvert_exporter": "python",
   "pygments_lexer": "ipython3",
   "version": "3.11.7"
  }
 },
 "nbformat": 4,
 "nbformat_minor": 5
}
