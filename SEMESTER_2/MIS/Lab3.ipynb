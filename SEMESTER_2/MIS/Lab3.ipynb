{
 "cells": [
  {
   "cell_type": "markdown",
   "id": "b9b874f2",
   "metadata": {},
   "source": [
    "**Варіант 5**"
   ]
  },
  {
   "cell_type": "code",
   "execution_count": 2,
   "id": "7753e892",
   "metadata": {},
   "outputs": [],
   "source": [
    "import pandas as pd\n",
    "import numpy as np\n",
    "import matplotlib.pyplot as plt"
   ]
  },
  {
   "cell_type": "markdown",
   "id": "5ded40cc",
   "metadata": {},
   "source": [
    "2, 4, 6, 7, 9, 10, 15, 16, 17, 18, 20, 21, 22, 23,\n",
    "\n",
    "24, 25, 26, 27"
   ]
  },
  {
   "cell_type": "markdown",
   "id": "5534a2a4",
   "metadata": {},
   "source": [
    "2) Вивести останні 8 рядків набору даних."
   ]
  },
  {
   "cell_type": "code",
   "execution_count": 29,
   "id": "2f474ea9",
   "metadata": {},
   "outputs": [
    {
     "name": "stdout",
     "output_type": "stream",
     "text": [
      "['1825426', 'Zo', '2014', 'M', '5']\n",
      "['1825427', 'Zyeir', '2014', 'M', '5']\n",
      "['1825428', 'Zyel', '2014', 'M', '5']\n",
      "['1825429', 'Zykeem', '2014', 'M', '5']\n",
      "['1825430', 'Zymeer', '2014', 'M', '5']\n",
      "['1825431', 'Zymiere', '2014', 'M', '5']\n",
      "['1825432', 'Zyran', '2014', 'M', '5']\n",
      "['1825433', 'Zyrin', '2014', 'M', '5']\n"
     ]
    }
   ],
   "source": [
    "import csv\n",
    "\n",
    "with open('NationalNames.csv', 'r') as csvfile:\n",
    "    reader = csv.reader(csvfile, delimiter=',')\n",
    "    lines = list(reader)\n",
    "    for line in lines[-8:]:\n",
    "      print(line)"
   ]
  },
  {
   "cell_type": "markdown",
   "id": "d0185597",
   "metadata": {},
   "source": [
    "4) Отримайте загальну інформацію про дані у наборі даних."
   ]
  },
  {
   "cell_type": "code",
   "execution_count": 12,
   "id": "7432e16a",
   "metadata": {},
   "outputs": [
    {
     "name": "stdout",
     "output_type": "stream",
     "text": [
      "                 Id          Year         Count\n",
      "count  1.825433e+06  1.825433e+06  1.825433e+06\n",
      "mean   9.127170e+05  1.972620e+03  1.846879e+02\n",
      "std    5.269573e+05  3.352891e+01  1.566711e+03\n",
      "min    1.000000e+00  1.880000e+03  5.000000e+00\n",
      "25%    4.563590e+05  1.949000e+03  7.000000e+00\n",
      "50%    9.127170e+05  1.982000e+03  1.200000e+01\n",
      "75%    1.369075e+06  2.001000e+03  3.200000e+01\n",
      "max    1.825433e+06  2.014000e+03  9.968000e+04\n"
     ]
    }
   ],
   "source": [
    "df = pd.read_csv('NationalNames.csv')\n",
    "\n",
    "print(df.describe())"
   ]
  },
  {
   "cell_type": "markdown",
   "id": "e9b00b5c",
   "metadata": {},
   "source": [
    "6. Обчисліть кількість унікальних жіночих та чоловічих імен у цілому\n",
    "наборі даних"
   ]
  },
  {
   "cell_type": "code",
   "execution_count": 68,
   "id": "5d1f9da0",
   "metadata": {},
   "outputs": [
    {
     "name": "stdout",
     "output_type": "stream",
     "text": [
      "64911\n",
      "39199\n"
     ]
    }
   ],
   "source": [
    "with open(\"NationalNames.csv\", \"r\") as csvfile:\n",
    "\n",
    "    # Створення читача CSV\n",
    "    reader = csv.reader(csvfile, delimiter=\",\")\n",
    "\n",
    "    # Пропуск заголовка\n",
    "    next(reader, None)\n",
    "    \n",
    "    females = set()\n",
    "    males = set()\n",
    "    \n",
    "    # Отримання рядків з CSV-файлу\n",
    "    for row in reader:\n",
    "\n",
    "        # Ім'я\n",
    "        name = row[1]\n",
    "\n",
    "        # Стать\n",
    "        gender = row[3]\n",
    "\n",
    "        # Додавання імені до відповідного словника\n",
    "        if gender == \"F\":\n",
    "            females.add(name)\n",
    "        elif gender == \"M\":\n",
    "            males.add(name)\n",
    "                      \n",
    "    print(len(females))\n",
    "    print(len(males))"
   ]
  },
  {
   "cell_type": "markdown",
   "id": "a32403fb",
   "metadata": {},
   "source": [
    "7. Знайдіть 5 найпопулярніших чоловічих імен у 2010 році"
   ]
  },
  {
   "cell_type": "code",
   "execution_count": 40,
   "id": "6afef522",
   "metadata": {},
   "outputs": [
    {
     "name": "stdout",
     "output_type": "stream",
     "text": [
      "5 найпопулярніших чоловічих імен у 2010 році:\n",
      "14241\n",
      "1 jacob 1\n",
      "2 ethan 1\n",
      "3 michael 1\n",
      "4 jayden 1\n",
      "5 william 1\n"
     ]
    }
   ],
   "source": [
    "# Словник для зберігання імен та їх частоти\n",
    "male_names = {}\n",
    "\n",
    "# Відкриття CSV-файлу\n",
    "with open(\"NationalNames.csv\", \"r\") as csvfile:\n",
    "\n",
    "    # Створення читача CSV\n",
    "    reader = csv.reader(csvfile, delimiter=\",\")\n",
    "\n",
    "    # Пропуск заголовка\n",
    "    next(reader, None)\n",
    "\n",
    "    # Отримання рядків з CSV-файлу\n",
    "    for row in reader:\n",
    "\n",
    "        # Ім'я\n",
    "        name = row[1].lower()\n",
    "\n",
    "        # Стать\n",
    "        gender = row[3].lower()\n",
    "\n",
    "        # Рік\n",
    "        year = int(row[2])\n",
    "\n",
    "        # Перевірка, чи чоловіча стать і 2010 рік\n",
    "        if gender == \"m\" and year == 2010:\n",
    "            male_names.setdefault(name, 0)\n",
    "            male_names[name] += 1\n",
    "\n",
    "# Сортування словника за частотою\n",
    "sorted_names = sorted(male_names.items(), key=lambda x: x[1], reverse=True)\n",
    "\n",
    "# Виведення 5 найпопулярніших імен\n",
    "print(\"5 найпопулярніших чоловічих імен у 2010 році:\")\n",
    "print(len(male_names))\n",
    "for i, (name, count) in enumerate(sorted_names[:5], 1):\n",
    "    print(i, name, count)"
   ]
  },
  {
   "cell_type": "markdown",
   "id": "556c40cb",
   "metadata": {},
   "source": [
    "9. Підрахуйте кількість записів, для яких Count - мінімальне у наборі."
   ]
  },
  {
   "cell_type": "code",
   "execution_count": 3,
   "id": "7e015b65",
   "metadata": {
    "scrolled": true
   },
   "outputs": [
    {
     "name": "stdout",
     "output_type": "stream",
     "text": [
      "254615\n"
     ]
    }
   ],
   "source": [
    "df = pd.read_csv(\"NationalNames.csv\")\n",
    "print(df[df['Count'] == df['Count'].min()].shape[0])"
   ]
  },
  {
   "cell_type": "markdown",
   "id": "c287dccd",
   "metadata": {},
   "source": [
    "10. Підрахуйте кількість унікальних імен у кожному році"
   ]
  },
  {
   "cell_type": "code",
   "execution_count": 42,
   "id": "5df7673e",
   "metadata": {},
   "outputs": [
    {
     "name": "stdout",
     "output_type": "stream",
     "text": [
      "Year\n",
      "1880     1889\n",
      "1881     1830\n",
      "1882     2012\n",
      "1883     1962\n",
      "1884     2158\n",
      "        ...  \n",
      "2010    31603\n",
      "2011    31418\n",
      "2012    31236\n",
      "2013    30774\n",
      "2014    30579\n",
      "Name: Name, Length: 135, dtype: int64\n"
     ]
    }
   ],
   "source": [
    "df = pd.read_csv(\"NationalNames.csv\")\n",
    "print(df.groupby('Year')['Name'].nunique())"
   ]
  },
  {
   "cell_type": "markdown",
   "id": "e1c8ca5e",
   "metadata": {},
   "source": [
    "15. Знайдіть загальну кількість народжень за рік."
   ]
  },
  {
   "cell_type": "code",
   "execution_count": 43,
   "id": "0ffef182",
   "metadata": {},
   "outputs": [
    {
     "name": "stdout",
     "output_type": "stream",
     "text": [
      "Year\n",
      "1880     201484\n",
      "1881     192699\n",
      "1882     221538\n",
      "1883     216950\n",
      "1884     243467\n",
      "         ...   \n",
      "2010    3686589\n",
      "2011    3646730\n",
      "2012    3643336\n",
      "2013    3626802\n",
      "2014    3670151\n",
      "Name: Count, Length: 135, dtype: int64\n"
     ]
    }
   ],
   "source": [
    "df = pd.read_csv(\"NationalNames.csv\")\n",
    "print(df.groupby('Year')['Count'].sum())"
   ]
  },
  {
   "cell_type": "markdown",
   "id": "27d68eca",
   "metadata": {},
   "source": [
    "16. Знайдіть рік, коли народилося найбільше дітей"
   ]
  },
  {
   "cell_type": "code",
   "execution_count": 4,
   "id": "6c3aea67",
   "metadata": {},
   "outputs": [
    {
     "name": "stdout",
     "output_type": "stream",
     "text": [
      "Res: 1957\n"
     ]
    }
   ],
   "source": [
    "df = pd.read_csv(\"NationalNames.csv\")\n",
    "max_val = df.groupby('Year')['Count'].sum().idxmax()\n",
    "print(f\"Res: {max_val}\")"
   ]
  },
  {
   "cell_type": "markdown",
   "id": "d2db6a0d",
   "metadata": {},
   "source": [
    "17. Знайдіть кількість дівчаток та хлопчиків, які народились кожного\n",
    "року"
   ]
  },
  {
   "cell_type": "code",
   "execution_count": 66,
   "id": "eee77c59",
   "metadata": {},
   "outputs": [
    {
     "name": "stdout",
     "output_type": "stream",
     "text": [
      "Res: Year  Gender\n",
      "1880  F           90993\n",
      "      M          110491\n",
      "1881  F           91954\n",
      "      M          100745\n",
      "1882  F          107850\n",
      "                 ...   \n",
      "2012  M         1889414\n",
      "2013  F         1745339\n",
      "      M         1881463\n",
      "2014  F         1768775\n",
      "      M         1901376\n",
      "Name: Count, Length: 270, dtype: int64\n"
     ]
    }
   ],
   "source": [
    "df = pd.read_csv(\"NationalNames.csv\")\n",
    "res = df.groupby(['Year', 'Gender'])['Count'].sum()\n",
    "print(f\"Res: {res}\")"
   ]
  },
  {
   "cell_type": "markdown",
   "id": "41581be3",
   "metadata": {},
   "source": [
    "18. Підрахуйте кількість років, коли дівчаток народжувалось більше,\n",
    "ніж хлопчиків."
   ]
  },
  {
   "cell_type": "code",
   "execution_count": 75,
   "id": "5198b3b3",
   "metadata": {},
   "outputs": [
    {
     "name": "stdout",
     "output_type": "stream",
     "text": [
      "Year\n",
      "1880      90993\n",
      "1881      91954\n",
      "1882     107850\n",
      "1883     112321\n",
      "1884     129022\n",
      "         ...   \n",
      "2010    1772738\n",
      "2011    1753500\n",
      "2012    1753922\n",
      "2013    1745339\n",
      "2014    1768775\n",
      "Name: Count, Length: 135, dtype: int64\n",
      "54\n"
     ]
    }
   ],
   "source": [
    "df = pd.read_csv(\"NationalNames.csv\")\n",
    "female_per_year = df[df['Gender'] == 'F'].groupby('Year')['Count'].sum()\n",
    "male_per_year = df[df['Gender'] == 'M'].groupby('Year')['Count'].sum()\n",
    "print(female_per_year)\n",
    "print(len(female_per_year[female_per_year > male_per_year].index.tolist()))"
   ]
  },
  {
   "cell_type": "markdown",
   "id": "295f363d",
   "metadata": {},
   "source": [
    "20. Підрахуйте кількість гендерно-нейтральних імен (однакових для\n",
    "дівчат та хлопців)"
   ]
  },
  {
   "cell_type": "code",
   "execution_count": 87,
   "id": "16a6480f",
   "metadata": {},
   "outputs": [
    {
     "name": "stdout",
     "output_type": "stream",
     "text": [
      "10221\n"
     ]
    }
   ],
   "source": [
    "df = pd.read_csv(\"NationalNames.csv\")\n",
    "females = set(df[df['Gender'] == 'F']['Name'])\n",
    "males = set(df[df['Gender'] == 'M']['Name'])\n",
    "print(len(females.intersection(males)))"
   ]
  },
  {
   "cell_type": "markdown",
   "id": "0a187741",
   "metadata": {},
   "source": [
    "21. Порахуйте, скільки разів хлопчиків називали Barbara"
   ]
  },
  {
   "cell_type": "code",
   "execution_count": 88,
   "id": "17428a47",
   "metadata": {},
   "outputs": [
    {
     "name": "stdout",
     "output_type": "stream",
     "text": [
      "4139\n"
     ]
    }
   ],
   "source": [
    "males = df[df['Gender'] == 'M'].groupby(['Name'])['Count'].sum()\n",
    "print(males['Barbara'])"
   ]
  },
  {
   "cell_type": "markdown",
   "id": "d90efd3e",
   "metadata": {},
   "source": [
    "22. Підрахуйте скільки років проводилось спостереження"
   ]
  },
  {
   "cell_type": "code",
   "execution_count": 89,
   "id": "b12e24d4",
   "metadata": {},
   "outputs": [
    {
     "name": "stdout",
     "output_type": "stream",
     "text": [
      "135\n"
     ]
    }
   ],
   "source": [
    "print(df['Year'].nunique())"
   ]
  },
  {
   "cell_type": "markdown",
   "id": "5c2810ad",
   "metadata": {},
   "source": [
    "23. Знати найпопулярніші гендерно-нейтральні імена (ті, що присутні\n",
    "кожного року)"
   ]
  },
  {
   "cell_type": "code",
   "execution_count": 25,
   "id": "2b4c4b23",
   "metadata": {},
   "outputs": [
    {
     "name": "stdout",
     "output_type": "stream",
     "text": [
      "Name  Aaden  Aadi  Aadyn  Aalijah  Aaliyah  Aamari  Aamir  Aaren  Aareon  \\\n",
      "Year                                                                       \n",
      "1880    NaN   NaN    NaN      NaN      NaN     NaN    NaN    NaN     NaN   \n",
      "1881    NaN   NaN    NaN      NaN      NaN     NaN    NaN    NaN     NaN   \n",
      "1882    NaN   NaN    NaN      NaN      NaN     NaN    NaN    NaN     NaN   \n",
      "1883    NaN   NaN    NaN      NaN      NaN     NaN    NaN    NaN     NaN   \n",
      "1884    NaN   NaN    NaN      NaN      NaN     NaN    NaN    NaN     NaN   \n",
      "...     ...   ...    ...      ...      ...     ...    ...    ...     ...   \n",
      "2010    1.0   1.0    1.0      1.0      2.0     2.0    1.0    2.0     1.0   \n",
      "2011    1.0   1.0    1.0      2.0      1.0     2.0    1.0    1.0     NaN   \n",
      "2012    1.0   2.0    1.0      2.0      2.0     1.0    1.0    1.0     NaN   \n",
      "2013    1.0   2.0    1.0      2.0      2.0     2.0    2.0    1.0     NaN   \n",
      "2014    1.0   1.0    1.0      2.0      2.0     2.0    1.0    1.0     NaN   \n",
      "\n",
      "Name  Aarian  ...  Zuriel   Zy  Zyair  Zyaire  Zyan  Zyian  Zyien  Zyion  \\\n",
      "Year          ...                                                          \n",
      "1880     NaN  ...     NaN  NaN    NaN     NaN   NaN    NaN    NaN    NaN   \n",
      "1881     NaN  ...     NaN  NaN    NaN     NaN   NaN    NaN    NaN    NaN   \n",
      "1882     NaN  ...     NaN  NaN    NaN     NaN   NaN    NaN    NaN    NaN   \n",
      "1883     NaN  ...     NaN  NaN    NaN     NaN   NaN    NaN    NaN    NaN   \n",
      "1884     NaN  ...     NaN  NaN    NaN     NaN   NaN    NaN    NaN    NaN   \n",
      "...      ...  ...     ...  ...    ...     ...   ...    ...    ...    ...   \n",
      "2010     1.0  ...     2.0  NaN    2.0     2.0   2.0    2.0    2.0    2.0   \n",
      "2011     1.0  ...     2.0  1.0    2.0     2.0   2.0    2.0    1.0    2.0   \n",
      "2012     2.0  ...     2.0  1.0    2.0     2.0   2.0    2.0    1.0    2.0   \n",
      "2013     2.0  ...     2.0  1.0    2.0     2.0   2.0    NaN    NaN    2.0   \n",
      "2014     2.0  ...     2.0  NaN    2.0     2.0   2.0    1.0    1.0    2.0   \n",
      "\n",
      "Name  Zyon  Zyree  \n",
      "Year               \n",
      "1880   NaN    NaN  \n",
      "1881   NaN    NaN  \n",
      "1882   NaN    NaN  \n",
      "1883   NaN    NaN  \n",
      "1884   NaN    NaN  \n",
      "...    ...    ...  \n",
      "2010   2.0    1.0  \n",
      "2011   2.0    1.0  \n",
      "2012   2.0    NaN  \n",
      "2013   2.0    2.0  \n",
      "2014   2.0    1.0  \n",
      "\n",
      "[135 rows x 10221 columns]\n",
      "Index(['Aaron', 'Abbie', 'Abel', 'Abigail', 'Abraham', 'Ada', 'Adam', 'Addie',\n",
      "       'Addison', 'Adele',\n",
      "       ...\n",
      "       'Williams', 'Willie', 'Willis', 'Wilma', 'Wilmer', 'Wilson', 'Winifred',\n",
      "       'Winnie', 'Wyatt', 'Zoe'],\n",
      "      dtype='object', name='Name', length=823)\n"
     ]
    }
   ],
   "source": [
    "df = pd.read_csv(\"NationalNames.csv\")\n",
    "# Filter for shared names\n",
    "male_names = set(df[df['Gender'] == 'M']['Name'])\n",
    "female_names = set(df[df['Gender'] == 'F']['Name'])\n",
    "shared_names = male_names.intersection(female_names)\n",
    "\n",
    "shared_df = df[df['Name'].isin(shared_names)]\n",
    "name_presence = shared_df.groupby(['Year', 'Name']).size().unstack()\n",
    "print(name_presence)\n",
    "df_cleaned = name_presence.dropna(axis=1)\n",
    "print(df_cleaned.keys())"
   ]
  },
  {
   "cell_type": "markdown",
   "id": "c3e0a2da",
   "metadata": {},
   "source": [
    "24. Знайти найпопулярніше серед непопулярних імен (непопулярне\n",
    "ім’я, яким називали дітей найбільшу кількість разів )"
   ]
  },
  {
   "cell_type": "markdown",
   "id": "e42548c7",
   "metadata": {},
   "source": [
    "Оскільки незрозуміло, за яким критерієм визначається непопулярне ім'я (раніше популярність визначалась за значенням Count) та чим популярність відрізняється від кількості названих цим ім'ям дітей, я зроблю припущення, що малась на увазі кількість років, в яких з'являлось це ім'я. "
   ]
  },
  {
   "cell_type": "markdown",
   "id": "048f6509",
   "metadata": {},
   "source": [
    "Перевразую тз: Знайдіть ім'я, яке має найменшу суму значень Count (непопулярне) і з'являється найбільшій кількість років(найпопулярніше з непопулярних)."
   ]
  },
  {
   "cell_type": "code",
   "execution_count": 57,
   "id": "8e8c0762",
   "metadata": {},
   "outputs": [
    {
     "name": "stdout",
     "output_type": "stream",
     "text": [
      "Name\n",
      "Zzyzx               5\n",
      "Nevaehia            5\n",
      "Crettie             5\n",
      "Nevaehtnes          5\n",
      "Nevara              5\n",
      "               ...   \n",
      "Mary          4130441\n",
      "Michael       4330805\n",
      "Robert        4816785\n",
      "John          5106590\n",
      "James         5129096\n",
      "Name: Count, Length: 93889, dtype: int64\n",
      "['Zzyzx' 'Nevaehia' 'Crettie' ... 'Antowain' 'Ahkil' 'Yetzaly']\n",
      "\n",
      "popular_not_popular\n",
      "Name\n",
      "Aabid        1\n",
      "Aadhyan      1\n",
      "Aadian       1\n",
      "Aadrian      1\n",
      "Aadrit       1\n",
      "            ..\n",
      "Zysean       1\n",
      "Zytaevius    1\n",
      "Zytavion     1\n",
      "Zyvion       1\n",
      "Zzyzx        1\n",
      "Name: Year, Length: 13393, dtype: int64\n",
      "Aabid\n"
     ]
    }
   ],
   "source": [
    "df = pd.read_csv(\"NationalNames.csv\")\n",
    "\n",
    "count_sum = df.groupby('Name')['Count'].sum().sort_values()\n",
    "print(count_sum)\n",
    "\n",
    "min_value = count_sum.min()\n",
    "names_with_min_value = count_sum[count_sum == min_value].index.to_numpy()\n",
    "\n",
    "print(names_with_min_value)\n",
    "\n",
    "not_popular = df[df['Name'].isin(names_with_min_value)]\n",
    "popular_not_popular = not_popular.groupby('Name')['Year'].nunique()\n",
    "print('\\npopular_not_popular')\n",
    "print(popular_not_popular)\n",
    "\n",
    "the_most_popular = popular_not_popular.idxmax()\n",
    "print(max_index)"
   ]
  },
  {
   "cell_type": "markdown",
   "id": "edb88c75",
   "metadata": {},
   "source": [
    "25. Побудувати графіки розподілення кількості імен John та Mary по\n",
    "роках без залежності до статі."
   ]
  },
  {
   "cell_type": "code",
   "execution_count": 28,
   "id": "4c1f060d",
   "metadata": {},
   "outputs": [
    {
     "data": {
      "image/png": "[encoded data removed]",
      "text/plain": [
       "<Figure size 640x480 with 1 Axes>"
      ]
     },
     "metadata": {},
     "output_type": "display_data"
    }
   ],
   "source": [
    "df = pd.read_csv(\"NationalNames.csv\")\n",
    "\n",
    "# Отримання даних для John та Mary\n",
    "john_data = df[df[\"Name\"] == \"John\"]\n",
    "mary_data = df[df[\"Name\"] == \"Mary\"]\n",
    "\n",
    "# Групування даних по року\n",
    "john_counts = john_data.groupby(\"Year\")[\"Count\"].sum()\n",
    "mary_counts = mary_data.groupby(\"Year\")[\"Count\"].sum()\n",
    "\n",
    "# Створення графіка\n",
    "plt.plot(john_counts.index, john_counts, label=\"John\")\n",
    "plt.plot(mary_counts.index, mary_counts, label=\"Mary\")\n",
    "\n",
    "plt.xlabel(\"Рік\")\n",
    "plt.ylabel(\"Кількість\")\n",
    "plt.title(\"Розподіл імен John та Mary по року\")\n",
    "plt.legend()\n",
    "plt.show()"
   ]
  },
  {
   "cell_type": "markdown",
   "id": "22ca9026",
   "metadata": {},
   "source": [
    "26. Побудувати графіки розподілення кількості жіночих імен John та\n",
    "чоловічих імен Mary по роках."
   ]
  },
  {
   "cell_type": "code",
   "execution_count": 29,
   "id": "17cd7c3c",
   "metadata": {},
   "outputs": [
    {
     "data": {
      "image/png": "[encoded data removed]",
      "text/plain": [
       "<Figure size 640x480 with 1 Axes>"
      ]
     },
     "metadata": {},
     "output_type": "display_data"
    }
   ],
   "source": [
    "df = pd.read_csv(\"NationalNames.csv\")\n",
    "female_john_data = df[(df[\"Name\"] == \"John\") & (df[\"Gender\"] == \"F\")]\n",
    "male_mary_data = df[(df[\"Name\"] == \"Mary\") & (df[\"Gender\"] == \"M\")]\n",
    "\n",
    "# Групування даних по року\n",
    "female_john_counts = female_john_data.groupby(\"Year\")[\"Count\"].sum()\n",
    "male_mary_counts = male_mary_data.groupby(\"Year\")[\"Count\"].sum()\n",
    "\n",
    "# Створення графіка\n",
    "plt.plot(female_john_counts.index, female_john_counts, label=\"Жіночі John\")\n",
    "plt.plot(male_mary_counts.index, male_mary_counts, label=\"Чоловічі Mary\")\n",
    "\n",
    "plt.xlabel(\"Рік\")\n",
    "plt.ylabel(\"Кількість\")\n",
    "plt.title(\"Розподіл John (жіночі) та Mary (чоловічі) по роках\")\n",
    "plt.legend()\n",
    "plt.show()"
   ]
  },
  {
   "cell_type": "markdown",
   "id": "2534d21c",
   "metadata": {},
   "source": [
    "27. Знайти найпопулярніші імена в кожному році."
   ]
  },
  {
   "cell_type": "code",
   "execution_count": 31,
   "id": "44fe264e",
   "metadata": {},
   "outputs": [
    {
     "name": "stdout",
     "output_type": "stream",
     "text": [
      "         Year      Name  Count\n",
      "0        1880     Aaron    102\n",
      "1        1880        Ab      5\n",
      "2        1880     Abbie     71\n",
      "3        1880    Abbott      5\n",
      "4        1880      Abby      6\n",
      "...       ...       ...    ...\n",
      "1664775  2014     Zyron     13\n",
      "1664776  2014     Zyrus     10\n",
      "1664777  2014   Zyshawn      6\n",
      "1664778  2014  Zytaveon      7\n",
      "1664779  2014     Zyyon      6\n",
      "\n",
      "[1664780 rows x 3 columns]\n",
      "     Year           0\n",
      "0    1880      [John]\n",
      "1    1881      [John]\n",
      "2    1882      [John]\n",
      "3    1883      [John]\n",
      "4    1884      [John]\n",
      "..    ...         ...\n",
      "130  2010  [Isabella]\n",
      "131  2011    [Sophia]\n",
      "132  2012    [Sophia]\n",
      "133  2013    [Sophia]\n",
      "134  2014      [Emma]\n",
      "\n",
      "[135 rows x 2 columns]\n"
     ]
    }
   ],
   "source": [
    "df = pd.read_csv(\"NationalNames.csv\")\n",
    "highest_counts = df.groupby(['Year', 'Name'])['Count'].max().reset_index()\n",
    "\n",
    "print(highest_counts)\n",
    "\n",
    "highest_counts_per_year = highest_counts.groupby('Year').apply(\n",
    "  lambda g: g[g['Count'] == g['Count'].max()]['Name'].tolist()).reset_index()\n",
    "\n",
    "print(highest_counts_per_year.rename(columns={'Name': 'Highest Count Names'}))"
   ]
  },
  {
   "cell_type": "code",
   "execution_count": null,
   "id": "65955d4e",
   "metadata": {},
   "outputs": [],
   "source": []
  }
 ],
 "metadata": {
  "kernelspec": {
   "display_name": "Python 3 (ipykernel)",
   "language": "python",
   "name": "python3"
  },
  "language_info": {
   "codemirror_mode": {
    "name": "ipython",
    "version": 3
   },
   "file_extension": ".py",
   "mimetype": "text/x-python",
   "name": "python",
   "nbconvert_exporter": "python",
   "pygments_lexer": "ipython3",
   "version": "3.11.5"
  }
 },
 "nbformat": 4,
 "nbformat_minor": 5
}
