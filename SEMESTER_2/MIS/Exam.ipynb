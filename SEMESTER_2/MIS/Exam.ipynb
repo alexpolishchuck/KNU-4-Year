{
 "cells": [
  {
   "cell_type": "code",
   "execution_count": 2,
   "id": "34d298b1-5808-4cde-a0d8-87a2c1c1cfcf",
   "metadata": {},
   "outputs": [],
   "source": [
    "import pandas as pd\n",
    "import numpy as np\n",
    "from sklearn.pipeline import Pipeline\n",
    "from sklearn.compose import ColumnTransformer\n",
    "from sklearn.preprocessing import StandardScaler\n",
    "from sklearn.impute import SimpleImputer\n",
    "from sklearn.preprocessing import OneHotEncoder\n",
    "\n",
    "# Завантажуємо дані\n",
    "df = pd.read_csv(\"Expanded_data_with_more_features.csv\")\n"
   ]
  },
  {
   "cell_type": "markdown",
   "id": "899bf701-58f2-4f77-a480-ce99f271cc19",
   "metadata": {},
   "source": [
    " 1. Скільки студентів і студенток у наборі даних?\n",
    " 2. Який відсоток студентів чоловічої статі в наборі даних?\n",
    " 3. Який відсоток студенток у наборі даних?\n",
    "\n",
    " Дослідіть зв’язок між етнічною групою та результатами тестів.\n",
    " 4. Яка етнічна група має найвищий середній бал з математики?\n",
    " 5. Яка етнічна група має найвищий середній бал читання?\n",
    " 6. Яка етнічна група має найвищий середній бал з письма?\n",
    "\n",
    " Дослідіть вплив курсу підготовки до тесту на результати тесту.\n",
    " 7. Який середній бал з математики для студентів, які закінчили курс підготовки до тесту?\n",
    " 8. Який середній бал з читання для студентів, які пройшли курс підготовки до тесту?\n",
    " 9. Який середній бал для студентів, які закінчили курс підготовки до тесту?\n",
    "\n",
    " Проаналізуйте розподіл батьків(ів) за сімейним станом серед учнів.\n",
    " 10. Скільки студентів мають одружених батьків?\n",
    " 11. Скільки студентів мають батьків-одинаків?\n"
   ]
  },
  {
   "cell_type": "code",
   "execution_count": 5,
   "id": "98482f2e-b121-4a66-bbaf-83ce2bcd4f03",
   "metadata": {},
   "outputs": [
    {
     "name": "stdout",
     "output_type": "stream",
     "text": [
      "30641\n"
     ]
    }
   ],
   "source": [
    "#1. Скільки студентів і студенток у наборі даних?\n",
    "print(df.shape[0])\n",
    "number_of_students = df.shape[0]"
   ]
  },
  {
   "cell_type": "code",
   "execution_count": 8,
   "id": "d779d4f1-6208-41e5-9b8b-0d7abe0eb9eb",
   "metadata": {},
   "outputs": [
    {
     "name": "stdout",
     "output_type": "stream",
     "text": [
      "15217\n",
      "49.6622172905584\n"
     ]
    }
   ],
   "source": [
    "#2 Який відсоток студентів чоловічої статі в наборі даних?\n",
    "male_count = df[df['Gender'] == 'male'].shape[0]\n",
    "print(male_count)\n",
    "print(male_count/number_of_students * 100)"
   ]
  },
  {
   "cell_type": "code",
   "execution_count": 9,
   "id": "967b21dd-3354-4412-842a-e452290aba5c",
   "metadata": {},
   "outputs": [],
   "source": [
    "#3 Який відсоток студенток у наборі даних?"
   ]
  },
  {
   "cell_type": "code",
   "execution_count": 10,
   "id": "e4083a4b-5ef6-4444-9ea6-d382482f3a5d",
   "metadata": {},
   "outputs": [
    {
     "name": "stdout",
     "output_type": "stream",
     "text": [
      "50.3377827094416\n"
     ]
    }
   ],
   "source": [
    "print(100 - male_count/number_of_students * 100) "
   ]
  },
  {
   "cell_type": "code",
   "execution_count": 19,
   "id": "4d1e5940-e8f2-4565-b70a-64bb532cdb99",
   "metadata": {},
   "outputs": [
    {
     "name": "stdout",
     "output_type": "stream",
     "text": [
      "group E\n",
      "EthnicGroup\n",
      "group A    62.991888\n",
      "group B    63.490216\n",
      "group C    64.695723\n",
      "group D    67.666400\n",
      "group E    75.298936\n",
      "Name: MathScore, dtype: float64\n"
     ]
    }
   ],
   "source": [
    "#  4. Яка етнічна група має найвищий середній бал з математики?\n",
    "average_scores = df.groupby('EthnicGroup')['MathScore'].mean()\n",
    "highest_scoring_var = average_scores.idxmax()\n",
    "print(highest_scoring_var)\n",
    "print(average_scores) "
   ]
  },
  {
   "cell_type": "code",
   "execution_count": 20,
   "id": "80bd9ecb-8b05-420b-b0b2-1ad9a946ac3b",
   "metadata": {},
   "outputs": [
    {
     "name": "stdout",
     "output_type": "stream",
     "text": [
      "group E\n",
      "EthnicGroup\n",
      "group A    66.787742\n",
      "group B    67.320460\n",
      "group C    68.438233\n",
      "group D    70.382247\n",
      "group E    74.251423\n",
      "Name: ReadingScore, dtype: float64\n"
     ]
    }
   ],
   "source": [
    "#  5. Яка етнічна група має найвищий середній бал читання?\n",
    "average_scores = df.groupby('EthnicGroup')['ReadingScore'].mean()\n",
    "highest_scoring_gender = average_scores.idxmax()\n",
    "print(highest_scoring_gender)\n",
    "print(average_scores) \n"
   ]
  },
  {
   "cell_type": "code",
   "execution_count": 21,
   "id": "d0237348-d2c2-42e7-970c-afdf20203cd7",
   "metadata": {},
   "outputs": [
    {
     "name": "stdout",
     "output_type": "stream",
     "text": [
      "group E\n",
      "EthnicGroup\n",
      "group A    65.251915\n",
      "group B    65.895125\n",
      "group C    66.999240\n",
      "group D    70.890844\n",
      "group E    72.677060\n",
      "Name: WritingScore, dtype: float64\n"
     ]
    }
   ],
   "source": [
    "#     6. Яка етнічна група має найвищий середній бал з письма?\n",
    "average_scores = df.groupby('EthnicGroup')['WritingScore'].mean()\n",
    "highest_scoring_var = average_scores.idxmax()\n",
    "print(highest_scoring_var)\n",
    "print(average_scores) "
   ]
  },
  {
   "cell_type": "code",
   "execution_count": 24,
   "id": "65c8bc8a-012a-4275-b290-2208e71c970d",
   "metadata": {},
   "outputs": [
    {
     "name": "stdout",
     "output_type": "stream",
     "text": [
      "69.5466599698644\n"
     ]
    }
   ],
   "source": [
    "# 7. Який середній бал з математики для студентів, які закінчили курс підготовки до тесту?\n",
    "preped_data = df[df['TestPrep'] == 'completed']\n",
    "average_score = preped_data['MathScore'].mean()\n",
    "print(average_score) "
   ]
  },
  {
   "cell_type": "code",
   "execution_count": 25,
   "id": "17043cef-baf4-491c-9480-3a56bcaf85cf",
   "metadata": {},
   "outputs": [
    {
     "name": "stdout",
     "output_type": "stream",
     "text": [
      "73.73299849321948\n"
     ]
    }
   ],
   "source": [
    "# 8. Який середній бал з читання для студентів, які пройшли курс підготовки до тесту?\n",
    "preped_data = df[df['TestPrep'] == 'completed']\n",
    "average_score = preped_data['ReadingScore'].mean()\n",
    "print(average_score) "
   ]
  },
  {
   "cell_type": "code",
   "execution_count": 27,
   "id": "22b337d2-8874-4362-9df2-daf28b1337f3",
   "metadata": {},
   "outputs": [
    {
     "name": "stdout",
     "output_type": "stream",
     "text": [
      "72.66097438473129\n"
     ]
    }
   ],
   "source": [
    "# 9. Який середній бал для студентів, які закінчили курс підготовки до тесту?\n",
    "preped_data = df[df['TestPrep'] == 'completed']\n",
    "average_score = male_data[['MathScore', 'ReadingScore', 'WritingScore']].mean(axis=1)\n",
    "print(average_score.mean()) "
   ]
  },
  {
   "cell_type": "code",
   "execution_count": 29,
   "id": "72736bd3-2f3b-4f38-8510-496c0e19cbef",
   "metadata": {},
   "outputs": [
    {
     "name": "stdout",
     "output_type": "stream",
     "text": [
      "16844\n"
     ]
    }
   ],
   "source": [
    "#     10. Скільки студентів мають одружених батьків?\n",
    "count = df[df['ParentMaritalStatus'] == 'married'].shape[0]\n",
    "print(count)"
   ]
  },
  {
   "cell_type": "code",
   "execution_count": 30,
   "id": "e8452f9e-d2e6-409b-b615-dba66644e1fc",
   "metadata": {},
   "outputs": [
    {
     "name": "stdout",
     "output_type": "stream",
     "text": [
      "7097\n"
     ]
    }
   ],
   "source": [
    "#     11. Скільки студентів мають батьків-одинаків?\n",
    "count = df[df['ParentMaritalStatus'] == 'single'].shape[0]\n",
    "print(count)"
   ]
  },
  {
   "cell_type": "code",
   "execution_count": 35,
   "id": "75411926-845a-48ff-bcfa-76ad61edf967",
   "metadata": {},
   "outputs": [
    {
     "name": "stdout",
     "output_type": "stream",
     "text": [
      "regularly\n",
      "PracticeSport\n",
      "never        64.171079\n",
      "regularly    67.839155\n",
      "sometimes    66.274831\n",
      "Name: MathScore, dtype: float64\n"
     ]
    }
   ],
   "source": [
    "# 12. Чи студенти, які регулярно займаються спортом, мають вищі середні результати з математики, ніж ті, хто ніколи не займається спортом?\n",
    "average_scores = df.groupby('PracticeSport')['MathScore'].mean()\n",
    "highest_scoring = average_scores.idxmax()\n",
    "print(highest_scoring)\n",
    "print(average_scores) \n"
   ]
  },
  {
   "cell_type": "code",
   "execution_count": 36,
   "id": "8e87ff6a-731d-49a5-8a08-51e346a5175f",
   "metadata": {},
   "outputs": [
    {
     "name": "stdout",
     "output_type": "stream",
     "text": [
      "regularly\n",
      "PracticeSport\n",
      "never        68.337662\n",
      "regularly    69.943019\n",
      "sometimes    69.241307\n",
      "Name: ReadingScore, dtype: float64\n"
     ]
    }
   ],
   "source": [
    "#     13. Чи студенти, які регулярно займаються спортом, мають вищі середні результати читання, ніж ті, хто ніколи не займається спортом?\n",
    "average_scores = df.groupby('PracticeSport')['ReadingScore'].mean()\n",
    "highest_scoring = average_scores.idxmax()\n",
    "print(highest_scoring)\n",
    "print(average_scores) "
   ]
  },
  {
   "cell_type": "code",
   "execution_count": 37,
   "id": "a55b2f6e-11f4-4e17-b32a-7549d79188c1",
   "metadata": {},
   "outputs": [
    {
     "name": "stdout",
     "output_type": "stream",
     "text": [
      "16145\n"
     ]
    }
   ],
   "source": [
    "# 14. Скільки учнів користується шкільним автобусом, щоб дістатися до школи?\n",
    "count = df[df['TransportMeans'] == 'school_bus'].shape[0]\n",
    "print(count)"
   ]
  },
  {
   "cell_type": "code",
   "execution_count": 39,
   "id": "1eb163d9-f1cc-4713-9203-d83ba9d8dbfb",
   "metadata": {},
   "outputs": [
    {
     "name": "stdout",
     "output_type": "stream",
     "text": [
      "11362\n"
     ]
    }
   ],
   "source": [
    "# 15. Скільки учнів користується приватним транспортом, щоб дістатися до школи?\n",
    "count = df[df['TransportMeans'] == 'private'].shape[0]\n",
    "print(count)"
   ]
  },
  {
   "cell_type": "code",
   "execution_count": 40,
   "id": "3a1716bf-4171-4b1c-99da-381826657f0c",
   "metadata": {},
   "outputs": [
    {
     "data": {
      "text/plain": [
       "array(['none', nan, 'completed'], dtype=object)"
      ]
     },
     "execution_count": 40,
     "metadata": {},
     "output_type": "execute_result"
    }
   ],
   "source": [
    "df['TestPrep'].unique()"
   ]
  },
  {
   "cell_type": "code",
   "execution_count": 58,
   "id": "169ce606-1618-4c3d-886a-6447f7a1de7a",
   "metadata": {},
   "outputs": [
    {
     "name": "stdout",
     "output_type": "stream",
     "text": [
      "(19243, 33)\n",
      "(19243,)\n"
     ]
    }
   ],
   "source": [
    "# Передбачте, чи завершив студент курс підготовки до іспиту, на основі його демографічних та академічних даних.\n",
    "# Gender, EthnicGroup, ParentEduc, LunchType, ParentMaritalStatus, \n",
    "# PracticeSport, IsFirstChild, NrSiblings, TransportMeans, WklyStudyHours, MathScore, ReadingScore, WritingScore\n",
    "# Результат: TestPrep\n",
    "df_cleaned = df.dropna()\n",
    "\n",
    "num_attribs = [\"NrSiblings\", \"MathScore\", \"ReadingScore\", \"WritingScore\"]\n",
    "cat_attribs = [\"Gender\", \"EthnicGroup\", \"ParentEduc\", \"LunchType\", \"ParentMaritalStatus\", \n",
    "               \"PracticeSport\", \"IsFirstChild\", \"TransportMeans\", \"WklyStudyHours\"]\n",
    "\n",
    "num_pipeline = Pipeline([\n",
    "        ('imputer', SimpleImputer(strategy=\"median\")),\n",
    "        ('std_scaler', StandardScaler()),\n",
    "    ])\n",
    "\n",
    "full_pipeline = ColumnTransformer([\n",
    "        (\"num\", num_pipeline, num_attribs),\n",
    "        (\"cat\", OneHotEncoder(), cat_attribs),\n",
    "    ])\n",
    "\n",
    "input_transformed = full_pipeline.fit_transform(df_cleaned)\n",
    "labels = np.array([1 if x == \"completed\" else 0 for x in df_cleaned[\"TestPrep\"]])\n",
    "\n",
    "print(input_transformed.shape)\n",
    "print(labels.shape)\n",
    "\n"
   ]
  },
  {
   "cell_type": "code",
   "execution_count": 59,
   "id": "613ce75e-e119-4d07-8114-08d2bc86c6dd",
   "metadata": {},
   "outputs": [
    {
     "name": "stdout",
     "output_type": "stream",
     "text": [
      "(13470, 33)\n",
      "(13470,)\n"
     ]
    }
   ],
   "source": [
    "# Split data\n",
    "from sklearn.model_selection import train_test_split\n",
    "\n",
    "X_train, X_test, y_train, y_test = train_test_split(input_transformed, labels, test_size=0.3, random_state=42)\n",
    "print(X_train.shape)\n",
    "print(y_train.shape)"
   ]
  },
  {
   "cell_type": "code",
   "execution_count": 63,
   "id": "12037e20-03e4-4b32-825d-5fe3cff6f1a7",
   "metadata": {},
   "outputs": [
    {
     "name": "stdout",
     "output_type": "stream",
     "text": [
      "Fitting 3 folds for each of 594 candidates, totalling 1782 fits\n"
     ]
    },
    {
     "data": {
      "text/html": [
       "<style>#sk-container-id-3 {color: black;background-color: white;}#sk-container-id-3 pre{padding: 0;}#sk-container-id-3 div.sk-toggleable {background-color: white;}#sk-container-id-3 label.sk-toggleable__label {cursor: pointer;display: block;width: 100%;margin-bottom: 0;padding: 0.3em;box-sizing: border-box;text-align: center;}#sk-container-id-3 label.sk-toggleable__label-arrow:before {content: \"▸\";float: left;margin-right: 0.25em;color: #696969;}#sk-container-id-3 label.sk-toggleable__label-arrow:hover:before {color: black;}#sk-container-id-3 div.sk-estimator:hover label.sk-toggleable__label-arrow:before {color: black;}#sk-container-id-3 div.sk-toggleable__content {max-height: 0;max-width: 0;overflow: hidden;text-align: left;background-color: #f0f8ff;}#sk-container-id-3 div.sk-toggleable__content pre {margin: 0.2em;color: black;border-radius: 0.25em;background-color: #f0f8ff;}#sk-container-id-3 input.sk-toggleable__control:checked~div.sk-toggleable__content {max-height: 200px;max-width: 100%;overflow: auto;}#sk-container-id-3 input.sk-toggleable__control:checked~label.sk-toggleable__label-arrow:before {content: \"▾\";}#sk-container-id-3 div.sk-estimator input.sk-toggleable__control:checked~label.sk-toggleable__label {background-color: #d4ebff;}#sk-container-id-3 div.sk-label input.sk-toggleable__control:checked~label.sk-toggleable__label {background-color: #d4ebff;}#sk-container-id-3 input.sk-hidden--visually {border: 0;clip: rect(1px 1px 1px 1px);clip: rect(1px, 1px, 1px, 1px);height: 1px;margin: -1px;overflow: hidden;padding: 0;position: absolute;width: 1px;}#sk-container-id-3 div.sk-estimator {font-family: monospace;background-color: #f0f8ff;border: 1px dotted black;border-radius: 0.25em;box-sizing: border-box;margin-bottom: 0.5em;}#sk-container-id-3 div.sk-estimator:hover {background-color: #d4ebff;}#sk-container-id-3 div.sk-parallel-item::after {content: \"\";width: 100%;border-bottom: 1px solid gray;flex-grow: 1;}#sk-container-id-3 div.sk-label:hover label.sk-toggleable__label {background-color: #d4ebff;}#sk-container-id-3 div.sk-serial::before {content: \"\";position: absolute;border-left: 1px solid gray;box-sizing: border-box;top: 0;bottom: 0;left: 50%;z-index: 0;}#sk-container-id-3 div.sk-serial {display: flex;flex-direction: column;align-items: center;background-color: white;padding-right: 0.2em;padding-left: 0.2em;position: relative;}#sk-container-id-3 div.sk-item {position: relative;z-index: 1;}#sk-container-id-3 div.sk-parallel {display: flex;align-items: stretch;justify-content: center;background-color: white;position: relative;}#sk-container-id-3 div.sk-item::before, #sk-container-id-3 div.sk-parallel-item::before {content: \"\";position: absolute;border-left: 1px solid gray;box-sizing: border-box;top: 0;bottom: 0;left: 50%;z-index: -1;}#sk-container-id-3 div.sk-parallel-item {display: flex;flex-direction: column;z-index: 1;position: relative;background-color: white;}#sk-container-id-3 div.sk-parallel-item:first-child::after {align-self: flex-end;width: 50%;}#sk-container-id-3 div.sk-parallel-item:last-child::after {align-self: flex-start;width: 50%;}#sk-container-id-3 div.sk-parallel-item:only-child::after {width: 0;}#sk-container-id-3 div.sk-dashed-wrapped {border: 1px dashed gray;margin: 0 0.4em 0.5em 0.4em;box-sizing: border-box;padding-bottom: 0.4em;background-color: white;}#sk-container-id-3 div.sk-label label {font-family: monospace;font-weight: bold;display: inline-block;line-height: 1.2em;}#sk-container-id-3 div.sk-label-container {text-align: center;}#sk-container-id-3 div.sk-container {/* jupyter's `normalize.less` sets `[hidden] { display: none; }` but bootstrap.min.css set `[hidden] { display: none !important; }` so we also need the `!important` here to be able to override the default hidden behavior on the sphinx rendered scikit-learn.org. See: https://github.com/scikit-learn/scikit-learn/issues/21755 */display: inline-block !important;position: relative;}#sk-container-id-3 div.sk-text-repr-fallback {display: none;}</style><div id=\"sk-container-id-3\" class=\"sk-top-container\"><div class=\"sk-text-repr-fallback\"><pre>GridSearchCV(cv=3, estimator=DecisionTreeClassifier(random_state=42),\n",
       "             param_grid={&#x27;max_leaf_nodes&#x27;: [2, 3, 4, 5, 6, 7, 8, 9, 10, 11, 12,\n",
       "                                            13, 14, 15, 16, 17, 18, 19, 20, 21,\n",
       "                                            22, 23, 24, 25, 26, 27, 28, 29, 30,\n",
       "                                            31, ...],\n",
       "                         &#x27;min_samples_split&#x27;: [2, 3, 4]},\n",
       "             verbose=1)</pre><b>In a Jupyter environment, please rerun this cell to show the HTML representation or trust the notebook. <br />On GitHub, the HTML representation is unable to render, please try loading this page with nbviewer.org.</b></div><div class=\"sk-container\" hidden><div class=\"sk-item sk-dashed-wrapped\"><div class=\"sk-label-container\"><div class=\"sk-label sk-toggleable\"><input class=\"sk-toggleable__control sk-hidden--visually\" id=\"sk-estimator-id-5\" type=\"checkbox\" ><label for=\"sk-estimator-id-5\" class=\"sk-toggleable__label sk-toggleable__label-arrow\">GridSearchCV</label><div class=\"sk-toggleable__content\"><pre>GridSearchCV(cv=3, estimator=DecisionTreeClassifier(random_state=42),\n",
       "             param_grid={&#x27;max_leaf_nodes&#x27;: [2, 3, 4, 5, 6, 7, 8, 9, 10, 11, 12,\n",
       "                                            13, 14, 15, 16, 17, 18, 19, 20, 21,\n",
       "                                            22, 23, 24, 25, 26, 27, 28, 29, 30,\n",
       "                                            31, ...],\n",
       "                         &#x27;min_samples_split&#x27;: [2, 3, 4]},\n",
       "             verbose=1)</pre></div></div></div><div class=\"sk-parallel\"><div class=\"sk-parallel-item\"><div class=\"sk-item\"><div class=\"sk-label-container\"><div class=\"sk-label sk-toggleable\"><input class=\"sk-toggleable__control sk-hidden--visually\" id=\"sk-estimator-id-6\" type=\"checkbox\" ><label for=\"sk-estimator-id-6\" class=\"sk-toggleable__label sk-toggleable__label-arrow\">estimator: DecisionTreeClassifier</label><div class=\"sk-toggleable__content\"><pre>DecisionTreeClassifier(random_state=42)</pre></div></div></div><div class=\"sk-serial\"><div class=\"sk-item\"><div class=\"sk-estimator sk-toggleable\"><input class=\"sk-toggleable__control sk-hidden--visually\" id=\"sk-estimator-id-7\" type=\"checkbox\" ><label for=\"sk-estimator-id-7\" class=\"sk-toggleable__label sk-toggleable__label-arrow\">DecisionTreeClassifier</label><div class=\"sk-toggleable__content\"><pre>DecisionTreeClassifier(random_state=42)</pre></div></div></div></div></div></div></div></div></div></div>"
      ],
      "text/plain": [
       "GridSearchCV(cv=3, estimator=DecisionTreeClassifier(random_state=42),\n",
       "             param_grid={'max_leaf_nodes': [2, 3, 4, 5, 6, 7, 8, 9, 10, 11, 12,\n",
       "                                            13, 14, 15, 16, 17, 18, 19, 20, 21,\n",
       "                                            22, 23, 24, 25, 26, 27, 28, 29, 30,\n",
       "                                            31, ...],\n",
       "                         'min_samples_split': [2, 3, 4]},\n",
       "             verbose=1)"
      ]
     },
     "execution_count": 63,
     "metadata": {},
     "output_type": "execute_result"
    }
   ],
   "source": [
    "from sklearn.model_selection import GridSearchCV\n",
    "from sklearn.tree import DecisionTreeClassifier\n",
    "\n",
    "params = {'max_leaf_nodes': list(range(2, 200)), 'min_samples_split': [2, 3, 4]}\n",
    "grid_search_cv = GridSearchCV(DecisionTreeClassifier(random_state=42), params, verbose=1, cv=3)\n",
    "\n",
    "grid_search_cv.fit(X_train, y_train)"
   ]
  },
  {
   "cell_type": "code",
   "execution_count": 64,
   "id": "db4bfe8d-4696-4268-813f-0042584be2f2",
   "metadata": {},
   "outputs": [
    {
     "data": {
      "text/html": [
       "<style>#sk-container-id-4 {color: black;background-color: white;}#sk-container-id-4 pre{padding: 0;}#sk-container-id-4 div.sk-toggleable {background-color: white;}#sk-container-id-4 label.sk-toggleable__label {cursor: pointer;display: block;width: 100%;margin-bottom: 0;padding: 0.3em;box-sizing: border-box;text-align: center;}#sk-container-id-4 label.sk-toggleable__label-arrow:before {content: \"▸\";float: left;margin-right: 0.25em;color: #696969;}#sk-container-id-4 label.sk-toggleable__label-arrow:hover:before {color: black;}#sk-container-id-4 div.sk-estimator:hover label.sk-toggleable__label-arrow:before {color: black;}#sk-container-id-4 div.sk-toggleable__content {max-height: 0;max-width: 0;overflow: hidden;text-align: left;background-color: #f0f8ff;}#sk-container-id-4 div.sk-toggleable__content pre {margin: 0.2em;color: black;border-radius: 0.25em;background-color: #f0f8ff;}#sk-container-id-4 input.sk-toggleable__control:checked~div.sk-toggleable__content {max-height: 200px;max-width: 100%;overflow: auto;}#sk-container-id-4 input.sk-toggleable__control:checked~label.sk-toggleable__label-arrow:before {content: \"▾\";}#sk-container-id-4 div.sk-estimator input.sk-toggleable__control:checked~label.sk-toggleable__label {background-color: #d4ebff;}#sk-container-id-4 div.sk-label input.sk-toggleable__control:checked~label.sk-toggleable__label {background-color: #d4ebff;}#sk-container-id-4 input.sk-hidden--visually {border: 0;clip: rect(1px 1px 1px 1px);clip: rect(1px, 1px, 1px, 1px);height: 1px;margin: -1px;overflow: hidden;padding: 0;position: absolute;width: 1px;}#sk-container-id-4 div.sk-estimator {font-family: monospace;background-color: #f0f8ff;border: 1px dotted black;border-radius: 0.25em;box-sizing: border-box;margin-bottom: 0.5em;}#sk-container-id-4 div.sk-estimator:hover {background-color: #d4ebff;}#sk-container-id-4 div.sk-parallel-item::after {content: \"\";width: 100%;border-bottom: 1px solid gray;flex-grow: 1;}#sk-container-id-4 div.sk-label:hover label.sk-toggleable__label {background-color: #d4ebff;}#sk-container-id-4 div.sk-serial::before {content: \"\";position: absolute;border-left: 1px solid gray;box-sizing: border-box;top: 0;bottom: 0;left: 50%;z-index: 0;}#sk-container-id-4 div.sk-serial {display: flex;flex-direction: column;align-items: center;background-color: white;padding-right: 0.2em;padding-left: 0.2em;position: relative;}#sk-container-id-4 div.sk-item {position: relative;z-index: 1;}#sk-container-id-4 div.sk-parallel {display: flex;align-items: stretch;justify-content: center;background-color: white;position: relative;}#sk-container-id-4 div.sk-item::before, #sk-container-id-4 div.sk-parallel-item::before {content: \"\";position: absolute;border-left: 1px solid gray;box-sizing: border-box;top: 0;bottom: 0;left: 50%;z-index: -1;}#sk-container-id-4 div.sk-parallel-item {display: flex;flex-direction: column;z-index: 1;position: relative;background-color: white;}#sk-container-id-4 div.sk-parallel-item:first-child::after {align-self: flex-end;width: 50%;}#sk-container-id-4 div.sk-parallel-item:last-child::after {align-self: flex-start;width: 50%;}#sk-container-id-4 div.sk-parallel-item:only-child::after {width: 0;}#sk-container-id-4 div.sk-dashed-wrapped {border: 1px dashed gray;margin: 0 0.4em 0.5em 0.4em;box-sizing: border-box;padding-bottom: 0.4em;background-color: white;}#sk-container-id-4 div.sk-label label {font-family: monospace;font-weight: bold;display: inline-block;line-height: 1.2em;}#sk-container-id-4 div.sk-label-container {text-align: center;}#sk-container-id-4 div.sk-container {/* jupyter's `normalize.less` sets `[hidden] { display: none; }` but bootstrap.min.css set `[hidden] { display: none !important; }` so we also need the `!important` here to be able to override the default hidden behavior on the sphinx rendered scikit-learn.org. See: https://github.com/scikit-learn/scikit-learn/issues/21755 */display: inline-block !important;position: relative;}#sk-container-id-4 div.sk-text-repr-fallback {display: none;}</style><div id=\"sk-container-id-4\" class=\"sk-top-container\"><div class=\"sk-text-repr-fallback\"><pre>DecisionTreeClassifier(max_leaf_nodes=90, random_state=42)</pre><b>In a Jupyter environment, please rerun this cell to show the HTML representation or trust the notebook. <br />On GitHub, the HTML representation is unable to render, please try loading this page with nbviewer.org.</b></div><div class=\"sk-container\" hidden><div class=\"sk-item\"><div class=\"sk-estimator sk-toggleable\"><input class=\"sk-toggleable__control sk-hidden--visually\" id=\"sk-estimator-id-8\" type=\"checkbox\" checked><label for=\"sk-estimator-id-8\" class=\"sk-toggleable__label sk-toggleable__label-arrow\">DecisionTreeClassifier</label><div class=\"sk-toggleable__content\"><pre>DecisionTreeClassifier(max_leaf_nodes=90, random_state=42)</pre></div></div></div></div></div>"
      ],
      "text/plain": [
       "DecisionTreeClassifier(max_leaf_nodes=90, random_state=42)"
      ]
     },
     "execution_count": 64,
     "metadata": {},
     "output_type": "execute_result"
    }
   ],
   "source": [
    "grid_search_cv.best_estimator_"
   ]
  },
  {
   "cell_type": "code",
   "execution_count": 65,
   "id": "665663a6-4534-4b55-b92f-f3cd2c574c9a",
   "metadata": {},
   "outputs": [
    {
     "data": {
      "text/plain": [
       "0.7110687684046423"
      ]
     },
     "execution_count": 65,
     "metadata": {},
     "output_type": "execute_result"
    }
   ],
   "source": [
    "from sklearn.metrics import accuracy_score\n",
    "\n",
    "y_pred = grid_search_cv.predict(X_test)\n",
    "accuracy_score(y_test, y_pred)"
   ]
  },
  {
   "cell_type": "code",
   "execution_count": null,
   "id": "8790d57d-d412-42e5-8fb8-ee13ab151240",
   "metadata": {},
   "outputs": [],
   "source": []
  }
 ],
 "metadata": {
  "kernelspec": {
   "display_name": "Python 3 (ipykernel)",
   "language": "python",
   "name": "python3"
  },
  "language_info": {
   "codemirror_mode": {
    "name": "ipython",
    "version": 3
   },
   "file_extension": ".py",
   "mimetype": "text/x-python",
   "name": "python",
   "nbconvert_exporter": "python",
   "pygments_lexer": "ipython3",
   "version": "3.11.7"
  }
 },
 "nbformat": 4,
 "nbformat_minor": 5
}
