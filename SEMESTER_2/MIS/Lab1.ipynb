{
 "cells": [
  {
   "cell_type": "markdown",
   "id": "81f741b4",
   "metadata": {},
   "source": [
    "# Буркіна-Фасо\n",
    "\n",
    "## Площа\n",
    "Буркіна-Фасо має площу приблизно 274,200 кв. км.\n",
    "\n",
    "## Населення\n",
    "Оцінюється близько 21 мільйона чоловік.\n",
    "\n",
    "## Державний устрій\n",
    "Буркіна-Фасо - багатонаціональна країна з президентсько-парламентською формою уряду. \n",
    "\n",
    "## Видатні Персоналії\n",
    "- *Томас Санкара*: Перший президент Буркіна-Фасо, відомий своєю реформаторською програмою.\n",
    "- *Блейз Компаоре*: Другий президент, відіграв важливу роль у політиці країни.\n",
    "- - *Блейз Компаоре*: Другий президент\n",
    "- - *Блейз Компаоре*: Другий президент\n",
    "- - - *Блейз Компаоре*: Другий президент\n",
    "\n",
    "## Пам'ятки культури та природи\n",
    "1. **Комплекс руїн Лоропе́ни**: Археологічний об'єкт ЮНЕСКО, свідчення стародавніх цивілізацій.\n",
    "2. **Нценго-Луробо Вільна природна область**: Заповідник із різноманітною флорою та фауною.\n",
    "\n",
    "## Флаг\n",
    "Додатково, ви можете переглянути [флаг Буркіна-Фасо](https://en.wikipedia.org/wiki/File:Flag_of_Burkina_Faso.svg) за допомогою гіперпосилання.\n",
    "\n",
    "![Флаг](https://upload.wikimedia.org/wikipedia/commons/3/31/Flag_of_Burkina_Faso.svg)\n",
    "\n",
    "|TEST| TEST| TEST|\n",
    "|---------------|----------|----------|\n",
    "|1|2|3|\n",
    "|1|2|3|\n",
    "|1|2|3|\n",
    "|1|2|3|\n",
    "\n",
    "<div style=\"border: 1px solid black; padding: 10px;\">\n",
    "Це текст в рамці\n",
    "</div>\n",
    "\n"
   ]
  },
  {
   "cell_type": "code",
   "execution_count": 16,
   "id": "b25700d8",
   "metadata": {},
   "outputs": [
    {
     "data": {
      "text/html": [
       "<div style=\"width: 200px; height: 100px;\">\n",
       "    <svg xmlns=\"http://www.w3.org/2000/svg\" viewBox=\"0 0 9 6\">\n",
       "  <path d=\"m0 0h9v6H0\" fill=\"#e22\"/>\n",
       "  <path d=\"m0 3h9v3H0\" fill=\"#094\"/>\n",
       "  <path d=\"m3.9 3.8 .6-1.8 .6 1.8-1.54-1.1h1.9\" fill=\"#fd0\"/>\n",
       "</svg>\n",
       "</div>\n"
      ],
      "text/plain": [
       "<IPython.core.display.HTML object>"
      ]
     },
     "metadata": {},
     "output_type": "display_data"
    }
   ],
   "source": [
    "%%HTML\n",
    "<div style=\"width: 200px; height: 100px;\">\n",
    "    <svg xmlns=\"http://www.w3.org/2000/svg\" viewBox=\"0 0 9 6\">\n",
    "  <path d=\"m0 0h9v6H0\" fill=\"#e22\"/>\n",
    "  <path d=\"m0 3h9v3H0\" fill=\"#094\"/>\n",
    "  <path d=\"m3.9 3.8 .6-1.8 .6 1.8-1.54-1.1h1.9\" fill=\"#fd0\"/>\n",
    "</svg>\n",
    "</div>"
   ]
  },
  {
   "cell_type": "code",
   "execution_count": 17,
   "id": "9a35b45f",
   "metadata": {},
   "outputs": [
    {
     "data": {
      "text/plain": [
       "4"
      ]
     },
     "execution_count": 17,
     "metadata": {},
     "output_type": "execute_result"
    }
   ],
   "source": [
    "def gcd(a: int, b: int):\n",
    "    \n",
    "    if type(a) is not int or type(b) is not int:\n",
    "        print(\"BAD TYPE\")\n",
    "        return -1\n",
    "    \n",
    "    while a != b and a > 0 and b > 0:\n",
    "        if a > b:\n",
    "            a %= b\n",
    "        else:\n",
    "            b %= a\n",
    "    return a\n",
    "\n",
    "gcd(36, 16)\n"
   ]
  },
  {
   "cell_type": "code",
   "execution_count": 18,
   "id": "a061e7b5",
   "metadata": {},
   "outputs": [
    {
     "name": "stdout",
     "output_type": "stream",
     "text": [
      "BAD TYPE\n"
     ]
    },
    {
     "data": {
      "text/plain": [
       "-1"
      ]
     },
     "execution_count": 18,
     "metadata": {},
     "output_type": "execute_result"
    }
   ],
   "source": [
    "gcd(36, \"asd\")"
   ]
  },
  {
   "cell_type": "code",
   "execution_count": null,
   "id": "f9720a0b",
   "metadata": {},
   "outputs": [],
   "source": []
  }
 ],
 "metadata": {
  "kernelspec": {
   "display_name": "Python 3 (ipykernel)",
   "language": "python",
   "name": "python3"
  },
  "language_info": {
   "codemirror_mode": {
    "name": "ipython",
    "version": 3
   },
   "file_extension": ".py",
   "mimetype": "text/x-python",
   "name": "python",
   "nbconvert_exporter": "python",
   "pygments_lexer": "ipython3",
   "version": "3.11.5"
  }
 },
 "nbformat": 4,
 "nbformat_minor": 5
}
